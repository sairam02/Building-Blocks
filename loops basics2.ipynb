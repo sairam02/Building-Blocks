{
 "cells": [
  {
   "cell_type": "code",
   "execution_count": 1,
   "id": "df4a1933",
   "metadata": {},
   "outputs": [],
   "source": [
    "s = \"this is basic python class\""
   ]
  },
  {
   "cell_type": "code",
   "execution_count": 2,
   "id": "fb7e80fe",
   "metadata": {},
   "outputs": [
    {
     "data": {
      "text/plain": [
       "26"
      ]
     },
     "execution_count": 2,
     "metadata": {},
     "output_type": "execute_result"
    }
   ],
   "source": [
    "len(s)"
   ]
  },
  {
   "cell_type": "code",
   "execution_count": 5,
   "id": "f3edafff",
   "metadata": {},
   "outputs": [
    {
     "name": "stdout",
     "output_type": "stream",
     "text": [
      "26\n"
     ]
    }
   ],
   "source": [
    "count = 0\n",
    "for i in s :\n",
    "    #count = count +1\n",
    "    count+=1\n",
    "print(count)"
   ]
  },
  {
   "cell_type": "code",
   "execution_count": 6,
   "id": "17639325",
   "metadata": {},
   "outputs": [
    {
     "data": {
      "text/plain": [
       "'ssalc nohtyp cisab si siht'"
      ]
     },
     "execution_count": 6,
     "metadata": {},
     "output_type": "execute_result"
    }
   ],
   "source": [
    "s[::-1]"
   ]
  },
  {
   "cell_type": "code",
   "execution_count": 7,
   "id": "28c8b22d",
   "metadata": {},
   "outputs": [
    {
     "name": "stdout",
     "output_type": "stream",
     "text": [
      "s\n",
      "s\n",
      "a\n",
      "l\n",
      "c\n",
      " \n",
      "n\n",
      "o\n",
      "h\n",
      "t\n",
      "y\n",
      "p\n",
      " \n",
      "c\n",
      "i\n",
      "s\n",
      "a\n",
      "b\n",
      " \n",
      "s\n",
      "i\n",
      " \n",
      "s\n",
      "i\n",
      "h\n",
      "t\n"
     ]
    }
   ],
   "source": [
    "for i in range(len(s)-1, -1, -1):\n",
    "    print(s[i])"
   ]
  },
  {
   "cell_type": "code",
   "execution_count": 9,
   "id": "dad6f51f",
   "metadata": {},
   "outputs": [
    {
     "name": "stdout",
     "output_type": "stream",
     "text": [
      "s s a l c   n o h t y p   c i s a b   s i   s i h t "
     ]
    }
   ],
   "source": [
    "i = len(s)-1\n",
    "while(i>=0):\n",
    "    print(s[i],end=\" \")\n",
    "    i=i-1"
   ]
  },
  {
   "cell_type": "code",
   "execution_count": 12,
   "id": "e609a75a",
   "metadata": {},
   "outputs": [
    {
     "name": "stdout",
     "output_type": "stream",
     "text": [
      "vowel i\n",
      "not vowel n\n",
      "vowel e\n",
      "vowel u\n",
      "not vowel r\n",
      "vowel o\n",
      "not vowel n\n"
     ]
    }
   ],
   "source": [
    "s = \"ineuron\"\n",
    "v = \"AaEeIiOoUu\"\n",
    "\n",
    "for i in s:\n",
    "    if i in v:\n",
    "        print(\"vowel\",i)\n",
    "    else:\n",
    "        print(\"not vowel\",i)"
   ]
  },
  {
   "cell_type": "code",
   "execution_count": 13,
   "id": "138c3df9",
   "metadata": {},
   "outputs": [
    {
     "name": "stdout",
     "output_type": "stream",
     "text": [
      "tenet\n",
      "palindrome tenet\n"
     ]
    }
   ],
   "source": [
    "\"tenet\"\n",
    "\"malayalam\"\n",
    "\"eye\"\n",
    "\n",
    "s = input()\n",
    "v = s[::-1]\n",
    "\n",
    "if s == v:\n",
    "    print(\"palindrome\",s)\n",
    "else:\n",
    "    print(\"not a palindrome\",s)"
   ]
  },
  {
   "cell_type": "code",
   "execution_count": 20,
   "id": "7b8ac40e",
   "metadata": {},
   "outputs": [
    {
     "name": "stdout",
     "output_type": "stream",
     "text": [
      "palindrome\n"
     ]
    }
   ],
   "source": [
    "word = \"tnent\"\n",
    "for i in range(len(word)):\n",
    "    if word[i] != word[len(word)-i-1]:\n",
    "        print(word,\"not a palindrome\")\n",
    "        break\n",
    "else:\n",
    "    print(\"palindrome\")\n",
    "        "
   ]
  },
  {
   "cell_type": "code",
   "execution_count": null,
   "id": "3a4f8f5f",
   "metadata": {},
   "outputs": [],
   "source": [
    "s = input()\n",
    "f=\"\"\n",
    "i=len(s)-1\n",
    "\n",
    "while(i>=0):\n",
    "    f=f+s[i]"
   ]
  },
  {
   "cell_type": "code",
   "execution_count": 21,
   "id": "81fc1d5f",
   "metadata": {},
   "outputs": [],
   "source": [
    "d = {\"india\":\"IN\",\n",
    "    \"canada\":\"CA\",\n",
    "    \"china\":\"CH\",\n",
    "    \"united state\":\"US\"\n",
    "    }"
   ]
  },
  {
   "cell_type": "code",
   "execution_count": 26,
   "id": "c2450050",
   "metadata": {},
   "outputs": [
    {
     "data": {
      "text/plain": [
       "True"
      ]
     },
     "execution_count": 26,
     "metadata": {},
     "output_type": "execute_result"
    }
   ],
   "source": [
    "\"india\" in d"
   ]
  },
  {
   "cell_type": "code",
   "execution_count": 27,
   "id": "2d8f912e",
   "metadata": {},
   "outputs": [
    {
     "ename": "TypeError",
     "evalue": "object of type 'builtin_function_or_method' has no len()",
     "output_type": "error",
     "traceback": [
      "\u001b[1;31m---------------------------------------------------------------------------\u001b[0m",
      "\u001b[1;31mTypeError\u001b[0m                                 Traceback (most recent call last)",
      "\u001b[1;32mC:\\Users\\SAIRAM~1\\AppData\\Local\\Temp/ipykernel_20240/1666776567.py\u001b[0m in \u001b[0;36m<module>\u001b[1;34m\u001b[0m\n\u001b[0;32m      1\u001b[0m \u001b[0ms\u001b[0m \u001b[1;33m=\u001b[0m \u001b[1;33m[\u001b[0m\u001b[1;33m]\u001b[0m\u001b[1;33m\u001b[0m\u001b[1;33m\u001b[0m\u001b[0m\n\u001b[0;32m      2\u001b[0m \u001b[0mr\u001b[0m \u001b[1;33m=\u001b[0m \u001b[1;33m[\u001b[0m\u001b[1;33m]\u001b[0m\u001b[1;33m\u001b[0m\u001b[1;33m\u001b[0m\u001b[0m\n\u001b[1;32m----> 3\u001b[1;33m \u001b[1;32mif\u001b[0m \u001b[0mlen\u001b[0m\u001b[1;33m(\u001b[0m\u001b[0md\u001b[0m\u001b[1;33m.\u001b[0m\u001b[0mkeys\u001b[0m\u001b[1;33m)\u001b[0m\u001b[1;33m==\u001b[0m\u001b[1;36m5\u001b[0m\u001b[1;33m:\u001b[0m\u001b[1;33m\u001b[0m\u001b[1;33m\u001b[0m\u001b[0m\n\u001b[0m\u001b[0;32m      4\u001b[0m     \u001b[0ms\u001b[0m\u001b[1;33m.\u001b[0m\u001b[0mappend\u001b[0m\u001b[1;33m[\u001b[0m\u001b[0ms\u001b[0m\u001b[1;33m]\u001b[0m\u001b[1;33m\u001b[0m\u001b[1;33m\u001b[0m\u001b[0m\n\u001b[0;32m      5\u001b[0m \u001b[1;32melse\u001b[0m\u001b[1;33m:\u001b[0m\u001b[1;33m\u001b[0m\u001b[1;33m\u001b[0m\u001b[0m\n",
      "\u001b[1;31mTypeError\u001b[0m: object of type 'builtin_function_or_method' has no len()"
     ]
    }
   ],
   "source": [
    "s = []\n",
    "r = []\n",
    "if len(d.keys)==5:\n",
    "    s.append[s]\n",
    "else:\n",
    "    r.append[r]"
   ]
  },
  {
   "cell_type": "code",
   "execution_count": 31,
   "id": "4c9b0194",
   "metadata": {},
   "outputs": [],
   "source": [
    "L_greater = []\n",
    "l_smaller = []\n",
    "for i in d:\n",
    "    if len(i)<=5 :\n",
    "        l_smaller.append(i)\n",
    "    else:\n",
    "        L_greater.append(i)"
   ]
  },
  {
   "cell_type": "code",
   "execution_count": 32,
   "id": "90bb37f6",
   "metadata": {},
   "outputs": [
    {
     "data": {
      "text/plain": [
       "['canada', 'united state']"
      ]
     },
     "execution_count": 32,
     "metadata": {},
     "output_type": "execute_result"
    }
   ],
   "source": [
    "L_greater"
   ]
  },
  {
   "cell_type": "code",
   "execution_count": 33,
   "id": "712a5811",
   "metadata": {},
   "outputs": [
    {
     "data": {
      "text/plain": [
       "['india', 'china']"
      ]
     },
     "execution_count": 33,
     "metadata": {},
     "output_type": "execute_result"
    }
   ],
   "source": [
    "l_smaller"
   ]
  },
  {
   "cell_type": "code",
   "execution_count": 35,
   "id": "3aa907d0",
   "metadata": {},
   "outputs": [],
   "source": [
    "d_1 = {\"ineuron\":{\n",
    "    \"a\" : 14,\n",
    "    \"b\" : 10,\n",
    "    \"c\" : 4\n",
    "    },\n",
    "       'course': {\n",
    "           \"d\":45,\n",
    "           \"e\":34,\n",
    "           \"f\":1\n",
    "            } \n",
    "      }"
   ]
  },
  {
   "cell_type": "code",
   "execution_count": 47,
   "id": "bacc84d0",
   "metadata": {},
   "outputs": [
    {
     "name": "stdout",
     "output_type": "stream",
     "text": [
      "14\n",
      "45\n"
     ]
    }
   ],
   "source": [
    "#to display the maximum value from nested dictionary\n",
    "lst = []\n",
    "for i in d_1.values():\n",
    "    for j in i.values():\n",
    "        lst.append(j)\n",
    "    print(max(lst))"
   ]
  },
  {
   "cell_type": "code",
   "execution_count": 43,
   "id": "0ad984af",
   "metadata": {},
   "outputs": [
    {
     "name": "stdout",
     "output_type": "stream",
     "text": [
      "14\n",
      "45\n"
     ]
    }
   ],
   "source": [
    "for i in d_1.values():\n",
    "    print(max(i.values()))"
   ]
  },
  {
   "cell_type": "code",
   "execution_count": 44,
   "id": "9b0258a2",
   "metadata": {},
   "outputs": [
    {
     "name": "stdout",
     "output_type": "stream",
     "text": [
      "ineuron\n",
      "14\n",
      "course\n",
      "45\n"
     ]
    }
   ],
   "source": [
    "for i in d_1.keys():\n",
    "    print(i)\n",
    "    print(max(d_1[i].values()))"
   ]
  },
  {
   "cell_type": "code",
   "execution_count": 45,
   "id": "292d5f28",
   "metadata": {},
   "outputs": [
    {
     "name": "stdout",
     "output_type": "stream",
     "text": [
      "14\n",
      "45\n"
     ]
    }
   ],
   "source": [
    "for i in d_1.values():\n",
    "    \n",
    "    mx = 0\n",
    "    for j in i.values():\n",
    "        if mx<j:\n",
    "            mx = j\n",
    "    print(mx)"
   ]
  },
  {
   "cell_type": "code",
   "execution_count": 54,
   "id": "3107bb03",
   "metadata": {},
   "outputs": [],
   "source": [
    "#to display the max value out of the entire dictionary which consists of multiple datastructures\n",
    "d_2 = {\"ineuron\":{\"a\" : 14,\"b\" : 10,\"c\" : 4},'course': {\"d\":45,\"e\":34,\"f\":1}, \"g\": 34, \"h\" :[45,58,21,63], 'i':(45,34,2), 'k':\"ram\"}"
   ]
  },
  {
   "cell_type": "code",
   "execution_count": 62,
   "id": "d152b23e",
   "metadata": {},
   "outputs": [
    {
     "name": "stdout",
     "output_type": "stream",
     "text": [
      "63\n"
     ]
    }
   ],
   "source": [
    "l1 = []\n",
    "for i in d_2.values():\n",
    "    if type(i)==dict:\n",
    "        l1.append(max(i.values()))\n",
    "    elif type(i)==list:\n",
    "        l1.append(max(i))\n",
    "    elif type(i)== tuple:\n",
    "        l1.append(max(i))\n",
    "        print(max(l1))"
   ]
  },
  {
   "cell_type": "code",
   "execution_count": null,
   "id": "51c2ca6d",
   "metadata": {},
   "outputs": [],
   "source": [
    "l"
   ]
  },
  {
   "cell_type": "code",
   "execution_count": null,
   "id": "1537b87c",
   "metadata": {},
   "outputs": [],
   "source": []
  },
  {
   "cell_type": "code",
   "execution_count": null,
   "id": "82c3ce7f",
   "metadata": {},
   "outputs": [],
   "source": []
  },
  {
   "cell_type": "code",
   "execution_count": null,
   "id": "8a906e5e",
   "metadata": {},
   "outputs": [],
   "source": []
  },
  {
   "cell_type": "code",
   "execution_count": null,
   "id": "946f9487",
   "metadata": {},
   "outputs": [],
   "source": []
  },
  {
   "cell_type": "code",
   "execution_count": null,
   "id": "306a68db",
   "metadata": {},
   "outputs": [],
   "source": []
  },
  {
   "cell_type": "code",
   "execution_count": null,
   "id": "72d95e1e",
   "metadata": {},
   "outputs": [],
   "source": []
  },
  {
   "cell_type": "code",
   "execution_count": null,
   "id": "87b40861",
   "metadata": {},
   "outputs": [],
   "source": []
  },
  {
   "cell_type": "code",
   "execution_count": null,
   "id": "b39d02e3",
   "metadata": {},
   "outputs": [],
   "source": []
  },
  {
   "cell_type": "code",
   "execution_count": null,
   "id": "eead4e8c",
   "metadata": {},
   "outputs": [],
   "source": []
  }
 ],
 "metadata": {
  "kernelspec": {
   "display_name": "Python 3 (ipykernel)",
   "language": "python",
   "name": "python3"
  },
  "language_info": {
   "codemirror_mode": {
    "name": "ipython",
    "version": 3
   },
   "file_extension": ".py",
   "mimetype": "text/x-python",
   "name": "python",
   "nbconvert_exporter": "python",
   "pygments_lexer": "ipython3",
   "version": "3.9.7"
  }
 },
 "nbformat": 4,
 "nbformat_minor": 5
}
