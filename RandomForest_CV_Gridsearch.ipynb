{
 "cells": [
  {
   "cell_type": "code",
   "execution_count": 97,
   "metadata": {},
   "outputs": [],
   "source": [
    "### Program : Decisontree + Randfomforest + Cross Validation + gridsearch \n",
    "import os \n",
    "import numpy as np \n",
    "import pandas as pd\n",
    "import sklearn\n",
    "from sklearn.ensemble import RandomForestClassifier\n",
    "from sklearn.ensemble import RandomForestRegressor\n",
    "from sklearn.model_selection import train_test_split\n",
    "from sklearn.metrics import confusion_matrix\n",
    "from sklearn.metrics import accuracy_score\n",
    "from sklearn.model_selection import GridSearchCV\n",
    "import matplotlib.pyplot as plt\n",
    "#import xgboost"
   ]
  },
  {
   "cell_type": "code",
   "execution_count": 98,
   "metadata": {},
   "outputs": [
    {
     "data": {
      "text/plain": [
       "'D:\\\\Data Science - Course\\\\Random Forest'"
      ]
     },
     "execution_count": 98,
     "metadata": {},
     "output_type": "execute_result"
    }
   ],
   "source": [
    "%pwd"
   ]
  },
  {
   "cell_type": "code",
   "execution_count": 99,
   "metadata": {},
   "outputs": [],
   "source": [
    "os.chdir(\"D:\\Data Science - Course\\Random Forest\")"
   ]
  },
  {
   "cell_type": "code",
   "execution_count": 100,
   "metadata": {},
   "outputs": [],
   "source": [
    "chrn = pd.read_csv(\"Churn.csv\")"
   ]
  },
  {
   "cell_type": "code",
   "execution_count": 101,
   "metadata": {},
   "outputs": [
    {
     "data": {
      "text/html": [
       "<div>\n",
       "<style scoped>\n",
       "    .dataframe tbody tr th:only-of-type {\n",
       "        vertical-align: middle;\n",
       "    }\n",
       "\n",
       "    .dataframe tbody tr th {\n",
       "        vertical-align: top;\n",
       "    }\n",
       "\n",
       "    .dataframe thead th {\n",
       "        text-align: right;\n",
       "    }\n",
       "</style>\n",
       "<table border=\"1\" class=\"dataframe\">\n",
       "  <thead>\n",
       "    <tr style=\"text-align: right;\">\n",
       "      <th></th>\n",
       "      <th>Account Length</th>\n",
       "      <th>VMail Message</th>\n",
       "      <th>Day Mins</th>\n",
       "      <th>Eve Mins</th>\n",
       "      <th>Night Mins</th>\n",
       "      <th>Intl Mins</th>\n",
       "      <th>CustServ Calls</th>\n",
       "      <th>Churn</th>\n",
       "      <th>Intl Plan</th>\n",
       "      <th>VMail Plan</th>\n",
       "      <th>...</th>\n",
       "      <th>Day Charge</th>\n",
       "      <th>Eve Calls</th>\n",
       "      <th>Eve Charge</th>\n",
       "      <th>Night Calls</th>\n",
       "      <th>Night Charge</th>\n",
       "      <th>Intl Calls</th>\n",
       "      <th>Intl Charge</th>\n",
       "      <th>State</th>\n",
       "      <th>Area Code</th>\n",
       "      <th>Phone</th>\n",
       "    </tr>\n",
       "  </thead>\n",
       "  <tbody>\n",
       "    <tr>\n",
       "      <th>0</th>\n",
       "      <td>128</td>\n",
       "      <td>25</td>\n",
       "      <td>265.1</td>\n",
       "      <td>197.4</td>\n",
       "      <td>244.7</td>\n",
       "      <td>10.0</td>\n",
       "      <td>1</td>\n",
       "      <td>0</td>\n",
       "      <td>0</td>\n",
       "      <td>1</td>\n",
       "      <td>...</td>\n",
       "      <td>45.07</td>\n",
       "      <td>99</td>\n",
       "      <td>16.78</td>\n",
       "      <td>91</td>\n",
       "      <td>11.01</td>\n",
       "      <td>3</td>\n",
       "      <td>2.70</td>\n",
       "      <td>KS</td>\n",
       "      <td>415</td>\n",
       "      <td>382-4657</td>\n",
       "    </tr>\n",
       "    <tr>\n",
       "      <th>1</th>\n",
       "      <td>107</td>\n",
       "      <td>26</td>\n",
       "      <td>161.6</td>\n",
       "      <td>195.5</td>\n",
       "      <td>254.4</td>\n",
       "      <td>13.7</td>\n",
       "      <td>1</td>\n",
       "      <td>0</td>\n",
       "      <td>0</td>\n",
       "      <td>1</td>\n",
       "      <td>...</td>\n",
       "      <td>27.47</td>\n",
       "      <td>103</td>\n",
       "      <td>16.62</td>\n",
       "      <td>103</td>\n",
       "      <td>11.45</td>\n",
       "      <td>3</td>\n",
       "      <td>3.70</td>\n",
       "      <td>OH</td>\n",
       "      <td>415</td>\n",
       "      <td>371-7191</td>\n",
       "    </tr>\n",
       "    <tr>\n",
       "      <th>2</th>\n",
       "      <td>137</td>\n",
       "      <td>0</td>\n",
       "      <td>243.4</td>\n",
       "      <td>121.2</td>\n",
       "      <td>162.6</td>\n",
       "      <td>12.2</td>\n",
       "      <td>0</td>\n",
       "      <td>0</td>\n",
       "      <td>0</td>\n",
       "      <td>0</td>\n",
       "      <td>...</td>\n",
       "      <td>41.38</td>\n",
       "      <td>110</td>\n",
       "      <td>10.30</td>\n",
       "      <td>104</td>\n",
       "      <td>7.32</td>\n",
       "      <td>5</td>\n",
       "      <td>3.29</td>\n",
       "      <td>NJ</td>\n",
       "      <td>415</td>\n",
       "      <td>358-1921</td>\n",
       "    </tr>\n",
       "    <tr>\n",
       "      <th>3</th>\n",
       "      <td>84</td>\n",
       "      <td>0</td>\n",
       "      <td>299.4</td>\n",
       "      <td>61.9</td>\n",
       "      <td>196.9</td>\n",
       "      <td>6.6</td>\n",
       "      <td>2</td>\n",
       "      <td>0</td>\n",
       "      <td>1</td>\n",
       "      <td>0</td>\n",
       "      <td>...</td>\n",
       "      <td>50.90</td>\n",
       "      <td>88</td>\n",
       "      <td>5.26</td>\n",
       "      <td>89</td>\n",
       "      <td>8.86</td>\n",
       "      <td>7</td>\n",
       "      <td>1.78</td>\n",
       "      <td>OH</td>\n",
       "      <td>408</td>\n",
       "      <td>375-9999</td>\n",
       "    </tr>\n",
       "    <tr>\n",
       "      <th>4</th>\n",
       "      <td>75</td>\n",
       "      <td>0</td>\n",
       "      <td>166.7</td>\n",
       "      <td>148.3</td>\n",
       "      <td>186.9</td>\n",
       "      <td>10.1</td>\n",
       "      <td>3</td>\n",
       "      <td>0</td>\n",
       "      <td>1</td>\n",
       "      <td>0</td>\n",
       "      <td>...</td>\n",
       "      <td>28.34</td>\n",
       "      <td>122</td>\n",
       "      <td>12.61</td>\n",
       "      <td>121</td>\n",
       "      <td>8.41</td>\n",
       "      <td>3</td>\n",
       "      <td>2.73</td>\n",
       "      <td>OK</td>\n",
       "      <td>415</td>\n",
       "      <td>330-6626</td>\n",
       "    </tr>\n",
       "  </tbody>\n",
       "</table>\n",
       "<p>5 rows × 21 columns</p>\n",
       "</div>"
      ],
      "text/plain": [
       "   Account Length  VMail Message  Day Mins  Eve Mins  Night Mins  Intl Mins  \\\n",
       "0             128             25     265.1     197.4       244.7       10.0   \n",
       "1             107             26     161.6     195.5       254.4       13.7   \n",
       "2             137              0     243.4     121.2       162.6       12.2   \n",
       "3              84              0     299.4      61.9       196.9        6.6   \n",
       "4              75              0     166.7     148.3       186.9       10.1   \n",
       "\n",
       "   CustServ Calls  Churn  Intl Plan  VMail Plan    ...     Day Charge  \\\n",
       "0               1      0          0           1    ...          45.07   \n",
       "1               1      0          0           1    ...          27.47   \n",
       "2               0      0          0           0    ...          41.38   \n",
       "3               2      0          1           0    ...          50.90   \n",
       "4               3      0          1           0    ...          28.34   \n",
       "\n",
       "   Eve Calls  Eve Charge  Night Calls  Night Charge  Intl Calls  Intl Charge  \\\n",
       "0         99       16.78           91         11.01           3         2.70   \n",
       "1        103       16.62          103         11.45           3         3.70   \n",
       "2        110       10.30          104          7.32           5         3.29   \n",
       "3         88        5.26           89          8.86           7         1.78   \n",
       "4        122       12.61          121          8.41           3         2.73   \n",
       "\n",
       "   State Area Code     Phone  \n",
       "0     KS       415  382-4657  \n",
       "1     OH       415  371-7191  \n",
       "2     NJ       415  358-1921  \n",
       "3     OH       408  375-9999  \n",
       "4     OK       415  330-6626  \n",
       "\n",
       "[5 rows x 21 columns]"
      ]
     },
     "execution_count": 101,
     "metadata": {},
     "output_type": "execute_result"
    }
   ],
   "source": [
    "chrn.head()"
   ]
  },
  {
   "cell_type": "code",
   "execution_count": 102,
   "metadata": {},
   "outputs": [],
   "source": [
    "## drop the columns that are not required \n",
    "chrn = chrn.drop( [ \"State\", \"Area Code\", \"Phone\"], axis = 1)"
   ]
  },
  {
   "cell_type": "code",
   "execution_count": 103,
   "metadata": {},
   "outputs": [],
   "source": [
    "target = chrn[\"Churn\"]\n",
    "chrn = chrn.drop([\"Churn\"], axis=1)"
   ]
  },
  {
   "cell_type": "code",
   "execution_count": 104,
   "metadata": {},
   "outputs": [],
   "source": [
    "## train and test split\n",
    "x_train, x_test, y_train, y_test = train_test_split( chrn, target, test_size=0.2, random_state=42)"
   ]
  },
  {
   "cell_type": "code",
   "execution_count": 105,
   "metadata": {},
   "outputs": [],
   "source": [
    "## random Forest model \n",
    "rf = RandomForestClassifier()"
   ]
  },
  {
   "cell_type": "code",
   "execution_count": 122,
   "metadata": {},
   "outputs": [],
   "source": [
    "rf = RandomForestClassifier(n_estimators=30,random_state = 123 )"
   ]
  },
  {
   "cell_type": "code",
   "execution_count": 123,
   "metadata": {},
   "outputs": [
    {
     "data": {
      "text/plain": [
       "RandomForestClassifier(bootstrap=True, class_weight=None, criterion='gini',\n",
       "                       max_depth=None, max_features='auto', max_leaf_nodes=None,\n",
       "                       min_impurity_decrease=0.0, min_impurity_split=None,\n",
       "                       min_samples_leaf=1, min_samples_split=2,\n",
       "                       min_weight_fraction_leaf=0.0, n_estimators=30,\n",
       "                       n_jobs=None, oob_score=False, random_state=123,\n",
       "                       verbose=0, warm_start=False)"
      ]
     },
     "execution_count": 123,
     "metadata": {},
     "output_type": "execute_result"
    }
   ],
   "source": [
    "rf.fit( x_train, y_train )"
   ]
  },
  {
   "cell_type": "code",
   "execution_count": 124,
   "metadata": {},
   "outputs": [],
   "source": [
    "y_pred = rf.predict( x_test)"
   ]
  },
  {
   "cell_type": "code",
   "execution_count": 125,
   "metadata": {},
   "outputs": [
    {
     "data": {
      "text/plain": [
       "array([[561,   5],\n",
       "       [ 32,  69]], dtype=int64)"
      ]
     },
     "execution_count": 125,
     "metadata": {},
     "output_type": "execute_result"
    }
   ],
   "source": [
    "confusion_matrix( y_test, y_pred)"
   ]
  },
  {
   "cell_type": "code",
   "execution_count": 110,
   "metadata": {},
   "outputs": [
    {
     "data": {
      "text/plain": [
       "0.922077922077922"
      ]
     },
     "execution_count": 110,
     "metadata": {},
     "output_type": "execute_result"
    }
   ],
   "source": [
    "71/(71+6)"
   ]
  },
  {
   "cell_type": "code",
   "execution_count": 112,
   "metadata": {},
   "outputs": [
    {
     "data": {
      "text/plain": [
       "0.7029702970297029"
      ]
     },
     "execution_count": 112,
     "metadata": {},
     "output_type": "execute_result"
    }
   ],
   "source": [
    "71/(71+30)"
   ]
  },
  {
   "cell_type": "code",
   "execution_count": 113,
   "metadata": {},
   "outputs": [
    {
     "data": {
      "text/plain": [
       "0.7950617283950617"
      ]
     },
     "execution_count": 113,
     "metadata": {},
     "output_type": "execute_result"
    }
   ],
   "source": [
    "2*0.92*0.7/(0.92+0.7)"
   ]
  },
  {
   "cell_type": "code",
   "execution_count": 126,
   "metadata": {},
   "outputs": [
    {
     "data": {
      "text/plain": [
       "array([0.03354334, 0.0248082 , 0.12272104, 0.07830491, 0.03567545,\n",
       "       0.04817332, 0.13158242, 0.07924778, 0.02391197, 0.03188569,\n",
       "       0.14229635, 0.02531616, 0.06025511, 0.03118694, 0.03637706,\n",
       "       0.05629021, 0.03842406])"
      ]
     },
     "execution_count": 126,
     "metadata": {},
     "output_type": "execute_result"
    }
   ],
   "source": [
    "## variable importance of Randomforest model \n",
    "rf.feature_importances_"
   ]
  },
  {
   "cell_type": "code",
   "execution_count": 127,
   "metadata": {},
   "outputs": [],
   "source": [
    "## Sorting variables on the importance \n",
    "import pandas as pd\n",
    "feature_importances = pd.DataFrame(rf.feature_importances_, index = x_train.columns,columns=['importance']).sort_values('importance',  ascending=False)                                                          "
   ]
  },
  {
   "cell_type": "code",
   "execution_count": 128,
   "metadata": {},
   "outputs": [
    {
     "data": {
      "text/html": [
       "<div>\n",
       "<style scoped>\n",
       "    .dataframe tbody tr th:only-of-type {\n",
       "        vertical-align: middle;\n",
       "    }\n",
       "\n",
       "    .dataframe tbody tr th {\n",
       "        vertical-align: top;\n",
       "    }\n",
       "\n",
       "    .dataframe thead th {\n",
       "        text-align: right;\n",
       "    }\n",
       "</style>\n",
       "<table border=\"1\" class=\"dataframe\">\n",
       "  <thead>\n",
       "    <tr style=\"text-align: right;\">\n",
       "      <th></th>\n",
       "      <th>importance</th>\n",
       "    </tr>\n",
       "  </thead>\n",
       "  <tbody>\n",
       "    <tr>\n",
       "      <th>Day Charge</th>\n",
       "      <td>0.142296</td>\n",
       "    </tr>\n",
       "    <tr>\n",
       "      <th>CustServ Calls</th>\n",
       "      <td>0.131582</td>\n",
       "    </tr>\n",
       "    <tr>\n",
       "      <th>Day Mins</th>\n",
       "      <td>0.122721</td>\n",
       "    </tr>\n",
       "    <tr>\n",
       "      <th>Intl Plan</th>\n",
       "      <td>0.079248</td>\n",
       "    </tr>\n",
       "    <tr>\n",
       "      <th>Eve Mins</th>\n",
       "      <td>0.078305</td>\n",
       "    </tr>\n",
       "    <tr>\n",
       "      <th>Eve Charge</th>\n",
       "      <td>0.060255</td>\n",
       "    </tr>\n",
       "    <tr>\n",
       "      <th>Intl Calls</th>\n",
       "      <td>0.056290</td>\n",
       "    </tr>\n",
       "    <tr>\n",
       "      <th>Intl Mins</th>\n",
       "      <td>0.048173</td>\n",
       "    </tr>\n",
       "    <tr>\n",
       "      <th>Intl Charge</th>\n",
       "      <td>0.038424</td>\n",
       "    </tr>\n",
       "    <tr>\n",
       "      <th>Night Charge</th>\n",
       "      <td>0.036377</td>\n",
       "    </tr>\n",
       "    <tr>\n",
       "      <th>Night Mins</th>\n",
       "      <td>0.035675</td>\n",
       "    </tr>\n",
       "    <tr>\n",
       "      <th>Account Length</th>\n",
       "      <td>0.033543</td>\n",
       "    </tr>\n",
       "    <tr>\n",
       "      <th>Day Calls</th>\n",
       "      <td>0.031886</td>\n",
       "    </tr>\n",
       "    <tr>\n",
       "      <th>Night Calls</th>\n",
       "      <td>0.031187</td>\n",
       "    </tr>\n",
       "    <tr>\n",
       "      <th>Eve Calls</th>\n",
       "      <td>0.025316</td>\n",
       "    </tr>\n",
       "    <tr>\n",
       "      <th>VMail Message</th>\n",
       "      <td>0.024808</td>\n",
       "    </tr>\n",
       "    <tr>\n",
       "      <th>VMail Plan</th>\n",
       "      <td>0.023912</td>\n",
       "    </tr>\n",
       "  </tbody>\n",
       "</table>\n",
       "</div>"
      ],
      "text/plain": [
       "                importance\n",
       "Day Charge        0.142296\n",
       "CustServ Calls    0.131582\n",
       "Day Mins          0.122721\n",
       "Intl Plan         0.079248\n",
       "Eve Mins          0.078305\n",
       "Eve Charge        0.060255\n",
       "Intl Calls        0.056290\n",
       "Intl Mins         0.048173\n",
       "Intl Charge       0.038424\n",
       "Night Charge      0.036377\n",
       "Night Mins        0.035675\n",
       "Account Length    0.033543\n",
       "Day Calls         0.031886\n",
       "Night Calls       0.031187\n",
       "Eve Calls         0.025316\n",
       "VMail Message     0.024808\n",
       "VMail Plan        0.023912"
      ]
     },
     "execution_count": 128,
     "metadata": {},
     "output_type": "execute_result"
    }
   ],
   "source": [
    "feature_importances"
   ]
  },
  {
   "cell_type": "code",
   "execution_count": 43,
   "metadata": {},
   "outputs": [
    {
     "data": {
      "image/png": "[encoded data removed]",
      "text/plain": [
       "<Figure size 1080x360 with 1 Axes>"
      ]
     },
     "metadata": {},
     "output_type": "display_data"
    }
   ],
   "source": [
    "%matplotlib inline\n",
    "fig, ax = plt.subplots(figsize = [15,5])\n",
    "import matplotlib.pyplot as plt\n",
    "plt.bar(feature_importances.index, feature_importances['importance'], width = 0.05  )\n",
    "plt.xticks(feature_importances.index, rotation=90 )\n",
    "plt.ylabel(\"Feature Importance\")\n",
    "plt.show()"
   ]
  },
  {
   "cell_type": "code",
   "execution_count": 129,
   "metadata": {},
   "outputs": [
    {
     "data": {
      "text/plain": [
       "<matplotlib.legend.Legend at 0x1bd6cd25c18>"
      ]
     },
     "execution_count": 129,
     "metadata": {},
     "output_type": "execute_result"
    },
    {
     "data": {
      "image/png": "[encoded data removed]",
      "text/plain": [
       "<Figure size 1080x360 with 1 Axes>"
      ]
     },
     "metadata": {},
     "output_type": "display_data"
    }
   ],
   "source": [
    "## parameter tuning \n",
    "n_estimators = []\n",
    "acc_train = []\n",
    "acc_test = []\n",
    "for i in range(1,30):\n",
    " rf = RandomForestClassifier( n_estimators=i, random_state=123)\n",
    " rf.fit(x_train, y_train)\n",
    " pred = rf.predict(x_train)\n",
    " pred2 = rf.predict(x_test)\n",
    " acc_train.append(accuracy_score(y_train, pred))\n",
    " ####\n",
    " acc_test.append(accuracy_score(y_test, pred2))\n",
    " ####\n",
    " n_estimators.append(i)\n",
    "d = pd.DataFrame({'acc_train':pd.Series(acc_train), \n",
    " 'acc_test':pd.Series(acc_test),\n",
    " 'n_estimators':pd.Series(n_estimators)})\n",
    "# visualizing changes in parameters\n",
    "fig, ax = plt.subplots(figsize = [15,5])\n",
    "plt.plot('n_estimators','acc_train', data=d, label='train')\n",
    "plt.plot('n_estimators','acc_test', data=d, label='test')\n",
    "plt.xlabel('estimators')\n",
    "plt.ylabel('accuracy')\n",
    "plt.xticks(np.arange(1,31))\n",
    "plt.grid()\n",
    "plt.legend()"
   ]
  },
  {
   "cell_type": "code",
   "execution_count": 91,
   "metadata": {},
   "outputs": [],
   "source": [
    "## grid parameters for grid search\n",
    "param_grid = {\n",
    "    'max_depth': [6,7,8],\n",
    "    'n_estimators': [10, 15, 20],\n",
    "    'max_features' : [4,5,6]\n",
    "}"
   ]
  },
  {
   "cell_type": "code",
   "execution_count": 92,
   "metadata": {},
   "outputs": [],
   "source": [
    "rf = RandomForestClassifier(random_state=9)\n",
    "# Instantiate the grid search model\n",
    "grid_search = GridSearchCV(estimator = rf, param_grid = param_grid, \n",
    "                          cv = 5, n_jobs = -1, verbose = 2)"
   ]
  },
  {
   "cell_type": "code",
   "execution_count": 93,
   "metadata": {},
   "outputs": [
    {
     "name": "stdout",
     "output_type": "stream",
     "text": [
      "Fitting 5 folds for each of 27 candidates, totalling 135 fits\n"
     ]
    },
    {
     "name": "stderr",
     "output_type": "stream",
     "text": [
      "[Parallel(n_jobs=-1)]: Using backend LokyBackend with 4 concurrent workers.\n",
      "[Parallel(n_jobs=-1)]: Done  33 tasks      | elapsed:    3.7s\n",
      "[Parallel(n_jobs=-1)]: Done 128 out of 135 | elapsed:    6.2s remaining:    0.2s\n",
      "[Parallel(n_jobs=-1)]: Done 135 out of 135 | elapsed:    6.4s finished\n"
     ]
    },
    {
     "data": {
      "text/plain": [
       "GridSearchCV(cv=5, error_score='raise-deprecating',\n",
       "             estimator=RandomForestClassifier(bootstrap=True, class_weight=None,\n",
       "                                              criterion='gini', max_depth=None,\n",
       "                                              max_features='auto',\n",
       "                                              max_leaf_nodes=None,\n",
       "                                              min_impurity_decrease=0.0,\n",
       "                                              min_impurity_split=None,\n",
       "                                              min_samples_leaf=1,\n",
       "                                              min_samples_split=2,\n",
       "                                              min_weight_fraction_leaf=0.0,\n",
       "                                              n_estimators='warn', n_jobs=None,\n",
       "                                              oob_score=False, random_state=9,\n",
       "                                              verbose=0, warm_start=False),\n",
       "             iid='warn', n_jobs=-1,\n",
       "             param_grid={'max_depth': [6, 7, 8], 'max_features': [4, 5, 6],\n",
       "                         'n_estimators': [10, 15, 20]},\n",
       "             pre_dispatch='2*n_jobs', refit=True, return_train_score=False,\n",
       "             scoring=None, verbose=2)"
      ]
     },
     "execution_count": 93,
     "metadata": {},
     "output_type": "execute_result"
    }
   ],
   "source": [
    "grid_search.fit(x_train, y_train)"
   ]
  },
  {
   "cell_type": "code",
   "execution_count": 94,
   "metadata": {},
   "outputs": [
    {
     "data": {
      "text/plain": [
       "{'max_depth': 8, 'max_features': 5, 'n_estimators': 20}"
      ]
     },
     "execution_count": 94,
     "metadata": {},
     "output_type": "execute_result"
    }
   ],
   "source": [
    "grid_search.best_params_"
   ]
  },
  {
   "cell_type": "code",
   "execution_count": 95,
   "metadata": {},
   "outputs": [
    {
     "data": {
      "text/plain": [
       "{'mean_fit_time': array([0.05588555, 0.07075858, 0.09268088, 0.06039639, 0.07944555,\n",
       "        0.10540223, 0.06532269, 0.08899317, 0.13633132, 0.05402532,\n",
       "        0.07320185, 0.10051374, 0.06036429, 0.08732414, 0.11652856,\n",
       "        0.06861506, 0.09856539, 0.13274937, 0.05951982, 0.0804575 ,\n",
       "        0.10662522, 0.06316719, 0.09532785, 0.13072982, 0.07119117,\n",
       "        0.10792499, 0.13492694]),\n",
       " 'std_fit_time': array([4.09169636e-03, 3.29917079e-04, 4.04416815e-03, 4.02291773e-05,\n",
       "        3.61732588e-03, 3.48851193e-03, 4.67822657e-03, 4.09725186e-03,\n",
       "        7.53934149e-03, 3.71534524e-03, 3.73918533e-03, 8.63013871e-05,\n",
       "        1.29608638e-03, 3.93296054e-03, 2.81530981e-03, 3.24991023e-03,\n",
       "        3.10822876e-03, 7.51086821e-03, 5.76752787e-03, 9.76107909e-06,\n",
       "        4.91773360e-03, 3.73049603e-03, 3.94864557e-03, 5.06163570e-03,\n",
       "        1.00725789e-03, 7.21858694e-03, 1.25543716e-02]),\n",
       " 'mean_score_time': array([0.00240283, 0.00403161, 0.00727096, 0.00562739, 0.00402646,\n",
       "        0.00425406, 0.00160456, 0.00442848, 0.00240736, 0.00080743,\n",
       "        0.00562668, 0.00563602, 0.00405002, 0.00402865, 0.0036438 ,\n",
       "        0.00241089, 0.00402327, 0.00562983, 0.00241323, 0.00562787,\n",
       "        0.00926142, 0.00321074, 0.00443087, 0.00281978, 0.00362368,\n",
       "        0.00730963, 0.006038  ]),\n",
       " 'std_score_time': array([0.00320748, 0.00422861, 0.00349687, 0.00389733, 0.00422237,\n",
       "        0.00314029, 0.00320911, 0.00389434, 0.00321446, 0.00098889,\n",
       "        0.00465211, 0.00466062, 0.00424306, 0.00493407, 0.00296453,\n",
       "        0.00389305, 0.00421692, 0.00465469, 0.00294855, 0.00465341,\n",
       "        0.00098175, 0.00393233, 0.00295129, 0.00373058, 0.00368657,\n",
       "        0.00338264, 0.00310828]),\n",
       " 'param_max_depth': masked_array(data=[6, 6, 6, 6, 6, 6, 6, 6, 6, 7, 7, 7, 7, 7, 7, 7, 7, 7,\n",
       "                    8, 8, 8, 8, 8, 8, 8, 8, 8],\n",
       "              mask=[False, False, False, False, False, False, False, False,\n",
       "                    False, False, False, False, False, False, False, False,\n",
       "                    False, False, False, False, False, False, False, False,\n",
       "                    False, False, False],\n",
       "        fill_value='?',\n",
       "             dtype=object),\n",
       " 'param_max_features': masked_array(data=[4, 4, 4, 5, 5, 5, 6, 6, 6, 4, 4, 4, 5, 5, 5, 6, 6, 6,\n",
       "                    4, 4, 4, 5, 5, 5, 6, 6, 6],\n",
       "              mask=[False, False, False, False, False, False, False, False,\n",
       "                    False, False, False, False, False, False, False, False,\n",
       "                    False, False, False, False, False, False, False, False,\n",
       "                    False, False, False],\n",
       "        fill_value='?',\n",
       "             dtype=object),\n",
       " 'param_n_estimators': masked_array(data=[10, 15, 20, 10, 15, 20, 10, 15, 20, 10, 15, 20, 10, 15,\n",
       "                    20, 10, 15, 20, 10, 15, 20, 10, 15, 20, 10, 15, 20],\n",
       "              mask=[False, False, False, False, False, False, False, False,\n",
       "                    False, False, False, False, False, False, False, False,\n",
       "                    False, False, False, False, False, False, False, False,\n",
       "                    False, False, False],\n",
       "        fill_value='?',\n",
       "             dtype=object),\n",
       " 'params': [{'max_depth': 6, 'max_features': 4, 'n_estimators': 10},\n",
       "  {'max_depth': 6, 'max_features': 4, 'n_estimators': 15},\n",
       "  {'max_depth': 6, 'max_features': 4, 'n_estimators': 20},\n",
       "  {'max_depth': 6, 'max_features': 5, 'n_estimators': 10},\n",
       "  {'max_depth': 6, 'max_features': 5, 'n_estimators': 15},\n",
       "  {'max_depth': 6, 'max_features': 5, 'n_estimators': 20},\n",
       "  {'max_depth': 6, 'max_features': 6, 'n_estimators': 10},\n",
       "  {'max_depth': 6, 'max_features': 6, 'n_estimators': 15},\n",
       "  {'max_depth': 6, 'max_features': 6, 'n_estimators': 20},\n",
       "  {'max_depth': 7, 'max_features': 4, 'n_estimators': 10},\n",
       "  {'max_depth': 7, 'max_features': 4, 'n_estimators': 15},\n",
       "  {'max_depth': 7, 'max_features': 4, 'n_estimators': 20},\n",
       "  {'max_depth': 7, 'max_features': 5, 'n_estimators': 10},\n",
       "  {'max_depth': 7, 'max_features': 5, 'n_estimators': 15},\n",
       "  {'max_depth': 7, 'max_features': 5, 'n_estimators': 20},\n",
       "  {'max_depth': 7, 'max_features': 6, 'n_estimators': 10},\n",
       "  {'max_depth': 7, 'max_features': 6, 'n_estimators': 15},\n",
       "  {'max_depth': 7, 'max_features': 6, 'n_estimators': 20},\n",
       "  {'max_depth': 8, 'max_features': 4, 'n_estimators': 10},\n",
       "  {'max_depth': 8, 'max_features': 4, 'n_estimators': 15},\n",
       "  {'max_depth': 8, 'max_features': 4, 'n_estimators': 20},\n",
       "  {'max_depth': 8, 'max_features': 5, 'n_estimators': 10},\n",
       "  {'max_depth': 8, 'max_features': 5, 'n_estimators': 15},\n",
       "  {'max_depth': 8, 'max_features': 5, 'n_estimators': 20},\n",
       "  {'max_depth': 8, 'max_features': 6, 'n_estimators': 10},\n",
       "  {'max_depth': 8, 'max_features': 6, 'n_estimators': 15},\n",
       "  {'max_depth': 8, 'max_features': 6, 'n_estimators': 20}],\n",
       " 'split0_test_score': array([0.91573034, 0.917603  , 0.91385768, 0.94382022, 0.94756554,\n",
       "        0.94194757, 0.93632959, 0.93820225, 0.94007491, 0.93820225,\n",
       "        0.93445693, 0.94007491, 0.95131086, 0.95318352, 0.94756554,\n",
       "        0.94569288, 0.9494382 , 0.95131086, 0.93071161, 0.94194757,\n",
       "        0.94007491, 0.94007491, 0.95692884, 0.95318352, 0.95318352,\n",
       "        0.95131086, 0.95505618]),\n",
       " 'split1_test_score': array([0.92696629, 0.93632959, 0.94007491, 0.93258427, 0.93071161,\n",
       "        0.93632959, 0.94756554, 0.94756554, 0.95131086, 0.94382022,\n",
       "        0.93820225, 0.93820225, 0.93820225, 0.94569288, 0.94382022,\n",
       "        0.94756554, 0.95318352, 0.94569288, 0.94194757, 0.94756554,\n",
       "        0.94756554, 0.94382022, 0.94382022, 0.94569288, 0.94382022,\n",
       "        0.9494382 , 0.95131086]),\n",
       " 'split2_test_score': array([0.91744841, 0.91932458, 0.93621013, 0.93245779, 0.94183865,\n",
       "        0.9380863 , 0.92870544, 0.93058161, 0.94183865, 0.92120075,\n",
       "        0.94183865, 0.9380863 , 0.9380863 , 0.9380863 , 0.9380863 ,\n",
       "        0.94371482, 0.94746717, 0.94183865, 0.94371482, 0.94559099,\n",
       "        0.94371482, 0.9380863 , 0.94371482, 0.95121951, 0.94934334,\n",
       "        0.95121951, 0.94371482]),\n",
       " 'split3_test_score': array([0.93058161, 0.93058161, 0.93058161, 0.93433396, 0.93058161,\n",
       "        0.92870544, 0.93245779, 0.9380863 , 0.94183865, 0.92307692,\n",
       "        0.9249531 , 0.93245779, 0.92307692, 0.93058161, 0.94559099,\n",
       "        0.94746717, 0.93996248, 0.94559099, 0.9380863 , 0.93245779,\n",
       "        0.94183865, 0.94183865, 0.94371482, 0.94746717, 0.94183865,\n",
       "        0.9380863 , 0.94183865]),\n",
       " 'split4_test_score': array([0.93233083, 0.93045113, 0.93233083, 0.95112782, 0.95112782,\n",
       "        0.95112782, 0.94548872, 0.94172932, 0.94172932, 0.94548872,\n",
       "        0.95300752, 0.95488722, 0.95488722, 0.95488722, 0.95488722,\n",
       "        0.94172932, 0.94360902, 0.95864662, 0.95676692, 0.94924812,\n",
       "        0.95488722, 0.95864662, 0.95864662, 0.95864662, 0.95300752,\n",
       "        0.95112782, 0.95864662]),\n",
       " 'mean_test_score': array([0.92460615, 0.92685671, 0.93060765, 0.93885971, 0.94036009,\n",
       "        0.93923481, 0.93810953, 0.93923481, 0.94336084, 0.93435859,\n",
       "        0.93848462, 0.94073518, 0.94111028, 0.94448612, 0.9459865 ,\n",
       "        0.94523631, 0.94673668, 0.94861215, 0.94223556, 0.94336084,\n",
       "        0.9456114 , 0.94448612, 0.94936234, 0.95123781, 0.94823706,\n",
       "        0.94823706, 0.95011253]),\n",
       " 'std_test_score': array([0.00679588, 0.00719864, 0.00900095, 0.00742557, 0.00846972,\n",
       "        0.00733612, 0.00731283, 0.00553082, 0.00403484, 0.01027955,\n",
       "        0.00917655, 0.00751259, 0.01128074, 0.00915818, 0.00545504,\n",
       "        0.0022451 , 0.00458475, 0.00585286, 0.00852251, 0.00596812,\n",
       "        0.00525727, 0.00732051, 0.00689736, 0.00455112, 0.00466681,\n",
       "        0.00512125, 0.00644869]),\n",
       " 'rank_test_score': array([27, 26, 25, 21, 18, 19, 23, 19, 13, 24, 22, 17, 16, 11,  8, 10,  7,\n",
       "         4, 15, 13,  9, 11,  3,  1,  5,  5,  2])}"
      ]
     },
     "execution_count": 95,
     "metadata": {},
     "output_type": "execute_result"
    }
   ],
   "source": [
    "grid_search.cv_results_"
   ]
  },
  {
   "cell_type": "code",
   "execution_count": 89,
   "metadata": {},
   "outputs": [],
   "source": [
    "def evaluate(model, test_features, test_labels):\n",
    "    predictions = model.predict(test_features)\n",
    "    accuracy = accuracy_score(test_labels,predictions)\n",
    "    conf = confusion_matrix(test_labels,predictions)\n",
    "    print('Model Performance')\n",
    "    print('Accuracy = {:0.2f}%.'.format(accuracy))\n",
    "    print(\"Confusion Matrix\")\n",
    "    print(conf)\n",
    "    return accuracy, conf\n"
   ]
  },
  {
   "cell_type": "code",
   "execution_count": 96,
   "metadata": {},
   "outputs": [
    {
     "name": "stdout",
     "output_type": "stream",
     "text": [
      "Model Performance\n",
      "Accuracy = 0.95%.\n",
      "Confusion Matrix\n",
      "[[561   5]\n",
      " [ 31  70]]\n"
     ]
    }
   ],
   "source": [
    "\n",
    "best_grid = grid_search.best_estimator_\n",
    "grid_accuracy = evaluate(best_grid, x_test, y_test)"
   ]
  },
  {
   "cell_type": "code",
   "execution_count": 73,
   "metadata": {},
   "outputs": [
    {
     "data": {
      "text/plain": [
       "0.922077922077922"
      ]
     },
     "execution_count": 73,
     "metadata": {},
     "output_type": "execute_result"
    }
   ],
   "source": [
    "71/(71+6)"
   ]
  },
  {
   "cell_type": "code",
   "execution_count": 74,
   "metadata": {},
   "outputs": [
    {
     "data": {
      "text/plain": [
       "0.7029702970297029"
      ]
     },
     "execution_count": 74,
     "metadata": {},
     "output_type": "execute_result"
    }
   ],
   "source": [
    "71/(71+30)"
   ]
  },
  {
   "cell_type": "code",
   "execution_count": 57,
   "metadata": {},
   "outputs": [
    {
     "data": {
      "text/plain": [
       "0.7950617283950617"
      ]
     },
     "execution_count": 57,
     "metadata": {},
     "output_type": "execute_result"
    }
   ],
   "source": [
    "2*0.92*.70/(0.92+0.70)"
   ]
  },
  {
   "cell_type": "code",
   "execution_count": null,
   "metadata": {},
   "outputs": [],
   "source": []
  }
 ],
 "metadata": {
  "anaconda-cloud": {},
  "kernelspec": {
   "display_name": "Python 3",
   "language": "python",
   "name": "python3"
  },
  "language_info": {
   "codemirror_mode": {
    "name": "ipython",
    "version": 3
   },
   "file_extension": ".py",
   "mimetype": "text/x-python",
   "name": "python",
   "nbconvert_exporter": "python",
   "pygments_lexer": "ipython3",
   "version": "3.6.5"
  }
 },
 "nbformat": 4,
 "nbformat_minor": 1
}
