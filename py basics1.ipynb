{
 "cells": [
  {
   "cell_type": "code",
   "execution_count": 1,
   "id": "f9a9b965",
   "metadata": {},
   "outputs": [],
   "source": [
    "s = 'sairam'"
   ]
  },
  {
   "cell_type": "code",
   "execution_count": 2,
   "id": "9b2405d0",
   "metadata": {},
   "outputs": [
    {
     "data": {
      "text/plain": [
       "str"
      ]
     },
     "execution_count": 2,
     "metadata": {},
     "output_type": "execute_result"
    }
   ],
   "source": [
    "type(s)"
   ]
  },
  {
   "cell_type": "markdown",
   "id": "6611c66b",
   "metadata": {},
   "source": [
    "string traversal operations (slicing)"
   ]
  },
  {
   "cell_type": "code",
   "execution_count": 3,
   "id": "6512e2ab",
   "metadata": {},
   "outputs": [],
   "source": [
    "b = \"bhaskar\""
   ]
  },
  {
   "cell_type": "code",
   "execution_count": 4,
   "id": "fc97cb78",
   "metadata": {},
   "outputs": [
    {
     "data": {
      "text/plain": [
       "'bhaskar'"
      ]
     },
     "execution_count": 4,
     "metadata": {},
     "output_type": "execute_result"
    }
   ],
   "source": [
    "b[0:300]"
   ]
  },
  {
   "cell_type": "code",
   "execution_count": 5,
   "id": "2c0d61bd",
   "metadata": {},
   "outputs": [
    {
     "data": {
      "text/plain": [
       "'r'"
      ]
     },
     "execution_count": 5,
     "metadata": {},
     "output_type": "execute_result"
    }
   ],
   "source": [
    "b[-1]"
   ]
  },
  {
   "cell_type": "code",
   "execution_count": 6,
   "id": "d1fcd545",
   "metadata": {},
   "outputs": [
    {
     "ename": "IndexError",
     "evalue": "string index out of range",
     "output_type": "error",
     "traceback": [
      "\u001b[1;31m---------------------------------------------------------------------------\u001b[0m",
      "\u001b[1;31mIndexError\u001b[0m                                Traceback (most recent call last)",
      "\u001b[1;32mC:\\Users\\SAIRAM~1\\AppData\\Local\\Temp/ipykernel_24508/3371902095.py\u001b[0m in \u001b[0;36m<module>\u001b[1;34m\u001b[0m\n\u001b[1;32m----> 1\u001b[1;33m \u001b[0mb\u001b[0m\u001b[1;33m[\u001b[0m\u001b[1;33m-\u001b[0m\u001b[1;36m100\u001b[0m\u001b[1;33m]\u001b[0m\u001b[1;33m\u001b[0m\u001b[1;33m\u001b[0m\u001b[0m\n\u001b[0m",
      "\u001b[1;31mIndexError\u001b[0m: string index out of range"
     ]
    }
   ],
   "source": [
    "b[-100]"
   ]
  },
  {
   "cell_type": "code",
   "execution_count": 7,
   "id": "40794dda",
   "metadata": {},
   "outputs": [
    {
     "data": {
      "text/plain": [
       "''"
      ]
     },
     "execution_count": 7,
     "metadata": {},
     "output_type": "execute_result"
    }
   ],
   "source": [
    "b[-1:-4]"
   ]
  },
  {
   "cell_type": "code",
   "execution_count": 8,
   "id": "9ff46cb4",
   "metadata": {},
   "outputs": [
    {
     "data": {
      "text/plain": [
       "'bhaskar'"
      ]
     },
     "execution_count": 8,
     "metadata": {},
     "output_type": "execute_result"
    }
   ],
   "source": [
    "b[0:300:1]"
   ]
  },
  {
   "cell_type": "code",
   "execution_count": 9,
   "id": "cf5f7472",
   "metadata": {},
   "outputs": [
    {
     "data": {
      "text/plain": [
       "'bakr'"
      ]
     },
     "execution_count": 9,
     "metadata": {},
     "output_type": "execute_result"
    }
   ],
   "source": [
    "b[0:300:2]"
   ]
  },
  {
   "cell_type": "code",
   "execution_count": 10,
   "id": "85632248",
   "metadata": {},
   "outputs": [
    {
     "data": {
      "text/plain": [
       "''"
      ]
     },
     "execution_count": 10,
     "metadata": {},
     "output_type": "execute_result"
    }
   ],
   "source": [
    "b[0:100:-1]"
   ]
  },
  {
   "cell_type": "code",
   "execution_count": 16,
   "id": "3a38c7df",
   "metadata": {},
   "outputs": [
    {
     "data": {
      "text/plain": [
       "'raksahb'"
      ]
     },
     "execution_count": 16,
     "metadata": {},
     "output_type": "execute_result"
    }
   ],
   "source": [
    "b[-1:-10:-1]"
   ]
  },
  {
   "cell_type": "code",
   "execution_count": 21,
   "id": "99b10e45",
   "metadata": {},
   "outputs": [
    {
     "data": {
      "text/plain": [
       "'bhas'"
      ]
     },
     "execution_count": 21,
     "metadata": {},
     "output_type": "execute_result"
    }
   ],
   "source": [
    "b[:4]"
   ]
  },
  {
   "cell_type": "code",
   "execution_count": 22,
   "id": "620d266c",
   "metadata": {},
   "outputs": [
    {
     "data": {
      "text/plain": [
       "'ar'"
      ]
     },
     "execution_count": 22,
     "metadata": {},
     "output_type": "execute_result"
    }
   ],
   "source": [
    "b[-2:]"
   ]
  },
  {
   "cell_type": "code",
   "execution_count": 23,
   "id": "60f0e3ce",
   "metadata": {},
   "outputs": [
    {
     "data": {
      "text/plain": [
       "'bhasbhasbhas'"
      ]
     },
     "execution_count": 23,
     "metadata": {},
     "output_type": "execute_result"
    }
   ],
   "source": [
    "\"bhas\"*3"
   ]
  },
  {
   "cell_type": "code",
   "execution_count": 26,
   "id": "665d715d",
   "metadata": {},
   "outputs": [],
   "source": [
    "a = \"bhas\" + \"kar\""
   ]
  },
  {
   "cell_type": "code",
   "execution_count": 27,
   "id": "3f6595ca",
   "metadata": {},
   "outputs": [
    {
     "data": {
      "text/plain": [
       "7"
      ]
     },
     "execution_count": 27,
     "metadata": {},
     "output_type": "execute_result"
    }
   ],
   "source": [
    "len(a)"
   ]
  },
  {
   "cell_type": "code",
   "execution_count": 28,
   "id": "a0b67de8",
   "metadata": {},
   "outputs": [],
   "source": [
    "a = \"bhaskar is learning python\""
   ]
  },
  {
   "cell_type": "code",
   "execution_count": 29,
   "id": "df63c77e",
   "metadata": {},
   "outputs": [
    {
     "data": {
      "text/plain": [
       "'bhaskar is learning python'"
      ]
     },
     "execution_count": 29,
     "metadata": {},
     "output_type": "execute_result"
    }
   ],
   "source": [
    "a"
   ]
  },
  {
   "cell_type": "code",
   "execution_count": 31,
   "id": "3a2f9758",
   "metadata": {},
   "outputs": [
    {
     "data": {
      "text/plain": [
       "'Bhaskar is learning python'"
      ]
     },
     "execution_count": 31,
     "metadata": {},
     "output_type": "execute_result"
    }
   ],
   "source": [
    "a.capitalize()"
   ]
  },
  {
   "cell_type": "code",
   "execution_count": 32,
   "id": "d58dbf94",
   "metadata": {},
   "outputs": [
    {
     "data": {
      "text/plain": [
       "2"
      ]
     },
     "execution_count": 32,
     "metadata": {},
     "output_type": "execute_result"
    }
   ],
   "source": [
    "a.find('a')"
   ]
  },
  {
   "cell_type": "code",
   "execution_count": 34,
   "id": "61f66178",
   "metadata": {},
   "outputs": [
    {
     "data": {
      "text/plain": [
       "8"
      ]
     },
     "execution_count": 34,
     "metadata": {},
     "output_type": "execute_result"
    }
   ],
   "source": [
    "a.find('i') #gives us first occurence"
   ]
  },
  {
   "cell_type": "code",
   "execution_count": 35,
   "id": "96a5b00e",
   "metadata": {},
   "outputs": [
    {
     "data": {
      "text/plain": [
       "-1"
      ]
     },
     "execution_count": 35,
     "metadata": {},
     "output_type": "execute_result"
    }
   ],
   "source": [
    "a.find('ba')"
   ]
  },
  {
   "cell_type": "code",
   "execution_count": 37,
   "id": "73b75bc2",
   "metadata": {},
   "outputs": [
    {
     "data": {
      "text/plain": [
       "20"
      ]
     },
     "execution_count": 37,
     "metadata": {},
     "output_type": "execute_result"
    }
   ],
   "source": [
    "a.find('py')"
   ]
  },
  {
   "cell_type": "code",
   "execution_count": 39,
   "id": "1c467886",
   "metadata": {},
   "outputs": [
    {
     "data": {
      "text/plain": [
       "2"
      ]
     },
     "execution_count": 39,
     "metadata": {},
     "output_type": "execute_result"
    }
   ],
   "source": [
    "a.count('i') # gives us the occurence"
   ]
  },
  {
   "cell_type": "code",
   "execution_count": 42,
   "id": "4057bc07",
   "metadata": {},
   "outputs": [],
   "source": [
    "l = a.split()"
   ]
  },
  {
   "cell_type": "code",
   "execution_count": 44,
   "id": "0e1f66e1",
   "metadata": {},
   "outputs": [
    {
     "data": {
      "text/plain": [
       "['bhaskar', 'is', 'learning', 'python']"
      ]
     },
     "execution_count": 44,
     "metadata": {},
     "output_type": "execute_result"
    }
   ],
   "source": [
    "l"
   ]
  },
  {
   "cell_type": "code",
   "execution_count": 45,
   "id": "a5d62b0d",
   "metadata": {},
   "outputs": [
    {
     "data": {
      "text/plain": [
       "list"
      ]
     },
     "execution_count": 45,
     "metadata": {},
     "output_type": "execute_result"
    }
   ],
   "source": [
    "type(l)"
   ]
  },
  {
   "cell_type": "code",
   "execution_count": 46,
   "id": "daf23eb6",
   "metadata": {},
   "outputs": [
    {
     "data": {
      "text/plain": [
       "'python'"
      ]
     },
     "execution_count": 46,
     "metadata": {},
     "output_type": "execute_result"
    }
   ],
   "source": [
    "l[3]"
   ]
  },
  {
   "cell_type": "code",
   "execution_count": 48,
   "id": "aced2dbf",
   "metadata": {},
   "outputs": [
    {
     "data": {
      "text/plain": [
       "['bhaskar is learning ', 'thon']"
      ]
     },
     "execution_count": 48,
     "metadata": {},
     "output_type": "execute_result"
    }
   ],
   "source": [
    "a.split('py')"
   ]
  },
  {
   "cell_type": "code",
   "execution_count": 49,
   "id": "e814d0c3",
   "metadata": {},
   "outputs": [
    {
     "data": {
      "text/plain": [
       "'BHASKAR IS LEARNING PYTHON'"
      ]
     },
     "execution_count": 49,
     "metadata": {},
     "output_type": "execute_result"
    }
   ],
   "source": [
    "a.upper()"
   ]
  },
  {
   "cell_type": "code",
   "execution_count": 50,
   "id": "68da91c7",
   "metadata": {},
   "outputs": [
    {
     "data": {
      "text/plain": [
       "'BHASKAR IS LEARNING PYTHON'"
      ]
     },
     "execution_count": 50,
     "metadata": {},
     "output_type": "execute_result"
    }
   ],
   "source": [
    "a.swapcase()"
   ]
  },
  {
   "cell_type": "code",
   "execution_count": 51,
   "id": "31cab92a",
   "metadata": {},
   "outputs": [
    {
     "data": {
      "text/plain": [
       "'Sairam'"
      ]
     },
     "execution_count": 51,
     "metadata": {},
     "output_type": "execute_result"
    }
   ],
   "source": [
    "s.title()"
   ]
  },
  {
   "cell_type": "code",
   "execution_count": 52,
   "id": "8a426eec",
   "metadata": {},
   "outputs": [
    {
     "data": {
      "text/plain": [
       "'Sairam'"
      ]
     },
     "execution_count": 52,
     "metadata": {},
     "output_type": "execute_result"
    }
   ],
   "source": [
    "s.capitalize()"
   ]
  },
  {
   "cell_type": "code",
   "execution_count": 53,
   "id": "d3dcc921",
   "metadata": {},
   "outputs": [],
   "source": [
    "b=\"bhaskar\"\n",
    "c=\"learning\""
   ]
  },
  {
   "cell_type": "code",
   "execution_count": 55,
   "id": "3c1a68c6",
   "metadata": {},
   "outputs": [
    {
     "data": {
      "text/plain": [
       "'lbhaskarebhaskarabhaskarrbhaskarnbhaskaribhaskarnbhaskarg'"
      ]
     },
     "execution_count": 55,
     "metadata": {},
     "output_type": "execute_result"
    }
   ],
   "source": [
    "b.join(c)"
   ]
  },
  {
   "cell_type": "code",
   "execution_count": 57,
   "id": "309f756a",
   "metadata": {},
   "outputs": [
    {
     "data": {
      "text/plain": [
       "'b h a s k a r'"
      ]
     },
     "execution_count": 57,
     "metadata": {},
     "output_type": "execute_result"
    }
   ],
   "source": [
    "\" \".join(\"bhaskar\") #join joins something after every index"
   ]
  },
  {
   "cell_type": "code",
   "execution_count": 58,
   "id": "4c162612",
   "metadata": {},
   "outputs": [
    {
     "name": "stdout",
     "output_type": "stream",
     "text": [
      "r\n",
      "a\n",
      "k\n",
      "s\n",
      "a\n",
      "h\n",
      "b\n"
     ]
    }
   ],
   "source": [
    "for i in reversed(\"bhaskar\"):\n",
    "    print(i)"
   ]
  },
  {
   "cell_type": "code",
   "execution_count": 59,
   "id": "653b4ac9",
   "metadata": {},
   "outputs": [
    {
     "data": {
      "text/plain": [
       "'marias'"
      ]
     },
     "execution_count": 59,
     "metadata": {},
     "output_type": "execute_result"
    }
   ],
   "source": [
    "s[::-1]"
   ]
  },
  {
   "cell_type": "code",
   "execution_count": 61,
   "id": "9b86c383",
   "metadata": {},
   "outputs": [],
   "source": [
    "s = ' sairam '"
   ]
  },
  {
   "cell_type": "code",
   "execution_count": 62,
   "id": "cea8cf88",
   "metadata": {},
   "outputs": [
    {
     "data": {
      "text/plain": [
       "' sairam'"
      ]
     },
     "execution_count": 62,
     "metadata": {},
     "output_type": "execute_result"
    }
   ],
   "source": [
    "s.rstrip()"
   ]
  },
  {
   "cell_type": "code",
   "execution_count": 63,
   "id": "72dbdeda",
   "metadata": {},
   "outputs": [
    {
     "data": {
      "text/plain": [
       "'sairam '"
      ]
     },
     "execution_count": 63,
     "metadata": {},
     "output_type": "execute_result"
    }
   ],
   "source": [
    "s.lstrip()"
   ]
  },
  {
   "cell_type": "code",
   "execution_count": 64,
   "id": "5cb29d53",
   "metadata": {},
   "outputs": [
    {
     "data": {
      "text/plain": [
       "'sairam'"
      ]
     },
     "execution_count": 64,
     "metadata": {},
     "output_type": "execute_result"
    }
   ],
   "source": [
    "s.strip()"
   ]
  },
  {
   "cell_type": "code",
   "execution_count": 66,
   "id": "06b7d4c9",
   "metadata": {},
   "outputs": [],
   "source": [
    "s = \"sairam\""
   ]
  },
  {
   "cell_type": "code",
   "execution_count": 67,
   "id": "95be87d7",
   "metadata": {},
   "outputs": [
    {
     "data": {
      "text/plain": [
       "'saxyzram'"
      ]
     },
     "execution_count": 67,
     "metadata": {},
     "output_type": "execute_result"
    }
   ],
   "source": [
    "s.replace(\"i\", \"xyz\")"
   ]
  },
  {
   "cell_type": "code",
   "execution_count": 68,
   "id": "0f017304",
   "metadata": {},
   "outputs": [
    {
     "data": {
      "text/plain": [
       "'sai     ram'"
      ]
     },
     "execution_count": 68,
     "metadata": {},
     "output_type": "execute_result"
    }
   ],
   "source": [
    "\"sai\\tram\".expandtabs()"
   ]
  },
  {
   "cell_type": "code",
   "execution_count": 69,
   "id": "724d8524",
   "metadata": {},
   "outputs": [
    {
     "data": {
      "text/plain": [
       "b'sairam'"
      ]
     },
     "execution_count": 69,
     "metadata": {},
     "output_type": "execute_result"
    }
   ],
   "source": [
    "s.encode()"
   ]
  },
  {
   "cell_type": "code",
   "execution_count": 71,
   "id": "ff8b2ec8",
   "metadata": {},
   "outputs": [],
   "source": [
    "l = [\"bhaskar\", \"sairam\", 256, 4+6j, True, 20.5]  # list is a collection of homogenous or heterogenous data"
   ]
  },
  {
   "cell_type": "code",
   "execution_count": 72,
   "id": "a812afc2",
   "metadata": {},
   "outputs": [
    {
     "data": {
      "text/plain": [
       "list"
      ]
     },
     "execution_count": 72,
     "metadata": {},
     "output_type": "execute_result"
    }
   ],
   "source": [
    "type(l)"
   ]
  },
  {
   "cell_type": "code",
   "execution_count": 73,
   "id": "87c13ef8",
   "metadata": {},
   "outputs": [
    {
     "data": {
      "text/plain": [
       "256"
      ]
     },
     "execution_count": 73,
     "metadata": {},
     "output_type": "execute_result"
    }
   ],
   "source": [
    "l[2]"
   ]
  },
  {
   "cell_type": "code",
   "execution_count": 74,
   "id": "1d9a70e6",
   "metadata": {},
   "outputs": [
    {
     "data": {
      "text/plain": [
       "['bhaskar', 'sairam', 256, (4+6j)]"
      ]
     },
     "execution_count": 74,
     "metadata": {},
     "output_type": "execute_result"
    }
   ],
   "source": [
    "l[0:4]"
   ]
  },
  {
   "cell_type": "code",
   "execution_count": 75,
   "id": "d3c40871",
   "metadata": {},
   "outputs": [
    {
     "data": {
      "text/plain": [
       "[20.5, True, (4+6j), 256, 'sairam', 'bhaskar']"
      ]
     },
     "execution_count": 75,
     "metadata": {},
     "output_type": "execute_result"
    }
   ],
   "source": [
    "l[::-1]"
   ]
  },
  {
   "cell_type": "code",
   "execution_count": 76,
   "id": "1fb6468a",
   "metadata": {},
   "outputs": [
    {
     "data": {
      "text/plain": [
       "[20.5]"
      ]
     },
     "execution_count": 76,
     "metadata": {},
     "output_type": "execute_result"
    }
   ],
   "source": [
    "l[-1:6]"
   ]
  },
  {
   "cell_type": "code",
   "execution_count": 77,
   "id": "0cd41ab2",
   "metadata": {},
   "outputs": [
    {
     "data": {
      "text/plain": [
       "'bhaskar'"
      ]
     },
     "execution_count": 77,
     "metadata": {},
     "output_type": "execute_result"
    }
   ],
   "source": [
    "l[0]"
   ]
  },
  {
   "cell_type": "code",
   "execution_count": 78,
   "id": "aba953d8",
   "metadata": {},
   "outputs": [
    {
     "data": {
      "text/plain": [
       "str"
      ]
     },
     "execution_count": 78,
     "metadata": {},
     "output_type": "execute_result"
    }
   ],
   "source": [
    "type(l[0])"
   ]
  },
  {
   "cell_type": "code",
   "execution_count": 79,
   "id": "9c3ce5ef",
   "metadata": {},
   "outputs": [
    {
     "data": {
      "text/plain": [
       "'a'"
      ]
     },
     "execution_count": 79,
     "metadata": {},
     "output_type": "execute_result"
    }
   ],
   "source": [
    "l[0][2]"
   ]
  },
  {
   "cell_type": "code",
   "execution_count": 80,
   "id": "1a623ea8",
   "metadata": {},
   "outputs": [
    {
     "data": {
      "text/plain": [
       "4.0"
      ]
     },
     "execution_count": 80,
     "metadata": {},
     "output_type": "execute_result"
    }
   ],
   "source": [
    "l[3].real"
   ]
  },
  {
   "cell_type": "code",
   "execution_count": 81,
   "id": "e7498499",
   "metadata": {},
   "outputs": [],
   "source": [
    "l1 = [\"xyz\", \"kumar\",35]\n",
    "l2 = [\"hsu\", \"knc\", 25]"
   ]
  },
  {
   "cell_type": "code",
   "execution_count": 82,
   "id": "71e88b7b",
   "metadata": {},
   "outputs": [
    {
     "data": {
      "text/plain": [
       "['xyz', 'kumar', 35, 'hsu', 'knc', 25]"
      ]
     },
     "execution_count": 82,
     "metadata": {},
     "output_type": "execute_result"
    }
   ],
   "source": [
    "l1+l2"
   ]
  },
  {
   "cell_type": "code",
   "execution_count": 83,
   "id": "8f5044a2",
   "metadata": {},
   "outputs": [
    {
     "data": {
      "text/plain": [
       "['xyz',\n",
       " 'kumar',\n",
       " 35,\n",
       " 'xyz',\n",
       " 'kumar',\n",
       " 35,\n",
       " 'xyz',\n",
       " 'kumar',\n",
       " 35,\n",
       " 'xyz',\n",
       " 'kumar',\n",
       " 35]"
      ]
     },
     "execution_count": 83,
     "metadata": {},
     "output_type": "execute_result"
    }
   ],
   "source": [
    "l1*4"
   ]
  },
  {
   "cell_type": "code",
   "execution_count": 84,
   "id": "41a47887",
   "metadata": {},
   "outputs": [
    {
     "data": {
      "text/plain": [
       "['xyz', 'kumar', 35]"
      ]
     },
     "execution_count": 84,
     "metadata": {},
     "output_type": "execute_result"
    }
   ],
   "source": [
    "l1"
   ]
  },
  {
   "cell_type": "code",
   "execution_count": 86,
   "id": "395d628c",
   "metadata": {},
   "outputs": [],
   "source": [
    "l1[0] = \"bhaskar\""
   ]
  },
  {
   "cell_type": "code",
   "execution_count": 89,
   "id": "1a47557f",
   "metadata": {},
   "outputs": [
    {
     "data": {
      "text/plain": [
       "['bhaskar', 'kumar', 35]"
      ]
     },
     "execution_count": 89,
     "metadata": {},
     "output_type": "execute_result"
    }
   ],
   "source": [
    "l1 #replacement using indexes item assignments"
   ]
  },
  {
   "cell_type": "markdown",
   "id": "e5660e2b",
   "metadata": {},
   "source": [
    "## Mutability----- which can be change,list is mutable "
   ]
  },
  {
   "cell_type": "code",
   "execution_count": 92,
   "id": "3676aa8c",
   "metadata": {},
   "outputs": [
    {
     "data": {
      "text/plain": [
       "['bhaskar', 'kumar', 35]"
      ]
     },
     "execution_count": 92,
     "metadata": {},
     "output_type": "execute_result"
    }
   ],
   "source": [
    "l1"
   ]
  },
  {
   "cell_type": "code",
   "execution_count": 93,
   "id": "c817c3da",
   "metadata": {},
   "outputs": [],
   "source": [
    "l[1] = \"bhaskar\""
   ]
  },
  {
   "cell_type": "code",
   "execution_count": 99,
   "id": "e41f9274",
   "metadata": {},
   "outputs": [
    {
     "data": {
      "text/plain": [
       "'sairam'"
      ]
     },
     "execution_count": 99,
     "metadata": {},
     "output_type": "execute_result"
    }
   ],
   "source": [
    "s"
   ]
  },
  {
   "cell_type": "code",
   "execution_count": 100,
   "id": "a5d251a4",
   "metadata": {},
   "outputs": [
    {
     "data": {
      "text/plain": [
       "'hairam'"
      ]
     },
     "execution_count": 100,
     "metadata": {},
     "output_type": "execute_result"
    }
   ],
   "source": [
    "s.replace('s','h')  #in string the memory allocation address changes whic is immutable"
   ]
  },
  {
   "cell_type": "code",
   "execution_count": 101,
   "id": "4dd30bc8",
   "metadata": {},
   "outputs": [
    {
     "data": {
      "text/plain": [
       "['bhaskar', 'kumar', 35]"
      ]
     },
     "execution_count": 101,
     "metadata": {},
     "output_type": "execute_result"
    }
   ],
   "source": [
    "l1"
   ]
  },
  {
   "cell_type": "code",
   "execution_count": 102,
   "id": "18f50748",
   "metadata": {},
   "outputs": [
    {
     "data": {
      "text/plain": [
       "3"
      ]
     },
     "execution_count": 102,
     "metadata": {},
     "output_type": "execute_result"
    }
   ],
   "source": [
    "len(l1)"
   ]
  },
  {
   "cell_type": "code",
   "execution_count": 104,
   "id": "ede7c945",
   "metadata": {},
   "outputs": [
    {
     "data": {
      "text/plain": [
       "True"
      ]
     },
     "execution_count": 104,
     "metadata": {},
     "output_type": "execute_result"
    }
   ],
   "source": [
    "35 in l1"
   ]
  },
  {
   "cell_type": "code",
   "execution_count": 105,
   "id": "0b0b29ef",
   "metadata": {},
   "outputs": [
    {
     "data": {
      "text/plain": [
       "['hsu', 'knc', 25]"
      ]
     },
     "execution_count": 105,
     "metadata": {},
     "output_type": "execute_result"
    }
   ],
   "source": [
    "l2"
   ]
  },
  {
   "cell_type": "code",
   "execution_count": 106,
   "id": "fb979259",
   "metadata": {},
   "outputs": [],
   "source": [
    "l2.append(\"kd\")"
   ]
  },
  {
   "cell_type": "code",
   "execution_count": 107,
   "id": "e26f4c3c",
   "metadata": {},
   "outputs": [
    {
     "data": {
      "text/plain": [
       "['hsu', 'knc', 25, 'kd']"
      ]
     },
     "execution_count": 107,
     "metadata": {},
     "output_type": "execute_result"
    }
   ],
   "source": [
    "l2"
   ]
  },
  {
   "cell_type": "code",
   "execution_count": 110,
   "id": "ed1e267b",
   "metadata": {},
   "outputs": [
    {
     "data": {
      "text/plain": [
       "25"
      ]
     },
     "execution_count": 110,
     "metadata": {},
     "output_type": "execute_result"
    }
   ],
   "source": [
    "l2.pop()  ## eliminate the last element with indexing we can eliminate particular element"
   ]
  },
  {
   "cell_type": "code",
   "execution_count": 109,
   "id": "06d4e299",
   "metadata": {},
   "outputs": [
    {
     "data": {
      "text/plain": [
       "['hsu', 'knc', 25]"
      ]
     },
     "execution_count": 109,
     "metadata": {},
     "output_type": "execute_result"
    }
   ],
   "source": [
    "l2"
   ]
  },
  {
   "cell_type": "code",
   "execution_count": 111,
   "id": "bd7614c1",
   "metadata": {},
   "outputs": [],
   "source": [
    "l2.insert(1,\"dg\")"
   ]
  },
  {
   "cell_type": "code",
   "execution_count": 112,
   "id": "76671e7d",
   "metadata": {},
   "outputs": [
    {
     "data": {
      "text/plain": [
       "['hsu', 'dg', 'knc']"
      ]
     },
     "execution_count": 112,
     "metadata": {},
     "output_type": "execute_result"
    }
   ],
   "source": [
    "l2"
   ]
  },
  {
   "cell_type": "code",
   "execution_count": 113,
   "id": "d8edda2a",
   "metadata": {},
   "outputs": [],
   "source": [
    "l2.insert(3,[34,25,8,43,])"
   ]
  },
  {
   "cell_type": "code",
   "execution_count": 114,
   "id": "e598c701",
   "metadata": {},
   "outputs": [
    {
     "data": {
      "text/plain": [
       "['hsu', 'dg', 'knc', [34, 25, 8, 43]]"
      ]
     },
     "execution_count": 114,
     "metadata": {},
     "output_type": "execute_result"
    }
   ],
   "source": [
    "l2"
   ]
  },
  {
   "cell_type": "code",
   "execution_count": 115,
   "id": "3cad5180",
   "metadata": {},
   "outputs": [],
   "source": [
    "l2.append(25326)"
   ]
  },
  {
   "cell_type": "code",
   "execution_count": 116,
   "id": "ce45b76b",
   "metadata": {},
   "outputs": [
    {
     "data": {
      "text/plain": [
       "['hsu', 'dg', 'knc', [34, 25, 8, 43], 25326]"
      ]
     },
     "execution_count": 116,
     "metadata": {},
     "output_type": "execute_result"
    }
   ],
   "source": [
    "l2"
   ]
  },
  {
   "cell_type": "code",
   "execution_count": 117,
   "id": "574561c5",
   "metadata": {},
   "outputs": [
    {
     "data": {
      "text/plain": [
       "[25326, [34, 25, 8, 43], 'knc', 'dg', 'hsu']"
      ]
     },
     "execution_count": 117,
     "metadata": {},
     "output_type": "execute_result"
    }
   ],
   "source": [
    "l2[::-1]"
   ]
  },
  {
   "cell_type": "code",
   "execution_count": 122,
   "id": "7a41115c",
   "metadata": {},
   "outputs": [],
   "source": [
    "l2.reverse()"
   ]
  },
  {
   "cell_type": "code",
   "execution_count": 123,
   "id": "ce64f08a",
   "metadata": {},
   "outputs": [
    {
     "data": {
      "text/plain": [
       "[25326, [34, 25, 8, 43], 'knc', 'dg', 'hsu']"
      ]
     },
     "execution_count": 123,
     "metadata": {},
     "output_type": "execute_result"
    }
   ],
   "source": [
    "l2"
   ]
  },
  {
   "cell_type": "code",
   "execution_count": 125,
   "id": "710cd725",
   "metadata": {},
   "outputs": [
    {
     "data": {
      "text/plain": [
       "8"
      ]
     },
     "execution_count": 125,
     "metadata": {},
     "output_type": "execute_result"
    }
   ],
   "source": [
    "l2[1][2]"
   ]
  },
  {
   "cell_type": "code",
   "execution_count": 128,
   "id": "168529ad",
   "metadata": {},
   "outputs": [
    {
     "data": {
      "text/plain": [
       "1"
      ]
     },
     "execution_count": 128,
     "metadata": {},
     "output_type": "execute_result"
    }
   ],
   "source": [
    "l2.count('hsu') #how many times this element appears"
   ]
  },
  {
   "cell_type": "code",
   "execution_count": 129,
   "id": "a18ea2fd",
   "metadata": {},
   "outputs": [],
   "source": [
    "l2.append([10,5,8,6])"
   ]
  },
  {
   "cell_type": "code",
   "execution_count": 130,
   "id": "2ac0a67c",
   "metadata": {},
   "outputs": [
    {
     "data": {
      "text/plain": [
       "[25326, [34, 25, 8, 43], 'knc', 'dg', 'hsu', [10, 5, 8, 6]]"
      ]
     },
     "execution_count": 130,
     "metadata": {},
     "output_type": "execute_result"
    }
   ],
   "source": [
    "l2"
   ]
  },
  {
   "cell_type": "code",
   "execution_count": 131,
   "id": "a6141154",
   "metadata": {},
   "outputs": [
    {
     "data": {
      "text/plain": [
       "['bhaskar', 'kumar', 35]"
      ]
     },
     "execution_count": 131,
     "metadata": {},
     "output_type": "execute_result"
    }
   ],
   "source": [
    "l1"
   ]
  },
  {
   "cell_type": "code",
   "execution_count": 134,
   "id": "c70c765a",
   "metadata": {},
   "outputs": [],
   "source": [
    "l1.extend([2,5,65,\"kknsd\"]) #unravels and concatenates"
   ]
  },
  {
   "cell_type": "code",
   "execution_count": 135,
   "id": "9bddd29b",
   "metadata": {},
   "outputs": [
    {
     "data": {
      "text/plain": [
       "['bhaskar', 'kumar', 35, 2, 5, 65, 'kknsd', 2, 5, 65, 'kknsd']"
      ]
     },
     "execution_count": 135,
     "metadata": {},
     "output_type": "execute_result"
    }
   ],
   "source": [
    "l1"
   ]
  },
  {
   "cell_type": "code",
   "execution_count": null,
   "id": "aa743ec4",
   "metadata": {},
   "outputs": [],
   "source": []
  },
  {
   "cell_type": "code",
   "execution_count": null,
   "id": "786cb178",
   "metadata": {},
   "outputs": [],
   "source": []
  },
  {
   "cell_type": "code",
   "execution_count": null,
   "id": "c2e41551",
   "metadata": {},
   "outputs": [],
   "source": []
  },
  {
   "cell_type": "code",
   "execution_count": null,
   "id": "1e76fad3",
   "metadata": {},
   "outputs": [],
   "source": []
  },
  {
   "cell_type": "code",
   "execution_count": null,
   "id": "1a8f955e",
   "metadata": {},
   "outputs": [],
   "source": []
  },
  {
   "cell_type": "code",
   "execution_count": null,
   "id": "65bec713",
   "metadata": {},
   "outputs": [],
   "source": []
  },
  {
   "cell_type": "code",
   "execution_count": null,
   "id": "bab2df89",
   "metadata": {},
   "outputs": [],
   "source": []
  },
  {
   "cell_type": "code",
   "execution_count": null,
   "id": "b3f79a12",
   "metadata": {},
   "outputs": [],
   "source": []
  },
  {
   "cell_type": "code",
   "execution_count": null,
   "id": "8cbdda58",
   "metadata": {},
   "outputs": [],
   "source": []
  },
  {
   "cell_type": "code",
   "execution_count": null,
   "id": "a49acc8e",
   "metadata": {},
   "outputs": [],
   "source": []
  },
  {
   "cell_type": "code",
   "execution_count": null,
   "id": "85fc6d5d",
   "metadata": {},
   "outputs": [],
   "source": []
  },
  {
   "cell_type": "code",
   "execution_count": null,
   "id": "ab3a78ca",
   "metadata": {},
   "outputs": [],
   "source": []
  },
  {
   "cell_type": "code",
   "execution_count": null,
   "id": "1847848c",
   "metadata": {},
   "outputs": [],
   "source": []
  },
  {
   "cell_type": "code",
   "execution_count": null,
   "id": "3184d1b3",
   "metadata": {},
   "outputs": [],
   "source": []
  },
  {
   "cell_type": "code",
   "execution_count": null,
   "id": "d5c98172",
   "metadata": {},
   "outputs": [],
   "source": []
  }
 ],
 "metadata": {
  "kernelspec": {
   "display_name": "Python 3 (ipykernel)",
   "language": "python",
   "name": "python3"
  },
  "language_info": {
   "codemirror_mode": {
    "name": "ipython",
    "version": 3
   },
   "file_extension": ".py",
   "mimetype": "text/x-python",
   "name": "python",
   "nbconvert_exporter": "python",
   "pygments_lexer": "ipython3",
   "version": "3.9.7"
  }
 },
 "nbformat": 4,
 "nbformat_minor": 5
}
