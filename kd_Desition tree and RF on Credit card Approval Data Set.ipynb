{
 "cells": [
  {
   "cell_type": "code",
   "execution_count": null,
   "metadata": {},
   "outputs": [],
   "source": []
  },
  {
   "cell_type": "code",
   "execution_count": null,
   "metadata": {},
   "outputs": [],
   "source": []
  },
  {
   "cell_type": "code",
   "execution_count": null,
   "metadata": {},
   "outputs": [],
   "source": []
  },
  {
   "cell_type": "code",
   "execution_count": 1,
   "metadata": {},
   "outputs": [],
   "source": [
    "import pandas as pd\n",
    "import numpy as np"
   ]
  },
  {
   "cell_type": "code",
   "execution_count": 2,
   "metadata": {},
   "outputs": [],
   "source": [
    "df = pd.read_csv(\"C:\\\\Users\\\\HP\\\\Desktop\\\\Dtrees\\\\credit-approval_csv.csv\")"
   ]
  },
  {
   "cell_type": "code",
   "execution_count": 3,
   "metadata": {},
   "outputs": [
    {
     "data": {
      "text/html": [
       "<div>\n",
       "<style scoped>\n",
       "    .dataframe tbody tr th:only-of-type {\n",
       "        vertical-align: middle;\n",
       "    }\n",
       "\n",
       "    .dataframe tbody tr th {\n",
       "        vertical-align: top;\n",
       "    }\n",
       "\n",
       "    .dataframe thead th {\n",
       "        text-align: right;\n",
       "    }\n",
       "</style>\n",
       "<table border=\"1\" class=\"dataframe\">\n",
       "  <thead>\n",
       "    <tr style=\"text-align: right;\">\n",
       "      <th></th>\n",
       "      <th>A1</th>\n",
       "      <th>A2</th>\n",
       "      <th>A3</th>\n",
       "      <th>A4</th>\n",
       "      <th>A5</th>\n",
       "      <th>A6</th>\n",
       "      <th>A7</th>\n",
       "      <th>A8</th>\n",
       "      <th>A9</th>\n",
       "      <th>A10</th>\n",
       "      <th>A11</th>\n",
       "      <th>A12</th>\n",
       "      <th>A13</th>\n",
       "      <th>A14</th>\n",
       "      <th>A15</th>\n",
       "      <th>class</th>\n",
       "    </tr>\n",
       "  </thead>\n",
       "  <tbody>\n",
       "    <tr>\n",
       "      <th>685</th>\n",
       "      <td>b</td>\n",
       "      <td>21.08</td>\n",
       "      <td>10.085</td>\n",
       "      <td>y</td>\n",
       "      <td>p</td>\n",
       "      <td>e</td>\n",
       "      <td>h</td>\n",
       "      <td>1.25</td>\n",
       "      <td>f</td>\n",
       "      <td>f</td>\n",
       "      <td>0</td>\n",
       "      <td>f</td>\n",
       "      <td>g</td>\n",
       "      <td>260.0</td>\n",
       "      <td>0</td>\n",
       "      <td>-</td>\n",
       "    </tr>\n",
       "    <tr>\n",
       "      <th>686</th>\n",
       "      <td>a</td>\n",
       "      <td>22.67</td>\n",
       "      <td>0.750</td>\n",
       "      <td>u</td>\n",
       "      <td>g</td>\n",
       "      <td>c</td>\n",
       "      <td>v</td>\n",
       "      <td>2.00</td>\n",
       "      <td>f</td>\n",
       "      <td>t</td>\n",
       "      <td>2</td>\n",
       "      <td>t</td>\n",
       "      <td>g</td>\n",
       "      <td>200.0</td>\n",
       "      <td>394</td>\n",
       "      <td>-</td>\n",
       "    </tr>\n",
       "    <tr>\n",
       "      <th>687</th>\n",
       "      <td>a</td>\n",
       "      <td>25.25</td>\n",
       "      <td>13.500</td>\n",
       "      <td>y</td>\n",
       "      <td>p</td>\n",
       "      <td>ff</td>\n",
       "      <td>ff</td>\n",
       "      <td>2.00</td>\n",
       "      <td>f</td>\n",
       "      <td>t</td>\n",
       "      <td>1</td>\n",
       "      <td>t</td>\n",
       "      <td>g</td>\n",
       "      <td>200.0</td>\n",
       "      <td>1</td>\n",
       "      <td>-</td>\n",
       "    </tr>\n",
       "    <tr>\n",
       "      <th>688</th>\n",
       "      <td>b</td>\n",
       "      <td>17.92</td>\n",
       "      <td>0.205</td>\n",
       "      <td>u</td>\n",
       "      <td>g</td>\n",
       "      <td>aa</td>\n",
       "      <td>v</td>\n",
       "      <td>0.04</td>\n",
       "      <td>f</td>\n",
       "      <td>f</td>\n",
       "      <td>0</td>\n",
       "      <td>f</td>\n",
       "      <td>g</td>\n",
       "      <td>280.0</td>\n",
       "      <td>750</td>\n",
       "      <td>-</td>\n",
       "    </tr>\n",
       "    <tr>\n",
       "      <th>689</th>\n",
       "      <td>b</td>\n",
       "      <td>35.00</td>\n",
       "      <td>3.375</td>\n",
       "      <td>u</td>\n",
       "      <td>g</td>\n",
       "      <td>c</td>\n",
       "      <td>h</td>\n",
       "      <td>8.29</td>\n",
       "      <td>f</td>\n",
       "      <td>f</td>\n",
       "      <td>0</td>\n",
       "      <td>t</td>\n",
       "      <td>g</td>\n",
       "      <td>0.0</td>\n",
       "      <td>0</td>\n",
       "      <td>-</td>\n",
       "    </tr>\n",
       "  </tbody>\n",
       "</table>\n",
       "</div>"
      ],
      "text/plain": [
       "    A1     A2      A3 A4 A5  A6  A7    A8 A9 A10  A11 A12 A13    A14  A15  \\\n",
       "685  b  21.08  10.085  y  p   e   h  1.25  f   f    0   f   g  260.0    0   \n",
       "686  a  22.67   0.750  u  g   c   v  2.00  f   t    2   t   g  200.0  394   \n",
       "687  a  25.25  13.500  y  p  ff  ff  2.00  f   t    1   t   g  200.0    1   \n",
       "688  b  17.92   0.205  u  g  aa   v  0.04  f   f    0   f   g  280.0  750   \n",
       "689  b  35.00   3.375  u  g   c   h  8.29  f   f    0   t   g    0.0    0   \n",
       "\n",
       "    class  \n",
       "685     -  \n",
       "686     -  \n",
       "687     -  \n",
       "688     -  \n",
       "689     -  "
      ]
     },
     "execution_count": 3,
     "metadata": {},
     "output_type": "execute_result"
    }
   ],
   "source": [
    "df.tail()"
   ]
  },
  {
   "cell_type": "code",
   "execution_count": 3,
   "metadata": {},
   "outputs": [],
   "source": [
    "df = df.dropna(axis=0, how='all')"
   ]
  },
  {
   "cell_type": "code",
   "execution_count": 11,
   "metadata": {},
   "outputs": [
    {
     "name": "stdout",
     "output_type": "stream",
     "text": [
      "Index(['A1', 'A4', 'A5', 'A6', 'A7', 'A9', 'A10', 'A12', 'A13', 'class'], dtype='object')\n"
     ]
    }
   ],
   "source": [
    "objList = df.select_dtypes(include = \"object\").columns\n",
    "print (objList)"
   ]
  },
  {
   "cell_type": "code",
   "execution_count": 12,
   "metadata": {},
   "outputs": [
    {
     "name": "stdout",
     "output_type": "stream",
     "text": [
      "<class 'pandas.core.frame.DataFrame'>\n",
      "Int64Index: 653 entries, 0 to 689\n",
      "Data columns (total 16 columns):\n",
      "A1       653 non-null int32\n",
      "A2       653 non-null float64\n",
      "A3       653 non-null float64\n",
      "A4       653 non-null int32\n",
      "A5       653 non-null int32\n",
      "A6       653 non-null int32\n",
      "A7       653 non-null int32\n",
      "A8       653 non-null float64\n",
      "A9       653 non-null int32\n",
      "A10      653 non-null int32\n",
      "A11      653 non-null int64\n",
      "A12      653 non-null int32\n",
      "A13      653 non-null int32\n",
      "A14      653 non-null float64\n",
      "A15      653 non-null int64\n",
      "class    653 non-null int32\n",
      "dtypes: float64(4), int32(10), int64(2)\n",
      "memory usage: 61.2 KB\n",
      "None\n"
     ]
    }
   ],
   "source": [
    "#Label Encoding for object to numeric conversion\n",
    "from sklearn.preprocessing import LabelEncoder\n",
    "le = LabelEncoder()\n",
    "\n",
    "for feat in objList:\n",
    "    df[feat] = le.fit_transform(df[feat].astype(str))\n",
    "\n",
    "print (df.info())"
   ]
  },
  {
   "cell_type": "code",
   "execution_count": 20,
   "metadata": {},
   "outputs": [
    {
     "data": {
      "text/html": [
       "<div>\n",
       "<style scoped>\n",
       "    .dataframe tbody tr th:only-of-type {\n",
       "        vertical-align: middle;\n",
       "    }\n",
       "\n",
       "    .dataframe tbody tr th {\n",
       "        vertical-align: top;\n",
       "    }\n",
       "\n",
       "    .dataframe thead th {\n",
       "        text-align: right;\n",
       "    }\n",
       "</style>\n",
       "<table border=\"1\" class=\"dataframe\">\n",
       "  <thead>\n",
       "    <tr style=\"text-align: right;\">\n",
       "      <th></th>\n",
       "      <th>A1</th>\n",
       "      <th>A2</th>\n",
       "      <th>A3</th>\n",
       "      <th>A4</th>\n",
       "      <th>A5</th>\n",
       "      <th>A6</th>\n",
       "      <th>A7</th>\n",
       "      <th>A8</th>\n",
       "      <th>A9</th>\n",
       "      <th>A10</th>\n",
       "      <th>A11</th>\n",
       "      <th>A12</th>\n",
       "      <th>A13</th>\n",
       "      <th>A14</th>\n",
       "      <th>A15</th>\n",
       "      <th>class</th>\n",
       "    </tr>\n",
       "  </thead>\n",
       "  <tbody>\n",
       "    <tr>\n",
       "      <th>0</th>\n",
       "      <td>1</td>\n",
       "      <td>30.83</td>\n",
       "      <td>0.000</td>\n",
       "      <td>2</td>\n",
       "      <td>0</td>\n",
       "      <td>13</td>\n",
       "      <td>8</td>\n",
       "      <td>1.25</td>\n",
       "      <td>1</td>\n",
       "      <td>1</td>\n",
       "      <td>1</td>\n",
       "      <td>0</td>\n",
       "      <td>0</td>\n",
       "      <td>202.0</td>\n",
       "      <td>0</td>\n",
       "      <td>0</td>\n",
       "    </tr>\n",
       "    <tr>\n",
       "      <th>1</th>\n",
       "      <td>0</td>\n",
       "      <td>58.67</td>\n",
       "      <td>4.460</td>\n",
       "      <td>2</td>\n",
       "      <td>0</td>\n",
       "      <td>11</td>\n",
       "      <td>3</td>\n",
       "      <td>3.04</td>\n",
       "      <td>1</td>\n",
       "      <td>1</td>\n",
       "      <td>6</td>\n",
       "      <td>0</td>\n",
       "      <td>0</td>\n",
       "      <td>43.0</td>\n",
       "      <td>560</td>\n",
       "      <td>0</td>\n",
       "    </tr>\n",
       "    <tr>\n",
       "      <th>2</th>\n",
       "      <td>0</td>\n",
       "      <td>24.50</td>\n",
       "      <td>0.500</td>\n",
       "      <td>2</td>\n",
       "      <td>0</td>\n",
       "      <td>11</td>\n",
       "      <td>3</td>\n",
       "      <td>1.50</td>\n",
       "      <td>1</td>\n",
       "      <td>0</td>\n",
       "      <td>0</td>\n",
       "      <td>0</td>\n",
       "      <td>0</td>\n",
       "      <td>280.0</td>\n",
       "      <td>824</td>\n",
       "      <td>0</td>\n",
       "    </tr>\n",
       "    <tr>\n",
       "      <th>3</th>\n",
       "      <td>1</td>\n",
       "      <td>27.83</td>\n",
       "      <td>1.540</td>\n",
       "      <td>2</td>\n",
       "      <td>0</td>\n",
       "      <td>13</td>\n",
       "      <td>8</td>\n",
       "      <td>3.75</td>\n",
       "      <td>1</td>\n",
       "      <td>1</td>\n",
       "      <td>5</td>\n",
       "      <td>1</td>\n",
       "      <td>0</td>\n",
       "      <td>100.0</td>\n",
       "      <td>3</td>\n",
       "      <td>0</td>\n",
       "    </tr>\n",
       "    <tr>\n",
       "      <th>4</th>\n",
       "      <td>1</td>\n",
       "      <td>20.17</td>\n",
       "      <td>5.625</td>\n",
       "      <td>2</td>\n",
       "      <td>0</td>\n",
       "      <td>13</td>\n",
       "      <td>8</td>\n",
       "      <td>1.71</td>\n",
       "      <td>1</td>\n",
       "      <td>0</td>\n",
       "      <td>0</td>\n",
       "      <td>0</td>\n",
       "      <td>2</td>\n",
       "      <td>120.0</td>\n",
       "      <td>0</td>\n",
       "      <td>0</td>\n",
       "    </tr>\n",
       "  </tbody>\n",
       "</table>\n",
       "</div>"
      ],
      "text/plain": [
       "   A1     A2     A3  A4  A5  A6  A7    A8  A9  A10  A11  A12  A13    A14  A15  \\\n",
       "0   1  30.83  0.000   2   0  13   8  1.25   1    1    1    0    0  202.0    0   \n",
       "1   0  58.67  4.460   2   0  11   3  3.04   1    1    6    0    0   43.0  560   \n",
       "2   0  24.50  0.500   2   0  11   3  1.50   1    0    0    0    0  280.0  824   \n",
       "3   1  27.83  1.540   2   0  13   8  3.75   1    1    5    1    0  100.0    3   \n",
       "4   1  20.17  5.625   2   0  13   8  1.71   1    0    0    0    2  120.0    0   \n",
       "\n",
       "   class  \n",
       "0      0  \n",
       "1      0  \n",
       "2      0  \n",
       "3      0  \n",
       "4      0  "
      ]
     },
     "execution_count": 20,
     "metadata": {},
     "output_type": "execute_result"
    }
   ],
   "source": [
    "df.head()"
   ]
  },
  {
   "cell_type": "code",
   "execution_count": 5,
   "metadata": {},
   "outputs": [
    {
     "data": {
      "text/plain": [
       "Index(['A1', 'A2', 'A3', 'A4', 'A5', 'A6', 'A7', 'A8', 'A9', 'A10', 'A11',\n",
       "       'A12', 'A13', 'A14', 'A15', 'class'],\n",
       "      dtype='object')"
      ]
     },
     "execution_count": 5,
     "metadata": {},
     "output_type": "execute_result"
    }
   ],
   "source": [
    "df.columns"
   ]
  },
  {
   "cell_type": "code",
   "execution_count": 6,
   "metadata": {},
   "outputs": [
    {
     "data": {
      "text/plain": [
       "(690, 16)"
      ]
     },
     "execution_count": 6,
     "metadata": {},
     "output_type": "execute_result"
    }
   ],
   "source": [
    "df.shape"
   ]
  },
  {
   "cell_type": "code",
   "execution_count": 26,
   "metadata": {},
   "outputs": [
    {
     "data": {
      "text/plain": [
       "A1        0\n",
       "A2       12\n",
       "A3        0\n",
       "A4        0\n",
       "A5        0\n",
       "A6        0\n",
       "A7        0\n",
       "A8        0\n",
       "A9        0\n",
       "A10       0\n",
       "A11       0\n",
       "A12       0\n",
       "A13       0\n",
       "A14      13\n",
       "A15       0\n",
       "class     0\n",
       "dtype: int64"
      ]
     },
     "execution_count": 26,
     "metadata": {},
     "output_type": "execute_result"
    }
   ],
   "source": [
    "df.isnull().sum()"
   ]
  },
  {
   "cell_type": "code",
   "execution_count": 5,
   "metadata": {},
   "outputs": [],
   "source": [
    "df = df.dropna(axis=0, how='any') ## As we can see that Money_Value has one null value so I am droping it of this feature."
   ]
  },
  {
   "cell_type": "code",
   "execution_count": 29,
   "metadata": {},
   "outputs": [
    {
     "data": {
      "text/plain": [
       "A1       0\n",
       "A2       0\n",
       "A3       0\n",
       "A4       0\n",
       "A5       0\n",
       "A6       0\n",
       "A7       0\n",
       "A8       0\n",
       "A9       0\n",
       "A10      0\n",
       "A11      0\n",
       "A12      0\n",
       "A13      0\n",
       "A14      0\n",
       "A15      0\n",
       "class    0\n",
       "dtype: int64"
      ]
     },
     "execution_count": 29,
     "metadata": {},
     "output_type": "execute_result"
    }
   ],
   "source": [
    "df.isnull().sum()"
   ]
  },
  {
   "cell_type": "code",
   "execution_count": 28,
   "metadata": {},
   "outputs": [
    {
     "data": {
      "text/plain": [
       "(666, 16)"
      ]
     },
     "execution_count": 28,
     "metadata": {},
     "output_type": "execute_result"
    }
   ],
   "source": [
    "df.shape"
   ]
  },
  {
   "cell_type": "code",
   "execution_count": 9,
   "metadata": {},
   "outputs": [
    {
     "name": "stdout",
     "output_type": "stream",
     "text": [
      "<class 'pandas.core.frame.DataFrame'>\n",
      "Int64Index: 690 entries, 0 to 689\n",
      "Data columns (total 16 columns):\n",
      "A1       678 non-null object\n",
      "A2       678 non-null float64\n",
      "A3       690 non-null float64\n",
      "A4       684 non-null object\n",
      "A5       684 non-null object\n",
      "A6       681 non-null object\n",
      "A7       681 non-null object\n",
      "A8       690 non-null float64\n",
      "A9       690 non-null object\n",
      "A10      690 non-null object\n",
      "A11      690 non-null int64\n",
      "A12      690 non-null object\n",
      "A13      690 non-null object\n",
      "A14      677 non-null float64\n",
      "A15      690 non-null int64\n",
      "class    690 non-null object\n",
      "dtypes: float64(4), int64(2), object(10)\n",
      "memory usage: 91.6+ KB\n"
     ]
    }
   ],
   "source": [
    "df.info()"
   ]
  },
  {
   "cell_type": "code",
   "execution_count": 21,
   "metadata": {},
   "outputs": [
    {
     "data": {
      "text/html": [
       "<div>\n",
       "<style scoped>\n",
       "    .dataframe tbody tr th:only-of-type {\n",
       "        vertical-align: middle;\n",
       "    }\n",
       "\n",
       "    .dataframe tbody tr th {\n",
       "        vertical-align: top;\n",
       "    }\n",
       "\n",
       "    .dataframe thead th {\n",
       "        text-align: right;\n",
       "    }\n",
       "</style>\n",
       "<table border=\"1\" class=\"dataframe\">\n",
       "  <thead>\n",
       "    <tr style=\"text-align: right;\">\n",
       "      <th></th>\n",
       "      <th>A1</th>\n",
       "      <th>A2</th>\n",
       "      <th>A3</th>\n",
       "      <th>A4</th>\n",
       "      <th>A5</th>\n",
       "      <th>A6</th>\n",
       "      <th>A7</th>\n",
       "      <th>A8</th>\n",
       "      <th>A9</th>\n",
       "      <th>A10</th>\n",
       "      <th>A11</th>\n",
       "      <th>A12</th>\n",
       "      <th>A13</th>\n",
       "      <th>A14</th>\n",
       "      <th>A15</th>\n",
       "      <th>class</th>\n",
       "    </tr>\n",
       "  </thead>\n",
       "  <tbody>\n",
       "    <tr>\n",
       "      <th>count</th>\n",
       "      <td>690.000000</td>\n",
       "      <td>678.000000</td>\n",
       "      <td>690.000000</td>\n",
       "      <td>690.000000</td>\n",
       "      <td>690.000000</td>\n",
       "      <td>690.000000</td>\n",
       "      <td>690.000000</td>\n",
       "      <td>690.000000</td>\n",
       "      <td>690.000000</td>\n",
       "      <td>690.000000</td>\n",
       "      <td>690.00000</td>\n",
       "      <td>690.000000</td>\n",
       "      <td>690.000000</td>\n",
       "      <td>677.000000</td>\n",
       "      <td>690.000000</td>\n",
       "      <td>690.000000</td>\n",
       "    </tr>\n",
       "    <tr>\n",
       "      <th>mean</th>\n",
       "      <td>0.713043</td>\n",
       "      <td>31.568171</td>\n",
       "      <td>4.758725</td>\n",
       "      <td>2.221739</td>\n",
       "      <td>0.728986</td>\n",
       "      <td>6.081159</td>\n",
       "      <td>5.678261</td>\n",
       "      <td>2.223406</td>\n",
       "      <td>0.523188</td>\n",
       "      <td>0.427536</td>\n",
       "      <td>2.40000</td>\n",
       "      <td>0.457971</td>\n",
       "      <td>0.176812</td>\n",
       "      <td>184.014771</td>\n",
       "      <td>1017.385507</td>\n",
       "      <td>0.555072</td>\n",
       "    </tr>\n",
       "    <tr>\n",
       "      <th>std</th>\n",
       "      <td>0.489635</td>\n",
       "      <td>11.957862</td>\n",
       "      <td>4.978163</td>\n",
       "      <td>0.455691</td>\n",
       "      <td>1.278561</td>\n",
       "      <td>4.629911</td>\n",
       "      <td>2.966326</td>\n",
       "      <td>3.346513</td>\n",
       "      <td>0.499824</td>\n",
       "      <td>0.495080</td>\n",
       "      <td>4.86294</td>\n",
       "      <td>0.498592</td>\n",
       "      <td>0.557869</td>\n",
       "      <td>173.806768</td>\n",
       "      <td>5210.102598</td>\n",
       "      <td>0.497318</td>\n",
       "    </tr>\n",
       "    <tr>\n",
       "      <th>min</th>\n",
       "      <td>0.000000</td>\n",
       "      <td>13.750000</td>\n",
       "      <td>0.000000</td>\n",
       "      <td>0.000000</td>\n",
       "      <td>0.000000</td>\n",
       "      <td>0.000000</td>\n",
       "      <td>0.000000</td>\n",
       "      <td>0.000000</td>\n",
       "      <td>0.000000</td>\n",
       "      <td>0.000000</td>\n",
       "      <td>0.00000</td>\n",
       "      <td>0.000000</td>\n",
       "      <td>0.000000</td>\n",
       "      <td>0.000000</td>\n",
       "      <td>0.000000</td>\n",
       "      <td>0.000000</td>\n",
       "    </tr>\n",
       "    <tr>\n",
       "      <th>25%</th>\n",
       "      <td>0.000000</td>\n",
       "      <td>22.602500</td>\n",
       "      <td>1.000000</td>\n",
       "      <td>2.000000</td>\n",
       "      <td>0.000000</td>\n",
       "      <td>1.000000</td>\n",
       "      <td>3.000000</td>\n",
       "      <td>0.165000</td>\n",
       "      <td>0.000000</td>\n",
       "      <td>0.000000</td>\n",
       "      <td>0.00000</td>\n",
       "      <td>0.000000</td>\n",
       "      <td>0.000000</td>\n",
       "      <td>75.000000</td>\n",
       "      <td>0.000000</td>\n",
       "      <td>0.000000</td>\n",
       "    </tr>\n",
       "    <tr>\n",
       "      <th>50%</th>\n",
       "      <td>1.000000</td>\n",
       "      <td>28.460000</td>\n",
       "      <td>2.750000</td>\n",
       "      <td>2.000000</td>\n",
       "      <td>0.000000</td>\n",
       "      <td>6.000000</td>\n",
       "      <td>8.000000</td>\n",
       "      <td>1.000000</td>\n",
       "      <td>1.000000</td>\n",
       "      <td>0.000000</td>\n",
       "      <td>0.00000</td>\n",
       "      <td>0.000000</td>\n",
       "      <td>0.000000</td>\n",
       "      <td>160.000000</td>\n",
       "      <td>5.000000</td>\n",
       "      <td>1.000000</td>\n",
       "    </tr>\n",
       "    <tr>\n",
       "      <th>75%</th>\n",
       "      <td>1.000000</td>\n",
       "      <td>38.230000</td>\n",
       "      <td>7.207500</td>\n",
       "      <td>2.000000</td>\n",
       "      <td>0.000000</td>\n",
       "      <td>11.000000</td>\n",
       "      <td>8.000000</td>\n",
       "      <td>2.625000</td>\n",
       "      <td>1.000000</td>\n",
       "      <td>1.000000</td>\n",
       "      <td>3.00000</td>\n",
       "      <td>1.000000</td>\n",
       "      <td>0.000000</td>\n",
       "      <td>276.000000</td>\n",
       "      <td>395.500000</td>\n",
       "      <td>1.000000</td>\n",
       "    </tr>\n",
       "    <tr>\n",
       "      <th>max</th>\n",
       "      <td>2.000000</td>\n",
       "      <td>80.250000</td>\n",
       "      <td>28.000000</td>\n",
       "      <td>3.000000</td>\n",
       "      <td>3.000000</td>\n",
       "      <td>14.000000</td>\n",
       "      <td>9.000000</td>\n",
       "      <td>28.500000</td>\n",
       "      <td>1.000000</td>\n",
       "      <td>1.000000</td>\n",
       "      <td>67.00000</td>\n",
       "      <td>1.000000</td>\n",
       "      <td>2.000000</td>\n",
       "      <td>2000.000000</td>\n",
       "      <td>100000.000000</td>\n",
       "      <td>1.000000</td>\n",
       "    </tr>\n",
       "  </tbody>\n",
       "</table>\n",
       "</div>"
      ],
      "text/plain": [
       "               A1          A2          A3          A4          A5          A6  \\\n",
       "count  690.000000  678.000000  690.000000  690.000000  690.000000  690.000000   \n",
       "mean     0.713043   31.568171    4.758725    2.221739    0.728986    6.081159   \n",
       "std      0.489635   11.957862    4.978163    0.455691    1.278561    4.629911   \n",
       "min      0.000000   13.750000    0.000000    0.000000    0.000000    0.000000   \n",
       "25%      0.000000   22.602500    1.000000    2.000000    0.000000    1.000000   \n",
       "50%      1.000000   28.460000    2.750000    2.000000    0.000000    6.000000   \n",
       "75%      1.000000   38.230000    7.207500    2.000000    0.000000   11.000000   \n",
       "max      2.000000   80.250000   28.000000    3.000000    3.000000   14.000000   \n",
       "\n",
       "               A7          A8          A9         A10        A11         A12  \\\n",
       "count  690.000000  690.000000  690.000000  690.000000  690.00000  690.000000   \n",
       "mean     5.678261    2.223406    0.523188    0.427536    2.40000    0.457971   \n",
       "std      2.966326    3.346513    0.499824    0.495080    4.86294    0.498592   \n",
       "min      0.000000    0.000000    0.000000    0.000000    0.00000    0.000000   \n",
       "25%      3.000000    0.165000    0.000000    0.000000    0.00000    0.000000   \n",
       "50%      8.000000    1.000000    1.000000    0.000000    0.00000    0.000000   \n",
       "75%      8.000000    2.625000    1.000000    1.000000    3.00000    1.000000   \n",
       "max      9.000000   28.500000    1.000000    1.000000   67.00000    1.000000   \n",
       "\n",
       "              A13          A14            A15       class  \n",
       "count  690.000000   677.000000     690.000000  690.000000  \n",
       "mean     0.176812   184.014771    1017.385507    0.555072  \n",
       "std      0.557869   173.806768    5210.102598    0.497318  \n",
       "min      0.000000     0.000000       0.000000    0.000000  \n",
       "25%      0.000000    75.000000       0.000000    0.000000  \n",
       "50%      0.000000   160.000000       5.000000    1.000000  \n",
       "75%      0.000000   276.000000     395.500000    1.000000  \n",
       "max      2.000000  2000.000000  100000.000000    1.000000  "
      ]
     },
     "execution_count": 21,
     "metadata": {},
     "output_type": "execute_result"
    }
   ],
   "source": [
    "df.describe()"
   ]
  },
  {
   "cell_type": "code",
   "execution_count": 11,
   "metadata": {},
   "outputs": [
    {
     "data": {
      "text/plain": [
       "-    383\n",
       "+    307\n",
       "Name: class, dtype: int64"
      ]
     },
     "execution_count": 11,
     "metadata": {},
     "output_type": "execute_result"
    }
   ],
   "source": [
    "df['class'].value_counts()"
   ]
  },
  {
   "cell_type": "code",
   "execution_count": 12,
   "metadata": {},
   "outputs": [
    {
     "name": "stdout",
     "output_type": "stream",
     "text": [
      "percent of +: 44.492753623188406\n",
      "percent of 0: 55.507246376811594\n"
     ]
    }
   ],
   "source": [
    "print(\"percent of +:\",(307/690)*100)\n",
    "print(\"percent of 0:\",(383/690)*100)\n",
    "# we can observe there is good class balance among two classes"
   ]
  },
  {
   "cell_type": "code",
   "execution_count": 6,
   "metadata": {},
   "outputs": [],
   "source": [
    "from sklearn.model_selection import train_test_split\n",
    "from sklearn.tree import DecisionTreeClassifier\n",
    "from sklearn.metrics import confusion_matrix\n",
    "from sklearn.metrics import accuracy_score"
   ]
  },
  {
   "cell_type": "code",
   "execution_count": 13,
   "metadata": {},
   "outputs": [],
   "source": [
    "y = df[[\"class\"]]\n",
    "x = df.drop([\"class\"], axis=1)"
   ]
  },
  {
   "cell_type": "code",
   "execution_count": 14,
   "metadata": {},
   "outputs": [],
   "source": [
    "## train and test split\n",
    "x_train, x_test, y_train, y_test = train_test_split( x, y, test_size=0.30, random_state=33333)"
   ]
  },
  {
   "cell_type": "code",
   "execution_count": 15,
   "metadata": {},
   "outputs": [],
   "source": [
    "# Decision tree on train data \n",
    "dtree = DecisionTreeClassifier() ## created decision tree object with default parameters"
   ]
  },
  {
   "cell_type": "code",
   "execution_count": 16,
   "metadata": {},
   "outputs": [
    {
     "data": {
      "text/plain": [
       "DecisionTreeClassifier(ccp_alpha=0.0, class_weight=None, criterion='gini',\n",
       "                       max_depth=None, max_features=None, max_leaf_nodes=None,\n",
       "                       min_impurity_decrease=0.0, min_impurity_split=None,\n",
       "                       min_samples_leaf=1, min_samples_split=2,\n",
       "                       min_weight_fraction_leaf=0.0, presort='deprecated',\n",
       "                       random_state=None, splitter='best')"
      ]
     },
     "execution_count": 16,
     "metadata": {},
     "output_type": "execute_result"
    }
   ],
   "source": [
    "## train the model \n",
    "dtree.fit(x_train, y_train)"
   ]
  },
  {
   "cell_type": "code",
   "execution_count": 17,
   "metadata": {},
   "outputs": [],
   "source": [
    "## generate predictions on test dataset\n",
    "pred = dtree.predict(x_test)"
   ]
  },
  {
   "cell_type": "code",
   "execution_count": 18,
   "metadata": {},
   "outputs": [
    {
     "data": {
      "text/plain": [
       "array([[70, 17],\n",
       "       [26, 83]], dtype=int64)"
      ]
     },
     "execution_count": 18,
     "metadata": {},
     "output_type": "execute_result"
    }
   ],
   "source": [
    "confusion_matrix( y_test, pred)"
   ]
  },
  {
   "cell_type": "code",
   "execution_count": 19,
   "metadata": {},
   "outputs": [
    {
     "name": "stdout",
     "output_type": "stream",
     "text": [
      "0.7806122448979592\n"
     ]
    }
   ],
   "source": [
    "print(accuracy_score(y_test, pred))"
   ]
  },
  {
   "cell_type": "code",
   "execution_count": 21,
   "metadata": {},
   "outputs": [
    {
     "data": {
      "text/plain": [
       "<matplotlib.legend.Legend at 0x1c06dbfc2b0>"
      ]
     },
     "execution_count": 21,
     "metadata": {},
     "output_type": "execute_result"
    },
    {
     "data": {
      "image/png": "[encoded data removed]",
      "text/plain": [
       "<Figure size 432x288 with 1 Axes>"
      ]
     },
     "metadata": {
      "needs_background": "light"
     },
     "output_type": "display_data"
    }
   ],
   "source": [
    "## Train model with different values of max_depth ranging from 1 to 20 and compare the performance of gini and entropy \n",
    "import matplotlib.pyplot as plt\n",
    "max_depth = []\n",
    "acc_gini = []\n",
    "acc_entropy = []\n",
    "for i in range(1,20):\n",
    " dtree = DecisionTreeClassifier(criterion='gini', max_depth=i)\n",
    " dtree.fit(x_train, y_train)\n",
    " pred = dtree.predict(x_train)\n",
    " acc_gini.append(accuracy_score(y_train, pred))\n",
    " ####\n",
    " dtree = DecisionTreeClassifier(criterion='entropy', max_depth=i)\n",
    " dtree.fit(x_train, y_train)\n",
    " pred = dtree.predict(x_train)\n",
    " acc_entropy.append(accuracy_score(y_train, pred))\n",
    " ####\n",
    " max_depth.append(i)\n",
    "d = pd.DataFrame({'acc_gini':pd.Series(acc_gini), \n",
    " 'acc_entropy':pd.Series(acc_entropy),\n",
    " 'max_depth':pd.Series(max_depth)})\n",
    "# visualizing changes in parameters\n",
    "fig, ax = plt.subplots()\n",
    "plt.plot('max_depth','acc_gini', data=d, label='gini')\n",
    "plt.plot('max_depth','acc_entropy', data=d, label='entropy')\n",
    "plt.xlabel('max_depth')\n",
    "plt.ylabel('accuracy')\n",
    "plt.xticks(np.arange(1,21))\n",
    "plt.grid()\n",
    "plt.legend()"
   ]
  },
  {
   "cell_type": "code",
   "execution_count": null,
   "metadata": {},
   "outputs": [],
   "source": [
    "# from this plot we can infor entropy gives high accuracy than gini becz entropy curve lies on top of gini curve"
   ]
  },
  {
   "cell_type": "code",
   "execution_count": 48,
   "metadata": {},
   "outputs": [
    {
     "data": {
      "text/plain": [
       "<matplotlib.legend.Legend at 0x1c06dd29358>"
      ]
     },
     "execution_count": 48,
     "metadata": {},
     "output_type": "execute_result"
    },
    {
     "data": {
      "image/png": "[encoded data removed]",
      "text/plain": [
       "<Figure size 720x360 with 1 Axes>"
      ]
     },
     "metadata": {
      "needs_background": "light"
     },
     "output_type": "display_data"
    }
   ],
   "source": [
    "max_depth = []\n",
    "acc_train = []\n",
    "acc_test = []\n",
    "for i in range(1,20):\n",
    " dtree = DecisionTreeClassifier(criterion='entropy', max_depth=i)\n",
    " dtree.fit(x_train, y_train)\n",
    " pred = dtree.predict(x_train)\n",
    " pred2 = dtree.predict(x_test)\n",
    " acc_train.append(accuracy_score(y_train, pred))\n",
    " ####\n",
    " acc_test.append(accuracy_score(y_test, pred2))\n",
    " ####\n",
    " max_depth.append(i)\n",
    "d = pd.DataFrame({'acc_train':pd.Series(acc_train), \n",
    " 'acc_test':pd.Series(acc_test),\n",
    " 'max_depth':pd.Series(max_depth)})\n",
    "# visualizing changes in parameters\n",
    "fig, ax = plt.subplots(figsize = [10,5])\n",
    "plt.plot('max_depth','acc_train', data=d, label='train')\n",
    "plt.plot('max_depth','acc_test', data=d, label='test')\n",
    "plt.xlabel('max_depth')\n",
    "plt.ylabel('accuracy')\n",
    "plt.xticks(np.arange(1,21))\n",
    "plt.grid()\n",
    "plt.legend()"
   ]
  },
  {
   "cell_type": "code",
   "execution_count": null,
   "metadata": {},
   "outputs": [],
   "source": [
    "# from these plot we can infor on 3rd level split onwards there exist a lot differnce bw training accuracy(75) and\n",
    "# test accuracy(90) ie on 3rd split onwards model is overfitted\n"
   ]
  },
  {
   "cell_type": "code",
   "execution_count": 87,
   "metadata": {},
   "outputs": [
    {
     "data": {
      "text/plain": [
       "<matplotlib.legend.Legend at 0x1c06f468ba8>"
      ]
     },
     "execution_count": 87,
     "metadata": {},
     "output_type": "execute_result"
    },
    {
     "data": {
      "image/png": "[encoded data removed]",
      "text/plain": [
       "<Figure size 432x288 with 1 Axes>"
      ]
     },
     "metadata": {
      "needs_background": "light"
     },
     "output_type": "display_data"
    }
   ],
   "source": [
    "min_samples_leaf = []\n",
    "acc_train = []\n",
    "acc_test = []\n",
    "for i in range(1,21):\n",
    " dtree = DecisionTreeClassifier(criterion='entropy', min_samples_leaf=i)\n",
    " dtree.fit(x_train, y_train)\n",
    " pred = dtree.predict(x_train)\n",
    " pred2 = dtree.predict(x_test)\n",
    " acc_train.append(accuracy_score(y_train, pred))\n",
    " ####\n",
    " acc_test.append(accuracy_score(y_test, pred2))\n",
    " ####\n",
    " min_samples_leaf.append(i)\n",
    "d = pd.DataFrame({'acc_train':pd.Series(acc_train), \n",
    " 'acc_test':pd.Series(acc_test),\n",
    " 'min_samples_leaf':pd.Series(min_samples_leaf)})\n",
    "# visualizing changes in parameters\n",
    "fig, ax = plt.subplots()\n",
    "plt.plot('min_samples_leaf','acc_train', data=d, label='train')\n",
    "plt.plot('min_samples_leaf','acc_test', data=d, label='test')\n",
    "plt.xlabel('min_samples_leaf')\n",
    "plt.ylabel('accuracy')\n",
    "plt.xticks(np.arange(1,21))\n",
    "plt.grid()\n",
    "plt.legend()"
   ]
  },
  {
   "cell_type": "code",
   "execution_count": 73,
   "metadata": {},
   "outputs": [],
   "source": [
    "# from these plot we can infor \"The minimum number of samples required to be at a leaf node\" is 17.\n",
    "# becz out of all 1 to 20 min num of observations in leaf node, 17 has highest test accuracy(~83%) and its near to \n",
    "# train accuracy(~91%) also so there is no prblem of overfitting.(actually if we consider dt diff is enough so can say moderate overfitting)"
   ]
  },
  {
   "cell_type": "code",
   "execution_count": 86,
   "metadata": {},
   "outputs": [],
   "source": [
    "?DecisionTreeClassifier"
   ]
  },
  {
   "cell_type": "code",
   "execution_count": 49,
   "metadata": {},
   "outputs": [],
   "source": [
    "## created decision tree object with given parameters\n",
    "dtree1 = DecisionTreeClassifier(max_depth = 3,criterion='entropy', random_state=1234)\n",
    "## train the model \n",
    "dtree1.fit(x_train, y_train)\n",
    "## generate predictions on test dataset\n",
    "pred1 = dtree1.predict(x_test)"
   ]
  },
  {
   "cell_type": "code",
   "execution_count": 50,
   "metadata": {},
   "outputs": [],
   "source": [
    "?DecisionTreeClassifier"
   ]
  },
  {
   "cell_type": "code",
   "execution_count": 51,
   "metadata": {},
   "outputs": [
    {
     "data": {
      "text/plain": [
       "array([[60, 27],\n",
       "       [17, 92]], dtype=int64)"
      ]
     },
     "execution_count": 51,
     "metadata": {},
     "output_type": "execute_result"
    }
   ],
   "source": [
    "confusion_matrix( y_test, pred1)"
   ]
  },
  {
   "cell_type": "code",
   "execution_count": 52,
   "metadata": {},
   "outputs": [
    {
     "name": "stdout",
     "output_type": "stream",
     "text": [
      "0.7755102040816326\n"
     ]
    }
   ],
   "source": [
    "# Accuracy on Test dataset\n",
    "print(accuracy_score(y_test, pred1))"
   ]
  },
  {
   "cell_type": "code",
   "execution_count": 53,
   "metadata": {},
   "outputs": [],
   "source": [
    "## generate predictions on train dataset\n",
    "pred2 = dtree1.predict(x_train)"
   ]
  },
  {
   "cell_type": "code",
   "execution_count": 54,
   "metadata": {},
   "outputs": [
    {
     "data": {
      "text/plain": [
       "array([[176,  33],\n",
       "       [ 14, 234]], dtype=int64)"
      ]
     },
     "execution_count": 54,
     "metadata": {},
     "output_type": "execute_result"
    }
   ],
   "source": [
    "confusion_matrix( y_train, pred2)"
   ]
  },
  {
   "cell_type": "code",
   "execution_count": 55,
   "metadata": {},
   "outputs": [
    {
     "name": "stdout",
     "output_type": "stream",
     "text": [
      "0.8971553610503282\n"
     ]
    }
   ],
   "source": [
    "# Accuracy on Test dataset\n",
    "print(accuracy_score(y_train, pred2))"
   ]
  },
  {
   "cell_type": "code",
   "execution_count": null,
   "metadata": {},
   "outputs": [],
   "source": [
    "#Conclusion: There exists high difference bw Accuracy on traing data and Accuracy on test data...It resembles that model is\n",
    "# overfitted at 3rd level split onwards\n",
    "# so we can use splits=2"
   ]
  },
  {
   "cell_type": "code",
   "execution_count": 57,
   "metadata": {},
   "outputs": [
    {
     "data": {
      "text/plain": [
       "array([[80,  7],\n",
       "       [28, 81]], dtype=int64)"
      ]
     },
     "execution_count": 57,
     "metadata": {},
     "output_type": "execute_result"
    }
   ],
   "source": [
    "## created decision tree object with given parameters\n",
    "dtree2 = DecisionTreeClassifier(max_depth = 2,criterion='entropy', random_state=1234)\n",
    "## train the model \n",
    "dtree2.fit(x_train, y_train)\n",
    "## generate predictions on test dataset\n",
    "pred3 = dtree2.predict(x_test)\n",
    "## confusion Matrix\n",
    "confusion_matrix( y_test, pred3)"
   ]
  },
  {
   "cell_type": "code",
   "execution_count": 59,
   "metadata": {},
   "outputs": [
    {
     "name": "stdout",
     "output_type": "stream",
     "text": [
      "0.8214285714285714\n"
     ]
    }
   ],
   "source": [
    "# Accuracy on Test dataset\n",
    "print(accuracy_score(y_test, pred3))"
   ]
  },
  {
   "cell_type": "code",
   "execution_count": 67,
   "metadata": {},
   "outputs": [
    {
     "name": "stdout",
     "output_type": "stream",
     "text": [
      "percent of +: 44.492753623188406\n",
      "percent of 0: 55.507246376811594\n"
     ]
    }
   ],
   "source": [
    "print(\"percent of +:\",(307/690)*100)\n",
    "print(\"percent of 0:\",(383/690)*100)\n",
    "# we can observe there is good class balance among two classes"
   ]
  },
  {
   "cell_type": "code",
   "execution_count": null,
   "metadata": {},
   "outputs": [],
   "source": [
    "## its good balanced data set..so, decision tree with max_depth is good to go with and observed at max_depth=2 model is\n",
    "## unbiased....\n",
    "## but the problem is max_depth = 2 means there model used only 3 variables(or less than 3 becz variable can reused)\n",
    "## out of 15 variables....becz of this we lost explainability about target variable. \n",
    "## to resolve this problem we can use ensemble models"
   ]
  },
  {
   "cell_type": "markdown",
   "metadata": {},
   "source": [
    "-------------------------------------"
   ]
  },
  {
   "cell_type": "markdown",
   "metadata": {},
   "source": [
    "## Random Forest"
   ]
  },
  {
   "cell_type": "code",
   "execution_count": 60,
   "metadata": {},
   "outputs": [],
   "source": [
    "import sklearn\n",
    "from sklearn.ensemble import RandomForestClassifier"
   ]
  },
  {
   "cell_type": "code",
   "execution_count": 61,
   "metadata": {},
   "outputs": [],
   "source": [
    "?RandomForestClassifier"
   ]
  },
  {
   "cell_type": "code",
   "execution_count": 62,
   "metadata": {},
   "outputs": [
    {
     "data": {
      "text/html": [
       "<div>\n",
       "<style scoped>\n",
       "    .dataframe tbody tr th:only-of-type {\n",
       "        vertical-align: middle;\n",
       "    }\n",
       "\n",
       "    .dataframe tbody tr th {\n",
       "        vertical-align: top;\n",
       "    }\n",
       "\n",
       "    .dataframe thead th {\n",
       "        text-align: right;\n",
       "    }\n",
       "</style>\n",
       "<table border=\"1\" class=\"dataframe\">\n",
       "  <thead>\n",
       "    <tr style=\"text-align: right;\">\n",
       "      <th></th>\n",
       "      <th>A1</th>\n",
       "      <th>A2</th>\n",
       "      <th>A3</th>\n",
       "      <th>A4</th>\n",
       "      <th>A5</th>\n",
       "      <th>A6</th>\n",
       "      <th>A7</th>\n",
       "      <th>A8</th>\n",
       "      <th>A9</th>\n",
       "      <th>A10</th>\n",
       "      <th>A11</th>\n",
       "      <th>A12</th>\n",
       "      <th>A13</th>\n",
       "      <th>A14</th>\n",
       "      <th>A15</th>\n",
       "      <th>class</th>\n",
       "    </tr>\n",
       "  </thead>\n",
       "  <tbody>\n",
       "    <tr>\n",
       "      <th>0</th>\n",
       "      <td>1</td>\n",
       "      <td>30.83</td>\n",
       "      <td>0.000</td>\n",
       "      <td>1</td>\n",
       "      <td>0</td>\n",
       "      <td>12</td>\n",
       "      <td>7</td>\n",
       "      <td>1.25</td>\n",
       "      <td>1</td>\n",
       "      <td>1</td>\n",
       "      <td>1</td>\n",
       "      <td>0</td>\n",
       "      <td>0</td>\n",
       "      <td>202.0</td>\n",
       "      <td>0</td>\n",
       "      <td>0</td>\n",
       "    </tr>\n",
       "    <tr>\n",
       "      <th>1</th>\n",
       "      <td>0</td>\n",
       "      <td>58.67</td>\n",
       "      <td>4.460</td>\n",
       "      <td>1</td>\n",
       "      <td>0</td>\n",
       "      <td>10</td>\n",
       "      <td>3</td>\n",
       "      <td>3.04</td>\n",
       "      <td>1</td>\n",
       "      <td>1</td>\n",
       "      <td>6</td>\n",
       "      <td>0</td>\n",
       "      <td>0</td>\n",
       "      <td>43.0</td>\n",
       "      <td>560</td>\n",
       "      <td>0</td>\n",
       "    </tr>\n",
       "    <tr>\n",
       "      <th>2</th>\n",
       "      <td>0</td>\n",
       "      <td>24.50</td>\n",
       "      <td>0.500</td>\n",
       "      <td>1</td>\n",
       "      <td>0</td>\n",
       "      <td>10</td>\n",
       "      <td>3</td>\n",
       "      <td>1.50</td>\n",
       "      <td>1</td>\n",
       "      <td>0</td>\n",
       "      <td>0</td>\n",
       "      <td>0</td>\n",
       "      <td>0</td>\n",
       "      <td>280.0</td>\n",
       "      <td>824</td>\n",
       "      <td>0</td>\n",
       "    </tr>\n",
       "    <tr>\n",
       "      <th>3</th>\n",
       "      <td>1</td>\n",
       "      <td>27.83</td>\n",
       "      <td>1.540</td>\n",
       "      <td>1</td>\n",
       "      <td>0</td>\n",
       "      <td>12</td>\n",
       "      <td>7</td>\n",
       "      <td>3.75</td>\n",
       "      <td>1</td>\n",
       "      <td>1</td>\n",
       "      <td>5</td>\n",
       "      <td>1</td>\n",
       "      <td>0</td>\n",
       "      <td>100.0</td>\n",
       "      <td>3</td>\n",
       "      <td>0</td>\n",
       "    </tr>\n",
       "    <tr>\n",
       "      <th>4</th>\n",
       "      <td>1</td>\n",
       "      <td>20.17</td>\n",
       "      <td>5.625</td>\n",
       "      <td>1</td>\n",
       "      <td>0</td>\n",
       "      <td>12</td>\n",
       "      <td>7</td>\n",
       "      <td>1.71</td>\n",
       "      <td>1</td>\n",
       "      <td>0</td>\n",
       "      <td>0</td>\n",
       "      <td>0</td>\n",
       "      <td>2</td>\n",
       "      <td>120.0</td>\n",
       "      <td>0</td>\n",
       "      <td>0</td>\n",
       "    </tr>\n",
       "  </tbody>\n",
       "</table>\n",
       "</div>"
      ],
      "text/plain": [
       "   A1     A2     A3  A4  A5  A6  A7    A8  A9  A10  A11  A12  A13    A14  A15  \\\n",
       "0   1  30.83  0.000   1   0  12   7  1.25   1    1    1    0    0  202.0    0   \n",
       "1   0  58.67  4.460   1   0  10   3  3.04   1    1    6    0    0   43.0  560   \n",
       "2   0  24.50  0.500   1   0  10   3  1.50   1    0    0    0    0  280.0  824   \n",
       "3   1  27.83  1.540   1   0  12   7  3.75   1    1    5    1    0  100.0    3   \n",
       "4   1  20.17  5.625   1   0  12   7  1.71   1    0    0    0    2  120.0    0   \n",
       "\n",
       "   class  \n",
       "0      0  \n",
       "1      0  \n",
       "2      0  \n",
       "3      0  \n",
       "4      0  "
      ]
     },
     "execution_count": 62,
     "metadata": {},
     "output_type": "execute_result"
    }
   ],
   "source": [
    "df.head()"
   ]
  },
  {
   "cell_type": "code",
   "execution_count": 63,
   "metadata": {},
   "outputs": [],
   "source": [
    "## random Forest model \n",
    "rf = RandomForestClassifier()"
   ]
  },
  {
   "cell_type": "code",
   "execution_count": 71,
   "metadata": {},
   "outputs": [],
   "source": [
    "?RandomForestClassifier"
   ]
  },
  {
   "cell_type": "code",
   "execution_count": 64,
   "metadata": {},
   "outputs": [
    {
     "name": "stderr",
     "output_type": "stream",
     "text": [
      "C:\\Users\\HP\\Anaconda3\\lib\\site-packages\\ipykernel_launcher.py:2: DataConversionWarning: A column-vector y was passed when a 1d array was expected. Please change the shape of y to (n_samples,), for example using ravel().\n",
      "  \n"
     ]
    },
    {
     "data": {
      "text/plain": [
       "RandomForestClassifier(bootstrap=True, ccp_alpha=0.0, class_weight=None,\n",
       "                       criterion='gini', max_depth=None, max_features='auto',\n",
       "                       max_leaf_nodes=None, max_samples=None,\n",
       "                       min_impurity_decrease=0.0, min_impurity_split=None,\n",
       "                       min_samples_leaf=1, min_samples_split=2,\n",
       "                       min_weight_fraction_leaf=0.0, n_estimators=100,\n",
       "                       n_jobs=None, oob_score=False, random_state=None,\n",
       "                       verbose=0, warm_start=False)"
      ]
     },
     "execution_count": 64,
     "metadata": {},
     "output_type": "execute_result"
    }
   ],
   "source": [
    "# traing the model on traing data set\n",
    "rf.fit( x_train, y_train )"
   ]
  },
  {
   "cell_type": "code",
   "execution_count": 65,
   "metadata": {},
   "outputs": [],
   "source": [
    "## predicting on test data\n",
    "y_pred = rf.predict( x_test)"
   ]
  },
  {
   "cell_type": "code",
   "execution_count": 66,
   "metadata": {},
   "outputs": [
    {
     "data": {
      "text/plain": [
       "array([[72, 15],\n",
       "       [18, 91]], dtype=int64)"
      ]
     },
     "execution_count": 66,
     "metadata": {},
     "output_type": "execute_result"
    }
   ],
   "source": [
    "confusion_matrix( y_test, y_pred)"
   ]
  },
  {
   "cell_type": "code",
   "execution_count": 68,
   "metadata": {},
   "outputs": [
    {
     "name": "stdout",
     "output_type": "stream",
     "text": [
      "0.8316326530612245\n"
     ]
    }
   ],
   "source": [
    "print(accuracy_score(y_test, y_pred))"
   ]
  },
  {
   "cell_type": "code",
   "execution_count": 70,
   "metadata": {},
   "outputs": [
    {
     "data": {
      "text/plain": [
       "(653, 15)"
      ]
     },
     "execution_count": 70,
     "metadata": {},
     "output_type": "execute_result"
    }
   ],
   "source": [
    "x.shape"
   ]
  },
  {
   "cell_type": "code",
   "execution_count": null,
   "metadata": {},
   "outputs": [],
   "source": [
    "## Random Forest model with Default parameters taken n_estimators=100(The number of trees(bags) in the forest) means \n",
    "## 653/100 approx 65 observation in each tree or bag...building model for 65 observation is waste of time and meaning less\n",
    "## we can flip coin atlest we get 50% accuracy...increase of 33%(accuracy on test data) accuracy \n",
    "## we are build random forest is meanin less \n",
    "## to resolve these problem we are going to finetune parameters."
   ]
  },
  {
   "cell_type": "code",
   "execution_count": 95,
   "metadata": {},
   "outputs": [
    {
     "name": "stderr",
     "output_type": "stream",
     "text": [
      "C:\\Users\\HP\\Anaconda3\\lib\\site-packages\\ipykernel_launcher.py:8: DataConversionWarning: A column-vector y was passed when a 1d array was expected. Please change the shape of y to (n_samples,), for example using ravel().\n",
      "  \n",
      "C:\\Users\\HP\\Anaconda3\\lib\\site-packages\\ipykernel_launcher.py:13: DataConversionWarning: A column-vector y was passed when a 1d array was expected. Please change the shape of y to (n_samples,), for example using ravel().\n",
      "  del sys.path[0]\n",
      "C:\\Users\\HP\\Anaconda3\\lib\\site-packages\\ipykernel_launcher.py:8: DataConversionWarning: A column-vector y was passed when a 1d array was expected. Please change the shape of y to (n_samples,), for example using ravel().\n",
      "  \n",
      "C:\\Users\\HP\\Anaconda3\\lib\\site-packages\\ipykernel_launcher.py:13: DataConversionWarning: A column-vector y was passed when a 1d array was expected. Please change the shape of y to (n_samples,), for example using ravel().\n",
      "  del sys.path[0]\n",
      "C:\\Users\\HP\\Anaconda3\\lib\\site-packages\\ipykernel_launcher.py:8: DataConversionWarning: A column-vector y was passed when a 1d array was expected. Please change the shape of y to (n_samples,), for example using ravel().\n",
      "  \n",
      "C:\\Users\\HP\\Anaconda3\\lib\\site-packages\\ipykernel_launcher.py:13: DataConversionWarning: A column-vector y was passed when a 1d array was expected. Please change the shape of y to (n_samples,), for example using ravel().\n",
      "  del sys.path[0]\n",
      "C:\\Users\\HP\\Anaconda3\\lib\\site-packages\\ipykernel_launcher.py:8: DataConversionWarning: A column-vector y was passed when a 1d array was expected. Please change the shape of y to (n_samples,), for example using ravel().\n",
      "  \n",
      "C:\\Users\\HP\\Anaconda3\\lib\\site-packages\\ipykernel_launcher.py:13: DataConversionWarning: A column-vector y was passed when a 1d array was expected. Please change the shape of y to (n_samples,), for example using ravel().\n",
      "  del sys.path[0]\n",
      "C:\\Users\\HP\\Anaconda3\\lib\\site-packages\\ipykernel_launcher.py:8: DataConversionWarning: A column-vector y was passed when a 1d array was expected. Please change the shape of y to (n_samples,), for example using ravel().\n",
      "  \n",
      "C:\\Users\\HP\\Anaconda3\\lib\\site-packages\\ipykernel_launcher.py:13: DataConversionWarning: A column-vector y was passed when a 1d array was expected. Please change the shape of y to (n_samples,), for example using ravel().\n",
      "  del sys.path[0]\n",
      "C:\\Users\\HP\\Anaconda3\\lib\\site-packages\\ipykernel_launcher.py:8: DataConversionWarning: A column-vector y was passed when a 1d array was expected. Please change the shape of y to (n_samples,), for example using ravel().\n",
      "  \n",
      "C:\\Users\\HP\\Anaconda3\\lib\\site-packages\\ipykernel_launcher.py:13: DataConversionWarning: A column-vector y was passed when a 1d array was expected. Please change the shape of y to (n_samples,), for example using ravel().\n",
      "  del sys.path[0]\n",
      "C:\\Users\\HP\\Anaconda3\\lib\\site-packages\\ipykernel_launcher.py:8: DataConversionWarning: A column-vector y was passed when a 1d array was expected. Please change the shape of y to (n_samples,), for example using ravel().\n",
      "  \n",
      "C:\\Users\\HP\\Anaconda3\\lib\\site-packages\\ipykernel_launcher.py:13: DataConversionWarning: A column-vector y was passed when a 1d array was expected. Please change the shape of y to (n_samples,), for example using ravel().\n",
      "  del sys.path[0]\n",
      "C:\\Users\\HP\\Anaconda3\\lib\\site-packages\\ipykernel_launcher.py:8: DataConversionWarning: A column-vector y was passed when a 1d array was expected. Please change the shape of y to (n_samples,), for example using ravel().\n",
      "  \n",
      "C:\\Users\\HP\\Anaconda3\\lib\\site-packages\\ipykernel_launcher.py:13: DataConversionWarning: A column-vector y was passed when a 1d array was expected. Please change the shape of y to (n_samples,), for example using ravel().\n",
      "  del sys.path[0]\n",
      "C:\\Users\\HP\\Anaconda3\\lib\\site-packages\\ipykernel_launcher.py:8: DataConversionWarning: A column-vector y was passed when a 1d array was expected. Please change the shape of y to (n_samples,), for example using ravel().\n",
      "  \n",
      "C:\\Users\\HP\\Anaconda3\\lib\\site-packages\\ipykernel_launcher.py:13: DataConversionWarning: A column-vector y was passed when a 1d array was expected. Please change the shape of y to (n_samples,), for example using ravel().\n",
      "  del sys.path[0]\n",
      "C:\\Users\\HP\\Anaconda3\\lib\\site-packages\\ipykernel_launcher.py:8: DataConversionWarning: A column-vector y was passed when a 1d array was expected. Please change the shape of y to (n_samples,), for example using ravel().\n",
      "  \n",
      "C:\\Users\\HP\\Anaconda3\\lib\\site-packages\\ipykernel_launcher.py:13: DataConversionWarning: A column-vector y was passed when a 1d array was expected. Please change the shape of y to (n_samples,), for example using ravel().\n",
      "  del sys.path[0]\n",
      "C:\\Users\\HP\\Anaconda3\\lib\\site-packages\\ipykernel_launcher.py:8: DataConversionWarning: A column-vector y was passed when a 1d array was expected. Please change the shape of y to (n_samples,), for example using ravel().\n",
      "  \n",
      "C:\\Users\\HP\\Anaconda3\\lib\\site-packages\\ipykernel_launcher.py:13: DataConversionWarning: A column-vector y was passed when a 1d array was expected. Please change the shape of y to (n_samples,), for example using ravel().\n",
      "  del sys.path[0]\n",
      "C:\\Users\\HP\\Anaconda3\\lib\\site-packages\\ipykernel_launcher.py:8: DataConversionWarning: A column-vector y was passed when a 1d array was expected. Please change the shape of y to (n_samples,), for example using ravel().\n",
      "  \n",
      "C:\\Users\\HP\\Anaconda3\\lib\\site-packages\\ipykernel_launcher.py:13: DataConversionWarning: A column-vector y was passed when a 1d array was expected. Please change the shape of y to (n_samples,), for example using ravel().\n",
      "  del sys.path[0]\n",
      "C:\\Users\\HP\\Anaconda3\\lib\\site-packages\\ipykernel_launcher.py:8: DataConversionWarning: A column-vector y was passed when a 1d array was expected. Please change the shape of y to (n_samples,), for example using ravel().\n",
      "  \n",
      "C:\\Users\\HP\\Anaconda3\\lib\\site-packages\\ipykernel_launcher.py:13: DataConversionWarning: A column-vector y was passed when a 1d array was expected. Please change the shape of y to (n_samples,), for example using ravel().\n",
      "  del sys.path[0]\n",
      "C:\\Users\\HP\\Anaconda3\\lib\\site-packages\\ipykernel_launcher.py:8: DataConversionWarning: A column-vector y was passed when a 1d array was expected. Please change the shape of y to (n_samples,), for example using ravel().\n",
      "  \n",
      "C:\\Users\\HP\\Anaconda3\\lib\\site-packages\\ipykernel_launcher.py:13: DataConversionWarning: A column-vector y was passed when a 1d array was expected. Please change the shape of y to (n_samples,), for example using ravel().\n",
      "  del sys.path[0]\n",
      "C:\\Users\\HP\\Anaconda3\\lib\\site-packages\\ipykernel_launcher.py:8: DataConversionWarning: A column-vector y was passed when a 1d array was expected. Please change the shape of y to (n_samples,), for example using ravel().\n",
      "  \n",
      "C:\\Users\\HP\\Anaconda3\\lib\\site-packages\\ipykernel_launcher.py:13: DataConversionWarning: A column-vector y was passed when a 1d array was expected. Please change the shape of y to (n_samples,), for example using ravel().\n",
      "  del sys.path[0]\n",
      "C:\\Users\\HP\\Anaconda3\\lib\\site-packages\\ipykernel_launcher.py:8: DataConversionWarning: A column-vector y was passed when a 1d array was expected. Please change the shape of y to (n_samples,), for example using ravel().\n",
      "  \n",
      "C:\\Users\\HP\\Anaconda3\\lib\\site-packages\\ipykernel_launcher.py:13: DataConversionWarning: A column-vector y was passed when a 1d array was expected. Please change the shape of y to (n_samples,), for example using ravel().\n",
      "  del sys.path[0]\n",
      "C:\\Users\\HP\\Anaconda3\\lib\\site-packages\\ipykernel_launcher.py:8: DataConversionWarning: A column-vector y was passed when a 1d array was expected. Please change the shape of y to (n_samples,), for example using ravel().\n",
      "  \n",
      "C:\\Users\\HP\\Anaconda3\\lib\\site-packages\\ipykernel_launcher.py:13: DataConversionWarning: A column-vector y was passed when a 1d array was expected. Please change the shape of y to (n_samples,), for example using ravel().\n",
      "  del sys.path[0]\n",
      "C:\\Users\\HP\\Anaconda3\\lib\\site-packages\\ipykernel_launcher.py:8: DataConversionWarning: A column-vector y was passed when a 1d array was expected. Please change the shape of y to (n_samples,), for example using ravel().\n",
      "  \n",
      "C:\\Users\\HP\\Anaconda3\\lib\\site-packages\\ipykernel_launcher.py:13: DataConversionWarning: A column-vector y was passed when a 1d array was expected. Please change the shape of y to (n_samples,), for example using ravel().\n",
      "  del sys.path[0]\n"
     ]
    },
    {
     "name": "stderr",
     "output_type": "stream",
     "text": [
      "C:\\Users\\HP\\Anaconda3\\lib\\site-packages\\ipykernel_launcher.py:8: DataConversionWarning: A column-vector y was passed when a 1d array was expected. Please change the shape of y to (n_samples,), for example using ravel().\n",
      "  \n",
      "C:\\Users\\HP\\Anaconda3\\lib\\site-packages\\ipykernel_launcher.py:13: DataConversionWarning: A column-vector y was passed when a 1d array was expected. Please change the shape of y to (n_samples,), for example using ravel().\n",
      "  del sys.path[0]\n"
     ]
    },
    {
     "data": {
      "text/plain": [
       "<matplotlib.legend.Legend at 0x1c06f67d710>"
      ]
     },
     "execution_count": 95,
     "metadata": {},
     "output_type": "execute_result"
    },
    {
     "data": {
      "image/png": "[encoded data removed]",
      "text/plain": [
       "<Figure size 432x288 with 1 Axes>"
      ]
     },
     "metadata": {
      "needs_background": "light"
     },
     "output_type": "display_data"
    }
   ],
   "source": [
    "## Train model with different values of max_depth ranging from 1 to 20 and compare the performance of gini and entropy \n",
    "import matplotlib.pyplot as plt\n",
    "max_depth = []\n",
    "acc_gini = []\n",
    "acc_entropy = []\n",
    "for i in range(1,20):\n",
    " rf = RandomForestClassifier(criterion='gini', max_depth=i)\n",
    " rf.fit(x_train, y_train)\n",
    " pred = rf.predict(x_train)\n",
    " acc_gini.append(accuracy_score(y_train, pred))\n",
    " ####\n",
    " rf = RandomForestClassifier(criterion='entropy', max_depth=i)\n",
    " rf.fit(x_train, y_train)\n",
    " pred = rf.predict(x_train)\n",
    " acc_entropy.append(accuracy_score(y_train, pred))\n",
    " ####\n",
    " max_depth.append(i)\n",
    "d = pd.DataFrame({'acc_gini':pd.Series(acc_gini), \n",
    " 'acc_entropy':pd.Series(acc_entropy),\n",
    " 'max_depth':pd.Series(max_depth)})\n",
    "# visualizing changes in parameters\n",
    "fig, ax = plt.subplots()\n",
    "plt.plot('max_depth','acc_gini', data=d, label='gini')\n",
    "plt.plot('max_depth','acc_entropy', data=d, label='entropy')\n",
    "plt.xlabel('max_depth')\n",
    "plt.ylabel('accuracy')\n",
    "plt.xticks(np.arange(1,21))\n",
    "plt.grid()\n",
    "plt.legend()"
   ]
  },
  {
   "cell_type": "code",
   "execution_count": null,
   "metadata": {},
   "outputs": [],
   "source": [
    "## from this graph gini is selected"
   ]
  },
  {
   "cell_type": "code",
   "execution_count": 90,
   "metadata": {},
   "outputs": [
    {
     "name": "stderr",
     "output_type": "stream",
     "text": [
      "C:\\Users\\HP\\Anaconda3\\lib\\site-packages\\ipykernel_launcher.py:6: DataConversionWarning: A column-vector y was passed when a 1d array was expected. Please change the shape of y to (n_samples,), for example using ravel().\n",
      "  \n",
      "C:\\Users\\HP\\Anaconda3\\lib\\site-packages\\ipykernel_launcher.py:6: DataConversionWarning: A column-vector y was passed when a 1d array was expected. Please change the shape of y to (n_samples,), for example using ravel().\n",
      "  \n",
      "C:\\Users\\HP\\Anaconda3\\lib\\site-packages\\ipykernel_launcher.py:6: DataConversionWarning: A column-vector y was passed when a 1d array was expected. Please change the shape of y to (n_samples,), for example using ravel().\n",
      "  \n",
      "C:\\Users\\HP\\Anaconda3\\lib\\site-packages\\ipykernel_launcher.py:6: DataConversionWarning: A column-vector y was passed when a 1d array was expected. Please change the shape of y to (n_samples,), for example using ravel().\n",
      "  \n",
      "C:\\Users\\HP\\Anaconda3\\lib\\site-packages\\ipykernel_launcher.py:6: DataConversionWarning: A column-vector y was passed when a 1d array was expected. Please change the shape of y to (n_samples,), for example using ravel().\n",
      "  \n",
      "C:\\Users\\HP\\Anaconda3\\lib\\site-packages\\ipykernel_launcher.py:6: DataConversionWarning: A column-vector y was passed when a 1d array was expected. Please change the shape of y to (n_samples,), for example using ravel().\n",
      "  \n",
      "C:\\Users\\HP\\Anaconda3\\lib\\site-packages\\ipykernel_launcher.py:6: DataConversionWarning: A column-vector y was passed when a 1d array was expected. Please change the shape of y to (n_samples,), for example using ravel().\n",
      "  \n",
      "C:\\Users\\HP\\Anaconda3\\lib\\site-packages\\ipykernel_launcher.py:6: DataConversionWarning: A column-vector y was passed when a 1d array was expected. Please change the shape of y to (n_samples,), for example using ravel().\n",
      "  \n",
      "C:\\Users\\HP\\Anaconda3\\lib\\site-packages\\ipykernel_launcher.py:6: DataConversionWarning: A column-vector y was passed when a 1d array was expected. Please change the shape of y to (n_samples,), for example using ravel().\n",
      "  \n",
      "C:\\Users\\HP\\Anaconda3\\lib\\site-packages\\ipykernel_launcher.py:6: DataConversionWarning: A column-vector y was passed when a 1d array was expected. Please change the shape of y to (n_samples,), for example using ravel().\n",
      "  \n",
      "C:\\Users\\HP\\Anaconda3\\lib\\site-packages\\ipykernel_launcher.py:6: DataConversionWarning: A column-vector y was passed when a 1d array was expected. Please change the shape of y to (n_samples,), for example using ravel().\n",
      "  \n",
      "C:\\Users\\HP\\Anaconda3\\lib\\site-packages\\ipykernel_launcher.py:6: DataConversionWarning: A column-vector y was passed when a 1d array was expected. Please change the shape of y to (n_samples,), for example using ravel().\n",
      "  \n",
      "C:\\Users\\HP\\Anaconda3\\lib\\site-packages\\ipykernel_launcher.py:6: DataConversionWarning: A column-vector y was passed when a 1d array was expected. Please change the shape of y to (n_samples,), for example using ravel().\n",
      "  \n",
      "C:\\Users\\HP\\Anaconda3\\lib\\site-packages\\ipykernel_launcher.py:6: DataConversionWarning: A column-vector y was passed when a 1d array was expected. Please change the shape of y to (n_samples,), for example using ravel().\n",
      "  \n",
      "C:\\Users\\HP\\Anaconda3\\lib\\site-packages\\ipykernel_launcher.py:6: DataConversionWarning: A column-vector y was passed when a 1d array was expected. Please change the shape of y to (n_samples,), for example using ravel().\n",
      "  \n",
      "C:\\Users\\HP\\Anaconda3\\lib\\site-packages\\ipykernel_launcher.py:6: DataConversionWarning: A column-vector y was passed when a 1d array was expected. Please change the shape of y to (n_samples,), for example using ravel().\n",
      "  \n",
      "C:\\Users\\HP\\Anaconda3\\lib\\site-packages\\ipykernel_launcher.py:6: DataConversionWarning: A column-vector y was passed when a 1d array was expected. Please change the shape of y to (n_samples,), for example using ravel().\n",
      "  \n",
      "C:\\Users\\HP\\Anaconda3\\lib\\site-packages\\ipykernel_launcher.py:6: DataConversionWarning: A column-vector y was passed when a 1d array was expected. Please change the shape of y to (n_samples,), for example using ravel().\n",
      "  \n",
      "C:\\Users\\HP\\Anaconda3\\lib\\site-packages\\ipykernel_launcher.py:6: DataConversionWarning: A column-vector y was passed when a 1d array was expected. Please change the shape of y to (n_samples,), for example using ravel().\n",
      "  \n",
      "C:\\Users\\HP\\Anaconda3\\lib\\site-packages\\ipykernel_launcher.py:6: DataConversionWarning: A column-vector y was passed when a 1d array was expected. Please change the shape of y to (n_samples,), for example using ravel().\n",
      "  \n",
      "C:\\Users\\HP\\Anaconda3\\lib\\site-packages\\ipykernel_launcher.py:6: DataConversionWarning: A column-vector y was passed when a 1d array was expected. Please change the shape of y to (n_samples,), for example using ravel().\n",
      "  \n",
      "C:\\Users\\HP\\Anaconda3\\lib\\site-packages\\ipykernel_launcher.py:6: DataConversionWarning: A column-vector y was passed when a 1d array was expected. Please change the shape of y to (n_samples,), for example using ravel().\n",
      "  \n",
      "C:\\Users\\HP\\Anaconda3\\lib\\site-packages\\ipykernel_launcher.py:6: DataConversionWarning: A column-vector y was passed when a 1d array was expected. Please change the shape of y to (n_samples,), for example using ravel().\n",
      "  \n",
      "C:\\Users\\HP\\Anaconda3\\lib\\site-packages\\ipykernel_launcher.py:6: DataConversionWarning: A column-vector y was passed when a 1d array was expected. Please change the shape of y to (n_samples,), for example using ravel().\n",
      "  \n",
      "C:\\Users\\HP\\Anaconda3\\lib\\site-packages\\ipykernel_launcher.py:6: DataConversionWarning: A column-vector y was passed when a 1d array was expected. Please change the shape of y to (n_samples,), for example using ravel().\n",
      "  \n",
      "C:\\Users\\HP\\Anaconda3\\lib\\site-packages\\ipykernel_launcher.py:6: DataConversionWarning: A column-vector y was passed when a 1d array was expected. Please change the shape of y to (n_samples,), for example using ravel().\n",
      "  \n",
      "C:\\Users\\HP\\Anaconda3\\lib\\site-packages\\ipykernel_launcher.py:6: DataConversionWarning: A column-vector y was passed when a 1d array was expected. Please change the shape of y to (n_samples,), for example using ravel().\n",
      "  \n",
      "C:\\Users\\HP\\Anaconda3\\lib\\site-packages\\ipykernel_launcher.py:6: DataConversionWarning: A column-vector y was passed when a 1d array was expected. Please change the shape of y to (n_samples,), for example using ravel().\n",
      "  \n",
      "C:\\Users\\HP\\Anaconda3\\lib\\site-packages\\ipykernel_launcher.py:6: DataConversionWarning: A column-vector y was passed when a 1d array was expected. Please change the shape of y to (n_samples,), for example using ravel().\n",
      "  \n",
      "C:\\Users\\HP\\Anaconda3\\lib\\site-packages\\ipykernel_launcher.py:6: DataConversionWarning: A column-vector y was passed when a 1d array was expected. Please change the shape of y to (n_samples,), for example using ravel().\n",
      "  \n",
      "C:\\Users\\HP\\Anaconda3\\lib\\site-packages\\ipykernel_launcher.py:6: DataConversionWarning: A column-vector y was passed when a 1d array was expected. Please change the shape of y to (n_samples,), for example using ravel().\n",
      "  \n",
      "C:\\Users\\HP\\Anaconda3\\lib\\site-packages\\ipykernel_launcher.py:6: DataConversionWarning: A column-vector y was passed when a 1d array was expected. Please change the shape of y to (n_samples,), for example using ravel().\n",
      "  \n",
      "C:\\Users\\HP\\Anaconda3\\lib\\site-packages\\ipykernel_launcher.py:6: DataConversionWarning: A column-vector y was passed when a 1d array was expected. Please change the shape of y to (n_samples,), for example using ravel().\n",
      "  \n",
      "C:\\Users\\HP\\Anaconda3\\lib\\site-packages\\ipykernel_launcher.py:6: DataConversionWarning: A column-vector y was passed when a 1d array was expected. Please change the shape of y to (n_samples,), for example using ravel().\n",
      "  \n",
      "C:\\Users\\HP\\Anaconda3\\lib\\site-packages\\ipykernel_launcher.py:6: DataConversionWarning: A column-vector y was passed when a 1d array was expected. Please change the shape of y to (n_samples,), for example using ravel().\n",
      "  \n",
      "C:\\Users\\HP\\Anaconda3\\lib\\site-packages\\ipykernel_launcher.py:6: DataConversionWarning: A column-vector y was passed when a 1d array was expected. Please change the shape of y to (n_samples,), for example using ravel().\n",
      "  \n",
      "C:\\Users\\HP\\Anaconda3\\lib\\site-packages\\ipykernel_launcher.py:6: DataConversionWarning: A column-vector y was passed when a 1d array was expected. Please change the shape of y to (n_samples,), for example using ravel().\n",
      "  \n"
     ]
    },
    {
     "name": "stderr",
     "output_type": "stream",
     "text": [
      "C:\\Users\\HP\\Anaconda3\\lib\\site-packages\\ipykernel_launcher.py:6: DataConversionWarning: A column-vector y was passed when a 1d array was expected. Please change the shape of y to (n_samples,), for example using ravel().\n",
      "  \n",
      "C:\\Users\\HP\\Anaconda3\\lib\\site-packages\\ipykernel_launcher.py:6: DataConversionWarning: A column-vector y was passed when a 1d array was expected. Please change the shape of y to (n_samples,), for example using ravel().\n",
      "  \n",
      "C:\\Users\\HP\\Anaconda3\\lib\\site-packages\\ipykernel_launcher.py:6: DataConversionWarning: A column-vector y was passed when a 1d array was expected. Please change the shape of y to (n_samples,), for example using ravel().\n",
      "  \n",
      "C:\\Users\\HP\\Anaconda3\\lib\\site-packages\\ipykernel_launcher.py:6: DataConversionWarning: A column-vector y was passed when a 1d array was expected. Please change the shape of y to (n_samples,), for example using ravel().\n",
      "  \n",
      "C:\\Users\\HP\\Anaconda3\\lib\\site-packages\\ipykernel_launcher.py:6: DataConversionWarning: A column-vector y was passed when a 1d array was expected. Please change the shape of y to (n_samples,), for example using ravel().\n",
      "  \n",
      "C:\\Users\\HP\\Anaconda3\\lib\\site-packages\\ipykernel_launcher.py:6: DataConversionWarning: A column-vector y was passed when a 1d array was expected. Please change the shape of y to (n_samples,), for example using ravel().\n",
      "  \n",
      "C:\\Users\\HP\\Anaconda3\\lib\\site-packages\\ipykernel_launcher.py:6: DataConversionWarning: A column-vector y was passed when a 1d array was expected. Please change the shape of y to (n_samples,), for example using ravel().\n",
      "  \n",
      "C:\\Users\\HP\\Anaconda3\\lib\\site-packages\\ipykernel_launcher.py:6: DataConversionWarning: A column-vector y was passed when a 1d array was expected. Please change the shape of y to (n_samples,), for example using ravel().\n",
      "  \n",
      "C:\\Users\\HP\\Anaconda3\\lib\\site-packages\\ipykernel_launcher.py:6: DataConversionWarning: A column-vector y was passed when a 1d array was expected. Please change the shape of y to (n_samples,), for example using ravel().\n",
      "  \n",
      "C:\\Users\\HP\\Anaconda3\\lib\\site-packages\\ipykernel_launcher.py:6: DataConversionWarning: A column-vector y was passed when a 1d array was expected. Please change the shape of y to (n_samples,), for example using ravel().\n",
      "  \n",
      "C:\\Users\\HP\\Anaconda3\\lib\\site-packages\\ipykernel_launcher.py:6: DataConversionWarning: A column-vector y was passed when a 1d array was expected. Please change the shape of y to (n_samples,), for example using ravel().\n",
      "  \n",
      "C:\\Users\\HP\\Anaconda3\\lib\\site-packages\\ipykernel_launcher.py:6: DataConversionWarning: A column-vector y was passed when a 1d array was expected. Please change the shape of y to (n_samples,), for example using ravel().\n",
      "  \n",
      "C:\\Users\\HP\\Anaconda3\\lib\\site-packages\\ipykernel_launcher.py:6: DataConversionWarning: A column-vector y was passed when a 1d array was expected. Please change the shape of y to (n_samples,), for example using ravel().\n",
      "  \n"
     ]
    },
    {
     "data": {
      "text/plain": [
       "<matplotlib.legend.Legend at 0x1c06dff1eb8>"
      ]
     },
     "execution_count": 90,
     "metadata": {},
     "output_type": "execute_result"
    },
    {
     "data": {
      "image/png": "[encoded data removed]",
      "text/plain": [
       "<Figure size 720x360 with 1 Axes>"
      ]
     },
     "metadata": {
      "needs_background": "light"
     },
     "output_type": "display_data"
    }
   ],
   "source": [
    "n_estimators = []\n",
    "acc_train = []\n",
    "acc_test = []\n",
    "for i in range(30,80):\n",
    " rf = RandomForestClassifier(criterion='gini', n_estimators=i)\n",
    " rf.fit(x_train, y_train)\n",
    " pred = rf.predict(x_train)\n",
    " pred2 = rf.predict(x_test)\n",
    " acc_train.append(accuracy_score(y_train, pred))\n",
    " ####\n",
    " acc_test.append(accuracy_score(y_test, pred2))\n",
    " ####\n",
    " n_estimators.append(i)\n",
    "d = pd.DataFrame({'acc_train':pd.Series(acc_train), \n",
    " 'acc_test':pd.Series(acc_test),\n",
    " 'n_estimators':pd.Series(n_estimators)})\n",
    "# visualizing changes in parameters\n",
    "fig, ax = plt.subplots(figsize = [10,5])\n",
    "plt.plot('n_estimators','acc_train', data=d, label='train')\n",
    "plt.plot('n_estimators','acc_test', data=d, label='test')\n",
    "plt.xlabel('n_estimators')\n",
    "plt.ylabel('accuracy')\n",
    "plt.xticks(np.arange(30,80,2))\n",
    "plt.grid()\n",
    "plt.legend()"
   ]
  },
  {
   "cell_type": "code",
   "execution_count": null,
   "metadata": {},
   "outputs": [],
   "source": [
    "# from this graph we can infor at n_estimators = 45 we are getting high accuracy"
   ]
  },
  {
   "cell_type": "code",
   "execution_count": 93,
   "metadata": {},
   "outputs": [
    {
     "name": "stderr",
     "output_type": "stream",
     "text": [
      "C:\\Users\\HP\\Anaconda3\\lib\\site-packages\\ipykernel_launcher.py:6: DataConversionWarning: A column-vector y was passed when a 1d array was expected. Please change the shape of y to (n_samples,), for example using ravel().\n",
      "  \n",
      "C:\\Users\\HP\\Anaconda3\\lib\\site-packages\\ipykernel_launcher.py:6: DataConversionWarning: A column-vector y was passed when a 1d array was expected. Please change the shape of y to (n_samples,), for example using ravel().\n",
      "  \n",
      "C:\\Users\\HP\\Anaconda3\\lib\\site-packages\\ipykernel_launcher.py:6: DataConversionWarning: A column-vector y was passed when a 1d array was expected. Please change the shape of y to (n_samples,), for example using ravel().\n",
      "  \n",
      "C:\\Users\\HP\\Anaconda3\\lib\\site-packages\\ipykernel_launcher.py:6: DataConversionWarning: A column-vector y was passed when a 1d array was expected. Please change the shape of y to (n_samples,), for example using ravel().\n",
      "  \n",
      "C:\\Users\\HP\\Anaconda3\\lib\\site-packages\\ipykernel_launcher.py:6: DataConversionWarning: A column-vector y was passed when a 1d array was expected. Please change the shape of y to (n_samples,), for example using ravel().\n",
      "  \n",
      "C:\\Users\\HP\\Anaconda3\\lib\\site-packages\\ipykernel_launcher.py:6: DataConversionWarning: A column-vector y was passed when a 1d array was expected. Please change the shape of y to (n_samples,), for example using ravel().\n",
      "  \n",
      "C:\\Users\\HP\\Anaconda3\\lib\\site-packages\\ipykernel_launcher.py:6: DataConversionWarning: A column-vector y was passed when a 1d array was expected. Please change the shape of y to (n_samples,), for example using ravel().\n",
      "  \n",
      "C:\\Users\\HP\\Anaconda3\\lib\\site-packages\\ipykernel_launcher.py:6: DataConversionWarning: A column-vector y was passed when a 1d array was expected. Please change the shape of y to (n_samples,), for example using ravel().\n",
      "  \n",
      "C:\\Users\\HP\\Anaconda3\\lib\\site-packages\\ipykernel_launcher.py:6: DataConversionWarning: A column-vector y was passed when a 1d array was expected. Please change the shape of y to (n_samples,), for example using ravel().\n",
      "  \n",
      "C:\\Users\\HP\\Anaconda3\\lib\\site-packages\\ipykernel_launcher.py:6: DataConversionWarning: A column-vector y was passed when a 1d array was expected. Please change the shape of y to (n_samples,), for example using ravel().\n",
      "  \n",
      "C:\\Users\\HP\\Anaconda3\\lib\\site-packages\\ipykernel_launcher.py:6: DataConversionWarning: A column-vector y was passed when a 1d array was expected. Please change the shape of y to (n_samples,), for example using ravel().\n",
      "  \n",
      "C:\\Users\\HP\\Anaconda3\\lib\\site-packages\\ipykernel_launcher.py:6: DataConversionWarning: A column-vector y was passed when a 1d array was expected. Please change the shape of y to (n_samples,), for example using ravel().\n",
      "  \n",
      "C:\\Users\\HP\\Anaconda3\\lib\\site-packages\\ipykernel_launcher.py:6: DataConversionWarning: A column-vector y was passed when a 1d array was expected. Please change the shape of y to (n_samples,), for example using ravel().\n",
      "  \n",
      "C:\\Users\\HP\\Anaconda3\\lib\\site-packages\\ipykernel_launcher.py:6: DataConversionWarning: A column-vector y was passed when a 1d array was expected. Please change the shape of y to (n_samples,), for example using ravel().\n",
      "  \n",
      "C:\\Users\\HP\\Anaconda3\\lib\\site-packages\\ipykernel_launcher.py:6: DataConversionWarning: A column-vector y was passed when a 1d array was expected. Please change the shape of y to (n_samples,), for example using ravel().\n",
      "  \n",
      "C:\\Users\\HP\\Anaconda3\\lib\\site-packages\\ipykernel_launcher.py:6: DataConversionWarning: A column-vector y was passed when a 1d array was expected. Please change the shape of y to (n_samples,), for example using ravel().\n",
      "  \n",
      "C:\\Users\\HP\\Anaconda3\\lib\\site-packages\\ipykernel_launcher.py:6: DataConversionWarning: A column-vector y was passed when a 1d array was expected. Please change the shape of y to (n_samples,), for example using ravel().\n",
      "  \n",
      "C:\\Users\\HP\\Anaconda3\\lib\\site-packages\\ipykernel_launcher.py:6: DataConversionWarning: A column-vector y was passed when a 1d array was expected. Please change the shape of y to (n_samples,), for example using ravel().\n",
      "  \n",
      "C:\\Users\\HP\\Anaconda3\\lib\\site-packages\\ipykernel_launcher.py:6: DataConversionWarning: A column-vector y was passed when a 1d array was expected. Please change the shape of y to (n_samples,), for example using ravel().\n",
      "  \n"
     ]
    },
    {
     "data": {
      "text/plain": [
       "<matplotlib.legend.Legend at 0x1c06f5c63c8>"
      ]
     },
     "execution_count": 93,
     "metadata": {},
     "output_type": "execute_result"
    },
    {
     "data": {
      "image/png": "[encoded data removed]",
      "text/plain": [
       "<Figure size 720x360 with 1 Axes>"
      ]
     },
     "metadata": {
      "needs_background": "light"
     },
     "output_type": "display_data"
    }
   ],
   "source": [
    "max_depth  = []\n",
    "acc_train = []\n",
    "acc_test = []\n",
    "for i in range(1,20):\n",
    " rf = RandomForestClassifier(criterion='gini', max_depth =i)\n",
    " rf.fit(x_train, y_train)\n",
    " pred = rf.predict(x_train)\n",
    " pred2 = rf.predict(x_test)\n",
    " acc_train.append(accuracy_score(y_train, pred))\n",
    " ####\n",
    " acc_test.append(accuracy_score(y_test, pred2))\n",
    " ####\n",
    " max_depth .append(i)\n",
    "d = pd.DataFrame({'acc_train':pd.Series(acc_train), \n",
    " 'acc_test':pd.Series(acc_test),\n",
    " 'max_depth ':pd.Series(max_depth )})\n",
    "# visualizing changes in parameters\n",
    "fig, ax = plt.subplots(figsize = [10,5])\n",
    "plt.plot('max_depth ','acc_train', data=d, label='train')\n",
    "plt.plot('max_depth ','acc_test', data=d, label='test')\n",
    "plt.xlabel('max_depth ')\n",
    "plt.ylabel('accuracy')\n",
    "plt.xticks(np.arange(1,20))\n",
    "plt.grid()\n",
    "plt.legend()"
   ]
  },
  {
   "cell_type": "code",
   "execution_count": null,
   "metadata": {},
   "outputs": [],
   "source": [
    "## from this graph max_depth = 2"
   ]
  },
  {
   "cell_type": "code",
   "execution_count": 91,
   "metadata": {},
   "outputs": [],
   "source": [
    "?RandomForestClassifier"
   ]
  },
  {
   "cell_type": "code",
   "execution_count": 96,
   "metadata": {},
   "outputs": [],
   "source": [
    "## Random Forest with Tuned Parameter\n",
    "## random Forest model \n",
    "rf = RandomForestClassifier(n_estimators=45, max_features= 5, class_weight='balanced',  max_depth=2,random_state = 123 )\n",
    "## for classification max_features = 15/3=5=((no.of i/p)/3)"
   ]
  },
  {
   "cell_type": "code",
   "execution_count": 97,
   "metadata": {},
   "outputs": [
    {
     "name": "stderr",
     "output_type": "stream",
     "text": [
      "C:\\Users\\HP\\Anaconda3\\lib\\site-packages\\ipykernel_launcher.py:1: DataConversionWarning: A column-vector y was passed when a 1d array was expected. Please change the shape of y to (n_samples,), for example using ravel().\n",
      "  \"\"\"Entry point for launching an IPython kernel.\n"
     ]
    },
    {
     "data": {
      "text/plain": [
       "RandomForestClassifier(bootstrap=True, ccp_alpha=0.0, class_weight='balanced',\n",
       "                       criterion='gini', max_depth=2, max_features=5,\n",
       "                       max_leaf_nodes=None, max_samples=None,\n",
       "                       min_impurity_decrease=0.0, min_impurity_split=None,\n",
       "                       min_samples_leaf=1, min_samples_split=2,\n",
       "                       min_weight_fraction_leaf=0.0, n_estimators=45,\n",
       "                       n_jobs=None, oob_score=False, random_state=123,\n",
       "                       verbose=0, warm_start=False)"
      ]
     },
     "execution_count": 97,
     "metadata": {},
     "output_type": "execute_result"
    }
   ],
   "source": [
    "rf.fit(x_train,y_train)"
   ]
  },
  {
   "cell_type": "code",
   "execution_count": 98,
   "metadata": {},
   "outputs": [],
   "source": [
    "y_pred1 = rf.predict(x_test)"
   ]
  },
  {
   "cell_type": "code",
   "execution_count": 99,
   "metadata": {},
   "outputs": [
    {
     "data": {
      "text/plain": [
       "array([[77, 10],\n",
       "       [21, 88]], dtype=int64)"
      ]
     },
     "execution_count": 99,
     "metadata": {},
     "output_type": "execute_result"
    }
   ],
   "source": [
    "confusion_matrix(y_test,y_pred1)"
   ]
  },
  {
   "cell_type": "code",
   "execution_count": 100,
   "metadata": {},
   "outputs": [
    {
     "data": {
      "text/plain": [
       "0.8418367346938775"
      ]
     },
     "execution_count": 100,
     "metadata": {},
     "output_type": "execute_result"
    }
   ],
   "source": [
    "accuracy_score(y_test,y_pred1) "
   ]
  },
  {
   "cell_type": "code",
   "execution_count": 101,
   "metadata": {},
   "outputs": [],
   "source": [
    "## Conclusion:rf with tunned parameter is better than rf with default parameter"
   ]
  },
  {
   "cell_type": "code",
   "execution_count": 102,
   "metadata": {},
   "outputs": [
    {
     "data": {
      "text/plain": [
       "array([0.00000000e+00, 4.15486090e-03, 9.10030915e-03, 1.17929600e-03,\n",
       "       0.00000000e+00, 1.10217804e-02, 1.24134883e-03, 9.62761215e-02,\n",
       "       4.69342560e-01, 1.13398685e-01, 2.09407258e-01, 2.14876901e-04,\n",
       "       4.30225072e-04, 1.91382708e-02, 6.50944081e-02])"
      ]
     },
     "execution_count": 102,
     "metadata": {},
     "output_type": "execute_result"
    }
   ],
   "source": [
    "## variable importance of Randomforest model \n",
    "rf.feature_importances_"
   ]
  },
  {
   "cell_type": "code",
   "execution_count": 103,
   "metadata": {},
   "outputs": [],
   "source": [
    "## Sorting variables on the importance \n",
    "import pandas as pd\n",
    "feature_importances = pd.DataFrame(rf.feature_importances_, index = x_train.columns,columns=['importance']).sort_values('importance',  ascending=False)                                                          "
   ]
  },
  {
   "cell_type": "code",
   "execution_count": 104,
   "metadata": {},
   "outputs": [
    {
     "data": {
      "text/html": [
       "<div>\n",
       "<style scoped>\n",
       "    .dataframe tbody tr th:only-of-type {\n",
       "        vertical-align: middle;\n",
       "    }\n",
       "\n",
       "    .dataframe tbody tr th {\n",
       "        vertical-align: top;\n",
       "    }\n",
       "\n",
       "    .dataframe thead th {\n",
       "        text-align: right;\n",
       "    }\n",
       "</style>\n",
       "<table border=\"1\" class=\"dataframe\">\n",
       "  <thead>\n",
       "    <tr style=\"text-align: right;\">\n",
       "      <th></th>\n",
       "      <th>importance</th>\n",
       "    </tr>\n",
       "  </thead>\n",
       "  <tbody>\n",
       "    <tr>\n",
       "      <th>A9</th>\n",
       "      <td>0.469343</td>\n",
       "    </tr>\n",
       "    <tr>\n",
       "      <th>A11</th>\n",
       "      <td>0.209407</td>\n",
       "    </tr>\n",
       "    <tr>\n",
       "      <th>A10</th>\n",
       "      <td>0.113399</td>\n",
       "    </tr>\n",
       "    <tr>\n",
       "      <th>A8</th>\n",
       "      <td>0.096276</td>\n",
       "    </tr>\n",
       "    <tr>\n",
       "      <th>A15</th>\n",
       "      <td>0.065094</td>\n",
       "    </tr>\n",
       "    <tr>\n",
       "      <th>A14</th>\n",
       "      <td>0.019138</td>\n",
       "    </tr>\n",
       "    <tr>\n",
       "      <th>A6</th>\n",
       "      <td>0.011022</td>\n",
       "    </tr>\n",
       "    <tr>\n",
       "      <th>A3</th>\n",
       "      <td>0.009100</td>\n",
       "    </tr>\n",
       "    <tr>\n",
       "      <th>A2</th>\n",
       "      <td>0.004155</td>\n",
       "    </tr>\n",
       "    <tr>\n",
       "      <th>A7</th>\n",
       "      <td>0.001241</td>\n",
       "    </tr>\n",
       "    <tr>\n",
       "      <th>A4</th>\n",
       "      <td>0.001179</td>\n",
       "    </tr>\n",
       "    <tr>\n",
       "      <th>A13</th>\n",
       "      <td>0.000430</td>\n",
       "    </tr>\n",
       "    <tr>\n",
       "      <th>A12</th>\n",
       "      <td>0.000215</td>\n",
       "    </tr>\n",
       "    <tr>\n",
       "      <th>A1</th>\n",
       "      <td>0.000000</td>\n",
       "    </tr>\n",
       "    <tr>\n",
       "      <th>A5</th>\n",
       "      <td>0.000000</td>\n",
       "    </tr>\n",
       "  </tbody>\n",
       "</table>\n",
       "</div>"
      ],
      "text/plain": [
       "     importance\n",
       "A9     0.469343\n",
       "A11    0.209407\n",
       "A10    0.113399\n",
       "A8     0.096276\n",
       "A15    0.065094\n",
       "A14    0.019138\n",
       "A6     0.011022\n",
       "A3     0.009100\n",
       "A2     0.004155\n",
       "A7     0.001241\n",
       "A4     0.001179\n",
       "A13    0.000430\n",
       "A12    0.000215\n",
       "A1     0.000000\n",
       "A5     0.000000"
      ]
     },
     "execution_count": 104,
     "metadata": {},
     "output_type": "execute_result"
    }
   ],
   "source": [
    "feature_importances"
   ]
  },
  {
   "cell_type": "code",
   "execution_count": 111,
   "metadata": {},
   "outputs": [
    {
     "data": {
      "image/png": "[encoded data removed]",
      "text/plain": [
       "<Figure size 432x288 with 1 Axes>"
      ]
     },
     "metadata": {
      "needs_background": "light"
     },
     "output_type": "display_data"
    }
   ],
   "source": [
    "import matplotlib.pyplot as plt\n",
    "plt.plot(feature_importances)\n",
    "plt.show()"
   ]
  },
  {
   "cell_type": "code",
   "execution_count": null,
   "metadata": {},
   "outputs": [],
   "source": [
    "## till we did Parameter tunning manually...It will consider lot of time and need to analyse teh data means our affort is\n",
    "## more, insted of this we can use defalut module like GridSearchCV"
   ]
  },
  {
   "cell_type": "code",
   "execution_count": 110,
   "metadata": {},
   "outputs": [],
   "source": [
    "from sklearn.model_selection import GridSearchCV"
   ]
  },
  {
   "cell_type": "code",
   "execution_count": 112,
   "metadata": {},
   "outputs": [],
   "source": [
    "## grid parameters for grid search\n",
    "param_grid = {\n",
    "    'max_depth': [3,4,5,6,7,8],\n",
    "    'n_estimators': [10, 20, 30,40,50,60],\n",
    "    'max_features' : [2,3,4,5,6,7]\n",
    "}"
   ]
  },
  {
   "cell_type": "code",
   "execution_count": 113,
   "metadata": {},
   "outputs": [
    {
     "data": {
      "text/plain": [
       "(653, 15)"
      ]
     },
     "execution_count": 113,
     "metadata": {},
     "output_type": "execute_result"
    }
   ],
   "source": [
    "x.shape"
   ]
  },
  {
   "cell_type": "code",
   "execution_count": 114,
   "metadata": {},
   "outputs": [],
   "source": [
    "rf = RandomForestClassifier()\n",
    "# Instantiate the grid search model\n",
    "grid_search = GridSearchCV(estimator = rf, param_grid = param_grid, \n",
    "                          cv = 4, n_jobs = -1, verbose = 2)"
   ]
  },
  {
   "cell_type": "code",
   "execution_count": 115,
   "metadata": {},
   "outputs": [
    {
     "name": "stdout",
     "output_type": "stream",
     "text": [
      "Fitting 4 folds for each of 216 candidates, totalling 864 fits\n"
     ]
    },
    {
     "name": "stderr",
     "output_type": "stream",
     "text": [
      "[Parallel(n_jobs=-1)]: Using backend LokyBackend with 4 concurrent workers.\n",
      "[Parallel(n_jobs=-1)]: Done  33 tasks      | elapsed:   48.3s\n",
      "[Parallel(n_jobs=-1)]: Done 221 tasks      | elapsed:   54.5s\n",
      "[Parallel(n_jobs=-1)]: Done 627 tasks      | elapsed:  1.1min\n",
      "[Parallel(n_jobs=-1)]: Done 857 out of 864 | elapsed:  1.3min remaining:    0.5s\n",
      "[Parallel(n_jobs=-1)]: Done 864 out of 864 | elapsed:  1.3min finished\n",
      "C:\\Users\\HP\\Anaconda3\\lib\\site-packages\\sklearn\\model_selection\\_search.py:739: DataConversionWarning: A column-vector y was passed when a 1d array was expected. Please change the shape of y to (n_samples,), for example using ravel().\n",
      "  self.best_estimator_.fit(X, y, **fit_params)\n"
     ]
    },
    {
     "data": {
      "text/plain": [
       "GridSearchCV(cv=4, error_score=nan,\n",
       "             estimator=RandomForestClassifier(bootstrap=True, ccp_alpha=0.0,\n",
       "                                              class_weight=None,\n",
       "                                              criterion='gini', max_depth=None,\n",
       "                                              max_features='auto',\n",
       "                                              max_leaf_nodes=None,\n",
       "                                              max_samples=None,\n",
       "                                              min_impurity_decrease=0.0,\n",
       "                                              min_impurity_split=None,\n",
       "                                              min_samples_leaf=1,\n",
       "                                              min_samples_split=2,\n",
       "                                              min_weight_fraction_leaf=0.0,\n",
       "                                              n_estimators=100, n_jobs=None,\n",
       "                                              oob_score=False,\n",
       "                                              random_state=None, verbose=0,\n",
       "                                              warm_start=False),\n",
       "             iid='deprecated', n_jobs=-1,\n",
       "             param_grid={'max_depth': [3, 4, 5, 6, 7, 8],\n",
       "                         'max_features': [2, 3, 4, 5, 6, 7],\n",
       "                         'n_estimators': [10, 20, 30, 40, 50, 60]},\n",
       "             pre_dispatch='2*n_jobs', refit=True, return_train_score=False,\n",
       "             scoring=None, verbose=2)"
      ]
     },
     "execution_count": 115,
     "metadata": {},
     "output_type": "execute_result"
    }
   ],
   "source": [
    "grid_search.fit(x_train, y_train)"
   ]
  },
  {
   "cell_type": "code",
   "execution_count": 116,
   "metadata": {},
   "outputs": [
    {
     "data": {
      "text/plain": [
       "{'max_depth': 4, 'max_features': 5, 'n_estimators': 60}"
      ]
     },
     "execution_count": 116,
     "metadata": {},
     "output_type": "execute_result"
    }
   ],
   "source": [
    "grid_search.best_params_"
   ]
  },
  {
   "cell_type": "code",
   "execution_count": 117,
   "metadata": {},
   "outputs": [
    {
     "data": {
      "text/plain": [
       "{'mean_fit_time': array([0.1848104 , 0.05859119, 0.07812297, 0.10155845, 0.12108904,\n",
       "        0.13671452, 0.03906298, 0.05859053, 0.0781213 , 0.09584343,\n",
       "        0.13729733, 0.1655497 , 0.03124887, 0.06249762, 0.08202857,\n",
       "        0.09765303, 0.12499654, 0.15233779, 0.04687321, 0.06640506,\n",
       "        0.08573812, 0.11368221, 0.12591982, 0.14965498, 0.08744586,\n",
       "        0.09768152, 0.12892061, 0.15989876, 0.19088435, 0.19712692,\n",
       "        0.03722274, 0.06795704, 0.08819616, 0.11167979, 0.13616425,\n",
       "        0.17564029, 0.04022479, 0.06195617, 0.0814501 , 0.10917014,\n",
       "        0.13141811, 0.15839761, 0.04222125, 0.06770837, 0.08844292,\n",
       "        0.11392838, 0.12941658, 0.16464156, 0.03772181, 0.06420815,\n",
       "        0.0876956 , 0.11692625, 0.13391572, 0.16639596, 0.0402205 ,\n",
       "        0.06796354, 0.08968711, 0.1194278 , 0.14315909, 0.16939449,\n",
       "        0.04172444, 0.06571496, 0.08943504, 0.11967552, 0.13790935,\n",
       "        0.1731391 , 0.03997386, 0.07045329, 0.0921917 , 0.13566458,\n",
       "        0.20661646, 0.23584968, 0.06320763, 0.09793717, 0.10693341,\n",
       "        0.11792678, 0.14965272, 0.16255969, 0.03577685, 0.06640375,\n",
       "        0.09374684, 0.14239675, 0.16214639, 0.17763948, 0.03996801,\n",
       "        0.06945068, 0.09219015, 0.11367851, 0.14066166, 0.16664261,\n",
       "        0.04147553, 0.07119513, 0.09144104, 0.11842304, 0.14515936,\n",
       "        0.17663032, 0.04121929, 0.07295215, 0.09818888, 0.12417257,\n",
       "        0.1486544 , 0.17863083, 0.03996778, 0.0819487 , 0.09644634,\n",
       "        0.11917776, 0.14216256, 0.1821363 , 0.03547072, 0.06645608,\n",
       "        0.09194088, 0.1146782 , 0.19237936, 0.21911436, 0.06496114,\n",
       "        0.10968232, 0.1361661 , 0.11692411, 0.13965893, 0.16789109,\n",
       "        0.0407235 , 0.06320381, 0.09318393, 0.12141526, 0.14140958,\n",
       "        0.17013586, 0.04146808, 0.07020575, 0.09569132, 0.12367123,\n",
       "        0.14493543, 0.16984916, 0.04425478, 0.07145452, 0.0964393 ,\n",
       "        0.12242335, 0.14790356, 0.17639005, 0.04222238, 0.06995541,\n",
       "        0.0984382 , 0.12616414, 0.14740509, 0.18213522, 0.04022068,\n",
       "        0.06571466, 0.09093726, 0.11467755, 0.13291693, 0.1653946 ,\n",
       "        0.04096776, 0.06695604, 0.09444159, 0.11442715, 0.13966143,\n",
       "        0.20537019, 0.05721706, 0.09693903, 0.13492262, 0.18313819,\n",
       "        0.16839492, 0.17714024, 0.03922361, 0.07146233, 0.09844077,\n",
       "        0.1184265 , 0.14365512, 0.17664111, 0.03946865, 0.07720208,\n",
       "        0.09693915, 0.12441581, 0.14740461, 0.17914212, 0.04246861,\n",
       "        0.075957  , 0.09868139, 0.12441397, 0.15389413, 0.1836282 ,\n",
       "        0.03597319, 0.06221175, 0.09119326, 0.11417758, 0.13915741,\n",
       "        0.16414809, 0.03871858, 0.06871164, 0.09169477, 0.11667144,\n",
       "        0.14590973, 0.16963792, 0.04247373, 0.07344878, 0.09943008,\n",
       "        0.1226638 , 0.1461578 , 0.18588096, 0.04971486, 0.13216251,\n",
       "        0.13791472, 0.17264259, 0.19912589, 0.21036822, 0.04671502,\n",
       "        0.06920797, 0.09768695, 0.12641668, 0.15015507, 0.18538421,\n",
       "        0.04172152, 0.07170373, 0.09943813, 0.12416989, 0.15340233,\n",
       "        0.16964358]),\n",
       " 'std_fit_time': array([6.85699030e-02, 1.29534270e-02, 1.10477848e-02, 7.81178475e-03,\n",
       "        6.76530733e-03, 6.76489432e-03, 7.81190398e-03, 6.76520404e-03,\n",
       "        1.18611745e-06, 1.39438099e-02, 1.25954236e-02, 7.49817213e-03,\n",
       "        1.63777252e-06, 8.59630412e-07, 6.76516963e-03, 6.76575466e-03,\n",
       "        1.10484592e-02, 6.76568585e-03, 1.10480377e-02, 1.29549186e-02,\n",
       "        8.02208327e-03, 2.21657282e-02, 7.10219703e-03, 8.40218467e-03,\n",
       "        1.73324023e-02, 6.30423097e-03, 1.64993077e-02, 1.52534692e-02,\n",
       "        2.00526662e-02, 3.33889452e-02, 3.55895603e-03, 7.06553419e-04,\n",
       "        1.29825673e-03, 5.53605973e-03, 3.48901904e-03, 1.31889718e-02,\n",
       "        4.49007804e-03, 1.87544489e-03, 1.49954525e-03, 3.77800126e-03,\n",
       "        5.93353822e-03, 8.01055210e-03, 3.62492303e-03, 4.54555802e-03,\n",
       "        4.08878559e-03, 3.53367609e-03, 2.05915087e-03, 6.29571976e-03,\n",
       "        1.48356755e-03, 2.58615567e-03, 6.41361049e-03, 1.22322468e-03,\n",
       "        2.12192587e-03, 3.77285160e-03, 4.13750913e-03, 2.82654685e-03,\n",
       "        4.38158545e-03, 5.48853481e-03, 7.49238492e-03, 5.40558748e-03,\n",
       "        7.11537016e-03, 5.34929305e-03, 1.79836534e-03, 5.21175077e-03,\n",
       "        1.41934589e-03, 7.68374691e-03, 4.35658658e-03, 5.31186206e-03,\n",
       "        3.34159911e-03, 1.29201098e-02, 2.16720647e-02, 1.09967604e-02,\n",
       "        1.01310416e-02, 1.26246167e-02, 1.20343414e-02, 3.23785460e-03,\n",
       "        1.13758672e-02, 5.88556513e-03, 6.48621194e-03, 6.76547935e-03,\n",
       "        1.10479535e-02, 9.18325207e-03, 1.42494895e-02, 6.79180900e-03,\n",
       "        4.05751709e-03, 3.83357047e-03, 2.67944726e-03, 4.37729829e-03,\n",
       "        4.96559548e-03, 8.48402212e-03, 3.91246568e-03, 1.78317722e-03,\n",
       "        1.49802630e-03, 5.40894409e-03, 6.37493324e-03, 5.02354392e-03,\n",
       "        3.49086559e-03, 7.06645329e-04, 4.02038877e-03, 3.89452243e-03,\n",
       "        4.32449772e-03, 6.97008160e-03, 3.00300686e-03, 1.59742184e-02,\n",
       "        4.16074178e-03, 1.63698119e-03, 2.85957989e-03, 3.26655884e-03,\n",
       "        3.83763068e-03, 5.67904358e-03, 5.33578662e-03, 5.75778019e-03,\n",
       "        1.76608953e-02, 2.02775920e-02, 1.53525258e-02, 8.57936446e-03,\n",
       "        8.97706417e-03, 1.00703168e-02, 2.67349869e-03, 6.35473513e-03,\n",
       "        3.95713608e-03, 1.48284850e-03, 6.61463877e-03, 3.83473606e-03,\n",
       "        2.49113472e-03, 6.96622213e-03, 2.59909930e-03, 3.26750159e-03,\n",
       "        4.32146039e-03, 4.60041765e-03, 3.48149387e-03, 8.82430581e-03,\n",
       "        4.29074567e-03, 2.68955452e-03, 2.49773266e-03, 3.19955213e-03,\n",
       "        7.17403802e-03, 8.19557442e-03, 8.06914369e-03, 4.74005703e-03,\n",
       "        3.77218838e-03, 2.48665172e-03, 3.27718512e-03, 6.86306526e-03,\n",
       "        4.60388573e-03, 3.95470147e-03, 7.64380229e-03, 6.25427334e-03,\n",
       "        5.42728743e-03, 8.95015875e-03, 3.53562073e-03, 5.09647635e-03,\n",
       "        4.15056411e-03, 2.05876037e-03, 2.16512755e-03, 4.48296033e-02,\n",
       "        6.86112955e-03, 1.36487847e-02, 2.02310165e-02, 2.58867234e-02,\n",
       "        2.20605858e-02, 1.10254274e-02, 2.27291074e-03, 4.81139046e-03,\n",
       "        3.20300614e-03, 3.19945912e-03, 3.75689058e-03, 6.75520936e-03,\n",
       "        1.65221986e-03, 2.85910082e-03, 4.57996746e-03, 1.49925077e-03,\n",
       "        4.96672371e-03, 1.03600301e-02, 2.28726884e-03, 7.83458797e-03,\n",
       "        3.33404140e-03, 3.03754427e-03, 2.53808017e-03, 5.54143041e-03,\n",
       "        2.73372378e-03, 1.29717755e-03, 3.25636626e-03, 3.49101303e-03,\n",
       "        4.91269515e-03, 7.68696946e-03, 4.26733851e-03, 8.29991723e-04,\n",
       "        2.37871243e-03, 2.76613869e-03, 2.54724432e-03, 4.69733631e-03,\n",
       "        5.21697178e-03, 3.90836873e-03, 3.35366263e-03, 1.47457529e-03,\n",
       "        3.55907095e-03, 2.45206898e-02, 1.37091956e-02, 4.16965968e-02,\n",
       "        1.25092781e-02, 1.79939250e-02, 1.07501617e-02, 1.85423139e-02,\n",
       "        6.33988202e-03, 2.27671719e-03, 3.26340522e-03, 6.17416883e-03,\n",
       "        5.53438337e-03, 6.01853450e-03, 8.27253745e-04, 4.32069879e-03,\n",
       "        3.83885907e-03, 2.94933267e-03, 8.00765974e-03, 7.75288321e-03]),\n",
       " 'mean_score_time': array([0.00880581, 0.00781238, 0.0156244 , 0.01171905, 0.01562482,\n",
       "        0.01562357, 0.0078119 , 0.00781202, 0.0116989 , 0.01255959,\n",
       "        0.01455861, 0.01373851, 0.00781208, 0.00390619, 0.01171809,\n",
       "        0.01562417, 0.01171827, 0.01562458, 0.00390637, 0.01171821,\n",
       "        0.00930625, 0.01274204, 0.0132429 , 0.0277335 , 0.00799584,\n",
       "        0.01049387, 0.01274192, 0.01424724, 0.01798588, 0.01524031,\n",
       "        0.00599557, 0.00949371, 0.00924397, 0.01174301, 0.01424158,\n",
       "        0.01648986, 0.0057469 , 0.00849789, 0.00949103, 0.011244  ,\n",
       "        0.01324201, 0.01773906, 0.00624967, 0.00749552, 0.00949258,\n",
       "        0.01149303, 0.0129922 , 0.01674503, 0.00574613, 0.01049632,\n",
       "        0.00999439, 0.01298642, 0.01499051, 0.01698977, 0.00624555,\n",
       "        0.00774336, 0.01049459, 0.01373589, 0.01299161, 0.0174917 ,\n",
       "        0.00524622, 0.0089885 , 0.01024276, 0.01124328, 0.01224166,\n",
       "        0.01673967, 0.00549698, 0.00849456, 0.01049364, 0.01624012,\n",
       "        0.01973784, 0.02548492, 0.00949216, 0.01049322, 0.01024699,\n",
       "        0.0122425 , 0.01773918, 0.01499683, 0.00781274, 0.00781274,\n",
       "        0.01355475, 0.01748341, 0.01573926, 0.02123678, 0.00549638,\n",
       "        0.00999451, 0.00949514, 0.01449072, 0.01324219, 0.01673907,\n",
       "        0.00573903, 0.00849414, 0.01049298, 0.01174331, 0.01349169,\n",
       "        0.01873779, 0.00549632, 0.00899643, 0.00999361, 0.01349169,\n",
       "        0.01399183, 0.01698953, 0.00574869, 0.01074332, 0.01098698,\n",
       "        0.0117408 , 0.01324129, 0.01649052, 0.00524676, 0.01024586,\n",
       "        0.00924402, 0.01849455, 0.01773655, 0.02048719, 0.00724459,\n",
       "        0.01574099, 0.01099318, 0.01124287, 0.01349193, 0.01998705,\n",
       "        0.00600183, 0.0084936 , 0.01049954, 0.0122422 , 0.01398873,\n",
       "        0.01774091, 0.00799489, 0.00799531, 0.00949258, 0.01224291,\n",
       "        0.01390022, 0.0169003 , 0.00674033, 0.00774378, 0.00924528,\n",
       "        0.0112431 , 0.01374173, 0.01624089, 0.0054965 , 0.00799501,\n",
       "        0.00999445, 0.01149273, 0.01449108, 0.01948822, 0.00524682,\n",
       "        0.00724047, 0.00974268, 0.01224184, 0.0142417 , 0.017739  ,\n",
       "        0.00599599, 0.00799453, 0.01024336, 0.01224107, 0.02048814,\n",
       "        0.02398574, 0.00699323, 0.01074469, 0.00998729, 0.0137372 ,\n",
       "        0.01324105, 0.01698822, 0.00574625, 0.00873917, 0.00924301,\n",
       "        0.01124251, 0.01424056, 0.01698977, 0.00599593, 0.00824469,\n",
       "        0.00974417, 0.01224327, 0.01323384, 0.017483  , 0.00625098,\n",
       "        0.00798899, 0.00949413, 0.01224238, 0.01299214, 0.0187397 ,\n",
       "        0.00624818, 0.00849468, 0.01049203, 0.01174563, 0.01374322,\n",
       "        0.01648402, 0.00724548, 0.00848967, 0.00924033, 0.01174259,\n",
       "        0.0137409 , 0.01848894, 0.0054965 , 0.00825191, 0.01049292,\n",
       "        0.01249182, 0.01449215, 0.01924068, 0.00574672, 0.011742  ,\n",
       "        0.01098961, 0.01599002, 0.01623982, 0.01748866, 0.00575268,\n",
       "        0.00800067, 0.01099128, 0.01149309, 0.01399088, 0.01773876,\n",
       "        0.0054965 , 0.00824624, 0.00949472, 0.01249295, 0.0147413 ,\n",
       "        0.01448965]),\n",
       " 'std_score_time': array([6.96377185e-03, 7.81238079e-03, 1.19209290e-07, 6.76599565e-03,\n",
       "        3.09714819e-07, 0.00000000e+00, 7.81190398e-03, 7.81202316e-03,\n",
       "        6.75443837e-03, 3.08545998e-03, 1.50334013e-03, 3.26983215e-03,\n",
       "        7.81208279e-03, 6.76572023e-03, 6.76544494e-03, 6.19429639e-07,\n",
       "        6.76554818e-03, 3.09714819e-07, 6.76602994e-03, 6.76551381e-03,\n",
       "        6.65484910e-03, 1.47848964e-03, 8.29222052e-04, 8.92198707e-03,\n",
       "        2.99763686e-03, 2.69054992e-03, 4.49102663e-03, 2.94493792e-03,\n",
       "        3.53545157e-03, 1.29853103e-03, 1.00022586e-03, 1.49929540e-03,\n",
       "        8.28416085e-04, 1.91909969e-03, 1.63891360e-03, 5.00082970e-04,\n",
       "        8.29150226e-04, 1.49817231e-03, 4.99793768e-04, 1.09056213e-03,\n",
       "        1.08939991e-03, 1.08852476e-03, 8.28572089e-04, 8.65068434e-04,\n",
       "        1.49744753e-03, 4.99427667e-04, 7.06802712e-04, 8.23051192e-04,\n",
       "        8.29060337e-04, 2.05685233e-03, 9.99569950e-04, 7.06868327e-04,\n",
       "        1.86951439e-03, 1.57989335e-03, 1.29792384e-03, 4.32362907e-04,\n",
       "        1.49949474e-03, 2.04929451e-03, 7.06212742e-04, 2.06371652e-03,\n",
       "        1.29831321e-03, 1.57232804e-03, 1.08883951e-03, 4.32947474e-04,\n",
       "        4.32327552e-04, 1.29833603e-03, 8.65687420e-04, 1.65688034e-03,\n",
       "        2.06044937e-03, 4.81202656e-03, 4.81171089e-03, 5.84845292e-03,\n",
       "        3.84004770e-03, 4.99308173e-04, 1.63752195e-03, 1.29792335e-03,\n",
       "        5.53666774e-03, 1.08706500e-03, 7.81273843e-03, 7.81273842e-03,\n",
       "        8.38050362e-03, 9.51364797e-03, 1.63854357e-03, 2.58405794e-03,\n",
       "        8.65756208e-04, 2.54689396e-03, 8.66033107e-04, 3.56927029e-03,\n",
       "        1.08903043e-03, 1.29822151e-03, 8.35627077e-04, 4.98771810e-04,\n",
       "        1.49875903e-03, 1.29846220e-03, 1.11723324e-03, 2.85939237e-03,\n",
       "        8.66066726e-04, 7.12132158e-04, 7.06128403e-04, 4.49779963e-03,\n",
       "        1.00028561e-03, 7.07055598e-04, 8.26245002e-04, 3.55935505e-03,\n",
       "        1.21836918e-03, 1.08899352e-03, 4.32774874e-04, 1.50030966e-03,\n",
       "        4.32981547e-04, 5.06850734e-03, 1.29840494e-03, 6.56569112e-03,\n",
       "        3.33921976e-03, 2.17844381e-03, 3.89401010e-03, 6.52966356e-03,\n",
       "        1.58011966e-03, 1.29795748e-03, 8.65652969e-04, 1.87018335e-03,\n",
       "        7.06695161e-04, 1.11680677e-03, 1.12481593e-03, 4.32843677e-04,\n",
       "        1.21940070e-03, 1.92186499e-03, 3.08030118e-03, 6.16555240e-07,\n",
       "        1.49951656e-03, 8.28521140e-04, 1.07600716e-03, 1.92635025e-03,\n",
       "        1.48146121e-03, 8.31276308e-04, 1.08920846e-03, 4.32637398e-04,\n",
       "        1.08972788e-03, 1.08856705e-03, 8.65274385e-04, 9.99331531e-04,\n",
       "        1.57951708e-03, 4.99844622e-04, 1.65689826e-03, 3.20028769e-03,\n",
       "        4.32671603e-04, 1.09038720e-03, 8.29547517e-04, 4.31536015e-04,\n",
       "        1.47828810e-03, 3.26757439e-03, 9.99450925e-04, 1.22402355e-03,\n",
       "        1.63890452e-03, 2.16473500e-03, 1.24521920e-02, 5.24141367e-03,\n",
       "        1.58404554e-03, 2.85988220e-03, 6.97223765e-04, 8.33339801e-04,\n",
       "        4.32912831e-04, 1.22227144e-03, 8.28880501e-04, 3.02064865e-03,\n",
       "        8.26188631e-04, 1.08893481e-03, 1.29799294e-03, 1.57947884e-03,\n",
       "        1.57996883e-03, 1.47765340e-03, 8.28341410e-04, 1.29809527e-03,\n",
       "        1.09119437e-03, 2.28857729e-03, 1.30455268e-03, 7.03280038e-04,\n",
       "        4.99665915e-04, 8.28970469e-04, 7.06887004e-04, 2.77139078e-03,\n",
       "        4.31572019e-04, 1.49899741e-03, 1.11381286e-03, 8.33863048e-04,\n",
       "        8.30660977e-04, 1.11505993e-03, 2.77072949e-03, 1.65059573e-03,\n",
       "        4.27165639e-04, 4.32912962e-04, 8.29527664e-04, 2.69155713e-03,\n",
       "        5.00321743e-04, 1.08792749e-03, 1.11709997e-03, 1.49917605e-03,\n",
       "        5.01041466e-04, 3.19346492e-03, 8.28952368e-04, 2.85984034e-03,\n",
       "        1.73279951e-03, 2.11987412e-03, 1.91945665e-03, 2.69064963e-03,\n",
       "        8.37667476e-04, 1.00514850e-03, 1.41369600e-03, 1.11736659e-03,\n",
       "        7.07224279e-04, 1.91854107e-03, 8.65274402e-04, 8.28396193e-04,\n",
       "        4.99667365e-04, 2.69089303e-03, 1.29807219e-03, 2.29073218e-03]),\n",
       " 'param_max_depth': masked_array(data=[3, 3, 3, 3, 3, 3, 3, 3, 3, 3, 3, 3, 3, 3, 3, 3, 3, 3,\n",
       "                    3, 3, 3, 3, 3, 3, 3, 3, 3, 3, 3, 3, 3, 3, 3, 3, 3, 3,\n",
       "                    4, 4, 4, 4, 4, 4, 4, 4, 4, 4, 4, 4, 4, 4, 4, 4, 4, 4,\n",
       "                    4, 4, 4, 4, 4, 4, 4, 4, 4, 4, 4, 4, 4, 4, 4, 4, 4, 4,\n",
       "                    5, 5, 5, 5, 5, 5, 5, 5, 5, 5, 5, 5, 5, 5, 5, 5, 5, 5,\n",
       "                    5, 5, 5, 5, 5, 5, 5, 5, 5, 5, 5, 5, 5, 5, 5, 5, 5, 5,\n",
       "                    6, 6, 6, 6, 6, 6, 6, 6, 6, 6, 6, 6, 6, 6, 6, 6, 6, 6,\n",
       "                    6, 6, 6, 6, 6, 6, 6, 6, 6, 6, 6, 6, 6, 6, 6, 6, 6, 6,\n",
       "                    7, 7, 7, 7, 7, 7, 7, 7, 7, 7, 7, 7, 7, 7, 7, 7, 7, 7,\n",
       "                    7, 7, 7, 7, 7, 7, 7, 7, 7, 7, 7, 7, 7, 7, 7, 7, 7, 7,\n",
       "                    8, 8, 8, 8, 8, 8, 8, 8, 8, 8, 8, 8, 8, 8, 8, 8, 8, 8,\n",
       "                    8, 8, 8, 8, 8, 8, 8, 8, 8, 8, 8, 8, 8, 8, 8, 8, 8, 8],\n",
       "              mask=[False, False, False, False, False, False, False, False,\n",
       "                    False, False, False, False, False, False, False, False,\n",
       "                    False, False, False, False, False, False, False, False,\n",
       "                    False, False, False, False, False, False, False, False,\n",
       "                    False, False, False, False, False, False, False, False,\n",
       "                    False, False, False, False, False, False, False, False,\n",
       "                    False, False, False, False, False, False, False, False,\n",
       "                    False, False, False, False, False, False, False, False,\n",
       "                    False, False, False, False, False, False, False, False,\n",
       "                    False, False, False, False, False, False, False, False,\n",
       "                    False, False, False, False, False, False, False, False,\n",
       "                    False, False, False, False, False, False, False, False,\n",
       "                    False, False, False, False, False, False, False, False,\n",
       "                    False, False, False, False, False, False, False, False,\n",
       "                    False, False, False, False, False, False, False, False,\n",
       "                    False, False, False, False, False, False, False, False,\n",
       "                    False, False, False, False, False, False, False, False,\n",
       "                    False, False, False, False, False, False, False, False,\n",
       "                    False, False, False, False, False, False, False, False,\n",
       "                    False, False, False, False, False, False, False, False,\n",
       "                    False, False, False, False, False, False, False, False,\n",
       "                    False, False, False, False, False, False, False, False,\n",
       "                    False, False, False, False, False, False, False, False,\n",
       "                    False, False, False, False, False, False, False, False,\n",
       "                    False, False, False, False, False, False, False, False,\n",
       "                    False, False, False, False, False, False, False, False,\n",
       "                    False, False, False, False, False, False, False, False],\n",
       "        fill_value='?',\n",
       "             dtype=object),\n",
       " 'param_max_features': masked_array(data=[2, 2, 2, 2, 2, 2, 3, 3, 3, 3, 3, 3, 4, 4, 4, 4, 4, 4,\n",
       "                    5, 5, 5, 5, 5, 5, 6, 6, 6, 6, 6, 6, 7, 7, 7, 7, 7, 7,\n",
       "                    2, 2, 2, 2, 2, 2, 3, 3, 3, 3, 3, 3, 4, 4, 4, 4, 4, 4,\n",
       "                    5, 5, 5, 5, 5, 5, 6, 6, 6, 6, 6, 6, 7, 7, 7, 7, 7, 7,\n",
       "                    2, 2, 2, 2, 2, 2, 3, 3, 3, 3, 3, 3, 4, 4, 4, 4, 4, 4,\n",
       "                    5, 5, 5, 5, 5, 5, 6, 6, 6, 6, 6, 6, 7, 7, 7, 7, 7, 7,\n",
       "                    2, 2, 2, 2, 2, 2, 3, 3, 3, 3, 3, 3, 4, 4, 4, 4, 4, 4,\n",
       "                    5, 5, 5, 5, 5, 5, 6, 6, 6, 6, 6, 6, 7, 7, 7, 7, 7, 7,\n",
       "                    2, 2, 2, 2, 2, 2, 3, 3, 3, 3, 3, 3, 4, 4, 4, 4, 4, 4,\n",
       "                    5, 5, 5, 5, 5, 5, 6, 6, 6, 6, 6, 6, 7, 7, 7, 7, 7, 7,\n",
       "                    2, 2, 2, 2, 2, 2, 3, 3, 3, 3, 3, 3, 4, 4, 4, 4, 4, 4,\n",
       "                    5, 5, 5, 5, 5, 5, 6, 6, 6, 6, 6, 6, 7, 7, 7, 7, 7, 7],\n",
       "              mask=[False, False, False, False, False, False, False, False,\n",
       "                    False, False, False, False, False, False, False, False,\n",
       "                    False, False, False, False, False, False, False, False,\n",
       "                    False, False, False, False, False, False, False, False,\n",
       "                    False, False, False, False, False, False, False, False,\n",
       "                    False, False, False, False, False, False, False, False,\n",
       "                    False, False, False, False, False, False, False, False,\n",
       "                    False, False, False, False, False, False, False, False,\n",
       "                    False, False, False, False, False, False, False, False,\n",
       "                    False, False, False, False, False, False, False, False,\n",
       "                    False, False, False, False, False, False, False, False,\n",
       "                    False, False, False, False, False, False, False, False,\n",
       "                    False, False, False, False, False, False, False, False,\n",
       "                    False, False, False, False, False, False, False, False,\n",
       "                    False, False, False, False, False, False, False, False,\n",
       "                    False, False, False, False, False, False, False, False,\n",
       "                    False, False, False, False, False, False, False, False,\n",
       "                    False, False, False, False, False, False, False, False,\n",
       "                    False, False, False, False, False, False, False, False,\n",
       "                    False, False, False, False, False, False, False, False,\n",
       "                    False, False, False, False, False, False, False, False,\n",
       "                    False, False, False, False, False, False, False, False,\n",
       "                    False, False, False, False, False, False, False, False,\n",
       "                    False, False, False, False, False, False, False, False,\n",
       "                    False, False, False, False, False, False, False, False,\n",
       "                    False, False, False, False, False, False, False, False,\n",
       "                    False, False, False, False, False, False, False, False],\n",
       "        fill_value='?',\n",
       "             dtype=object),\n",
       " 'param_n_estimators': masked_array(data=[10, 20, 30, 40, 50, 60, 10, 20, 30, 40, 50, 60, 10, 20,\n",
       "                    30, 40, 50, 60, 10, 20, 30, 40, 50, 60, 10, 20, 30, 40,\n",
       "                    50, 60, 10, 20, 30, 40, 50, 60, 10, 20, 30, 40, 50, 60,\n",
       "                    10, 20, 30, 40, 50, 60, 10, 20, 30, 40, 50, 60, 10, 20,\n",
       "                    30, 40, 50, 60, 10, 20, 30, 40, 50, 60, 10, 20, 30, 40,\n",
       "                    50, 60, 10, 20, 30, 40, 50, 60, 10, 20, 30, 40, 50, 60,\n",
       "                    10, 20, 30, 40, 50, 60, 10, 20, 30, 40, 50, 60, 10, 20,\n",
       "                    30, 40, 50, 60, 10, 20, 30, 40, 50, 60, 10, 20, 30, 40,\n",
       "                    50, 60, 10, 20, 30, 40, 50, 60, 10, 20, 30, 40, 50, 60,\n",
       "                    10, 20, 30, 40, 50, 60, 10, 20, 30, 40, 50, 60, 10, 20,\n",
       "                    30, 40, 50, 60, 10, 20, 30, 40, 50, 60, 10, 20, 30, 40,\n",
       "                    50, 60, 10, 20, 30, 40, 50, 60, 10, 20, 30, 40, 50, 60,\n",
       "                    10, 20, 30, 40, 50, 60, 10, 20, 30, 40, 50, 60, 10, 20,\n",
       "                    30, 40, 50, 60, 10, 20, 30, 40, 50, 60, 10, 20, 30, 40,\n",
       "                    50, 60, 10, 20, 30, 40, 50, 60, 10, 20, 30, 40, 50, 60,\n",
       "                    10, 20, 30, 40, 50, 60],\n",
       "              mask=[False, False, False, False, False, False, False, False,\n",
       "                    False, False, False, False, False, False, False, False,\n",
       "                    False, False, False, False, False, False, False, False,\n",
       "                    False, False, False, False, False, False, False, False,\n",
       "                    False, False, False, False, False, False, False, False,\n",
       "                    False, False, False, False, False, False, False, False,\n",
       "                    False, False, False, False, False, False, False, False,\n",
       "                    False, False, False, False, False, False, False, False,\n",
       "                    False, False, False, False, False, False, False, False,\n",
       "                    False, False, False, False, False, False, False, False,\n",
       "                    False, False, False, False, False, False, False, False,\n",
       "                    False, False, False, False, False, False, False, False,\n",
       "                    False, False, False, False, False, False, False, False,\n",
       "                    False, False, False, False, False, False, False, False,\n",
       "                    False, False, False, False, False, False, False, False,\n",
       "                    False, False, False, False, False, False, False, False,\n",
       "                    False, False, False, False, False, False, False, False,\n",
       "                    False, False, False, False, False, False, False, False,\n",
       "                    False, False, False, False, False, False, False, False,\n",
       "                    False, False, False, False, False, False, False, False,\n",
       "                    False, False, False, False, False, False, False, False,\n",
       "                    False, False, False, False, False, False, False, False,\n",
       "                    False, False, False, False, False, False, False, False,\n",
       "                    False, False, False, False, False, False, False, False,\n",
       "                    False, False, False, False, False, False, False, False,\n",
       "                    False, False, False, False, False, False, False, False,\n",
       "                    False, False, False, False, False, False, False, False],\n",
       "        fill_value='?',\n",
       "             dtype=object),\n",
       " 'params': [{'max_depth': 3, 'max_features': 2, 'n_estimators': 10},\n",
       "  {'max_depth': 3, 'max_features': 2, 'n_estimators': 20},\n",
       "  {'max_depth': 3, 'max_features': 2, 'n_estimators': 30},\n",
       "  {'max_depth': 3, 'max_features': 2, 'n_estimators': 40},\n",
       "  {'max_depth': 3, 'max_features': 2, 'n_estimators': 50},\n",
       "  {'max_depth': 3, 'max_features': 2, 'n_estimators': 60},\n",
       "  {'max_depth': 3, 'max_features': 3, 'n_estimators': 10},\n",
       "  {'max_depth': 3, 'max_features': 3, 'n_estimators': 20},\n",
       "  {'max_depth': 3, 'max_features': 3, 'n_estimators': 30},\n",
       "  {'max_depth': 3, 'max_features': 3, 'n_estimators': 40},\n",
       "  {'max_depth': 3, 'max_features': 3, 'n_estimators': 50},\n",
       "  {'max_depth': 3, 'max_features': 3, 'n_estimators': 60},\n",
       "  {'max_depth': 3, 'max_features': 4, 'n_estimators': 10},\n",
       "  {'max_depth': 3, 'max_features': 4, 'n_estimators': 20},\n",
       "  {'max_depth': 3, 'max_features': 4, 'n_estimators': 30},\n",
       "  {'max_depth': 3, 'max_features': 4, 'n_estimators': 40},\n",
       "  {'max_depth': 3, 'max_features': 4, 'n_estimators': 50},\n",
       "  {'max_depth': 3, 'max_features': 4, 'n_estimators': 60},\n",
       "  {'max_depth': 3, 'max_features': 5, 'n_estimators': 10},\n",
       "  {'max_depth': 3, 'max_features': 5, 'n_estimators': 20},\n",
       "  {'max_depth': 3, 'max_features': 5, 'n_estimators': 30},\n",
       "  {'max_depth': 3, 'max_features': 5, 'n_estimators': 40},\n",
       "  {'max_depth': 3, 'max_features': 5, 'n_estimators': 50},\n",
       "  {'max_depth': 3, 'max_features': 5, 'n_estimators': 60},\n",
       "  {'max_depth': 3, 'max_features': 6, 'n_estimators': 10},\n",
       "  {'max_depth': 3, 'max_features': 6, 'n_estimators': 20},\n",
       "  {'max_depth': 3, 'max_features': 6, 'n_estimators': 30},\n",
       "  {'max_depth': 3, 'max_features': 6, 'n_estimators': 40},\n",
       "  {'max_depth': 3, 'max_features': 6, 'n_estimators': 50},\n",
       "  {'max_depth': 3, 'max_features': 6, 'n_estimators': 60},\n",
       "  {'max_depth': 3, 'max_features': 7, 'n_estimators': 10},\n",
       "  {'max_depth': 3, 'max_features': 7, 'n_estimators': 20},\n",
       "  {'max_depth': 3, 'max_features': 7, 'n_estimators': 30},\n",
       "  {'max_depth': 3, 'max_features': 7, 'n_estimators': 40},\n",
       "  {'max_depth': 3, 'max_features': 7, 'n_estimators': 50},\n",
       "  {'max_depth': 3, 'max_features': 7, 'n_estimators': 60},\n",
       "  {'max_depth': 4, 'max_features': 2, 'n_estimators': 10},\n",
       "  {'max_depth': 4, 'max_features': 2, 'n_estimators': 20},\n",
       "  {'max_depth': 4, 'max_features': 2, 'n_estimators': 30},\n",
       "  {'max_depth': 4, 'max_features': 2, 'n_estimators': 40},\n",
       "  {'max_depth': 4, 'max_features': 2, 'n_estimators': 50},\n",
       "  {'max_depth': 4, 'max_features': 2, 'n_estimators': 60},\n",
       "  {'max_depth': 4, 'max_features': 3, 'n_estimators': 10},\n",
       "  {'max_depth': 4, 'max_features': 3, 'n_estimators': 20},\n",
       "  {'max_depth': 4, 'max_features': 3, 'n_estimators': 30},\n",
       "  {'max_depth': 4, 'max_features': 3, 'n_estimators': 40},\n",
       "  {'max_depth': 4, 'max_features': 3, 'n_estimators': 50},\n",
       "  {'max_depth': 4, 'max_features': 3, 'n_estimators': 60},\n",
       "  {'max_depth': 4, 'max_features': 4, 'n_estimators': 10},\n",
       "  {'max_depth': 4, 'max_features': 4, 'n_estimators': 20},\n",
       "  {'max_depth': 4, 'max_features': 4, 'n_estimators': 30},\n",
       "  {'max_depth': 4, 'max_features': 4, 'n_estimators': 40},\n",
       "  {'max_depth': 4, 'max_features': 4, 'n_estimators': 50},\n",
       "  {'max_depth': 4, 'max_features': 4, 'n_estimators': 60},\n",
       "  {'max_depth': 4, 'max_features': 5, 'n_estimators': 10},\n",
       "  {'max_depth': 4, 'max_features': 5, 'n_estimators': 20},\n",
       "  {'max_depth': 4, 'max_features': 5, 'n_estimators': 30},\n",
       "  {'max_depth': 4, 'max_features': 5, 'n_estimators': 40},\n",
       "  {'max_depth': 4, 'max_features': 5, 'n_estimators': 50},\n",
       "  {'max_depth': 4, 'max_features': 5, 'n_estimators': 60},\n",
       "  {'max_depth': 4, 'max_features': 6, 'n_estimators': 10},\n",
       "  {'max_depth': 4, 'max_features': 6, 'n_estimators': 20},\n",
       "  {'max_depth': 4, 'max_features': 6, 'n_estimators': 30},\n",
       "  {'max_depth': 4, 'max_features': 6, 'n_estimators': 40},\n",
       "  {'max_depth': 4, 'max_features': 6, 'n_estimators': 50},\n",
       "  {'max_depth': 4, 'max_features': 6, 'n_estimators': 60},\n",
       "  {'max_depth': 4, 'max_features': 7, 'n_estimators': 10},\n",
       "  {'max_depth': 4, 'max_features': 7, 'n_estimators': 20},\n",
       "  {'max_depth': 4, 'max_features': 7, 'n_estimators': 30},\n",
       "  {'max_depth': 4, 'max_features': 7, 'n_estimators': 40},\n",
       "  {'max_depth': 4, 'max_features': 7, 'n_estimators': 50},\n",
       "  {'max_depth': 4, 'max_features': 7, 'n_estimators': 60},\n",
       "  {'max_depth': 5, 'max_features': 2, 'n_estimators': 10},\n",
       "  {'max_depth': 5, 'max_features': 2, 'n_estimators': 20},\n",
       "  {'max_depth': 5, 'max_features': 2, 'n_estimators': 30},\n",
       "  {'max_depth': 5, 'max_features': 2, 'n_estimators': 40},\n",
       "  {'max_depth': 5, 'max_features': 2, 'n_estimators': 50},\n",
       "  {'max_depth': 5, 'max_features': 2, 'n_estimators': 60},\n",
       "  {'max_depth': 5, 'max_features': 3, 'n_estimators': 10},\n",
       "  {'max_depth': 5, 'max_features': 3, 'n_estimators': 20},\n",
       "  {'max_depth': 5, 'max_features': 3, 'n_estimators': 30},\n",
       "  {'max_depth': 5, 'max_features': 3, 'n_estimators': 40},\n",
       "  {'max_depth': 5, 'max_features': 3, 'n_estimators': 50},\n",
       "  {'max_depth': 5, 'max_features': 3, 'n_estimators': 60},\n",
       "  {'max_depth': 5, 'max_features': 4, 'n_estimators': 10},\n",
       "  {'max_depth': 5, 'max_features': 4, 'n_estimators': 20},\n",
       "  {'max_depth': 5, 'max_features': 4, 'n_estimators': 30},\n",
       "  {'max_depth': 5, 'max_features': 4, 'n_estimators': 40},\n",
       "  {'max_depth': 5, 'max_features': 4, 'n_estimators': 50},\n",
       "  {'max_depth': 5, 'max_features': 4, 'n_estimators': 60},\n",
       "  {'max_depth': 5, 'max_features': 5, 'n_estimators': 10},\n",
       "  {'max_depth': 5, 'max_features': 5, 'n_estimators': 20},\n",
       "  {'max_depth': 5, 'max_features': 5, 'n_estimators': 30},\n",
       "  {'max_depth': 5, 'max_features': 5, 'n_estimators': 40},\n",
       "  {'max_depth': 5, 'max_features': 5, 'n_estimators': 50},\n",
       "  {'max_depth': 5, 'max_features': 5, 'n_estimators': 60},\n",
       "  {'max_depth': 5, 'max_features': 6, 'n_estimators': 10},\n",
       "  {'max_depth': 5, 'max_features': 6, 'n_estimators': 20},\n",
       "  {'max_depth': 5, 'max_features': 6, 'n_estimators': 30},\n",
       "  {'max_depth': 5, 'max_features': 6, 'n_estimators': 40},\n",
       "  {'max_depth': 5, 'max_features': 6, 'n_estimators': 50},\n",
       "  {'max_depth': 5, 'max_features': 6, 'n_estimators': 60},\n",
       "  {'max_depth': 5, 'max_features': 7, 'n_estimators': 10},\n",
       "  {'max_depth': 5, 'max_features': 7, 'n_estimators': 20},\n",
       "  {'max_depth': 5, 'max_features': 7, 'n_estimators': 30},\n",
       "  {'max_depth': 5, 'max_features': 7, 'n_estimators': 40},\n",
       "  {'max_depth': 5, 'max_features': 7, 'n_estimators': 50},\n",
       "  {'max_depth': 5, 'max_features': 7, 'n_estimators': 60},\n",
       "  {'max_depth': 6, 'max_features': 2, 'n_estimators': 10},\n",
       "  {'max_depth': 6, 'max_features': 2, 'n_estimators': 20},\n",
       "  {'max_depth': 6, 'max_features': 2, 'n_estimators': 30},\n",
       "  {'max_depth': 6, 'max_features': 2, 'n_estimators': 40},\n",
       "  {'max_depth': 6, 'max_features': 2, 'n_estimators': 50},\n",
       "  {'max_depth': 6, 'max_features': 2, 'n_estimators': 60},\n",
       "  {'max_depth': 6, 'max_features': 3, 'n_estimators': 10},\n",
       "  {'max_depth': 6, 'max_features': 3, 'n_estimators': 20},\n",
       "  {'max_depth': 6, 'max_features': 3, 'n_estimators': 30},\n",
       "  {'max_depth': 6, 'max_features': 3, 'n_estimators': 40},\n",
       "  {'max_depth': 6, 'max_features': 3, 'n_estimators': 50},\n",
       "  {'max_depth': 6, 'max_features': 3, 'n_estimators': 60},\n",
       "  {'max_depth': 6, 'max_features': 4, 'n_estimators': 10},\n",
       "  {'max_depth': 6, 'max_features': 4, 'n_estimators': 20},\n",
       "  {'max_depth': 6, 'max_features': 4, 'n_estimators': 30},\n",
       "  {'max_depth': 6, 'max_features': 4, 'n_estimators': 40},\n",
       "  {'max_depth': 6, 'max_features': 4, 'n_estimators': 50},\n",
       "  {'max_depth': 6, 'max_features': 4, 'n_estimators': 60},\n",
       "  {'max_depth': 6, 'max_features': 5, 'n_estimators': 10},\n",
       "  {'max_depth': 6, 'max_features': 5, 'n_estimators': 20},\n",
       "  {'max_depth': 6, 'max_features': 5, 'n_estimators': 30},\n",
       "  {'max_depth': 6, 'max_features': 5, 'n_estimators': 40},\n",
       "  {'max_depth': 6, 'max_features': 5, 'n_estimators': 50},\n",
       "  {'max_depth': 6, 'max_features': 5, 'n_estimators': 60},\n",
       "  {'max_depth': 6, 'max_features': 6, 'n_estimators': 10},\n",
       "  {'max_depth': 6, 'max_features': 6, 'n_estimators': 20},\n",
       "  {'max_depth': 6, 'max_features': 6, 'n_estimators': 30},\n",
       "  {'max_depth': 6, 'max_features': 6, 'n_estimators': 40},\n",
       "  {'max_depth': 6, 'max_features': 6, 'n_estimators': 50},\n",
       "  {'max_depth': 6, 'max_features': 6, 'n_estimators': 60},\n",
       "  {'max_depth': 6, 'max_features': 7, 'n_estimators': 10},\n",
       "  {'max_depth': 6, 'max_features': 7, 'n_estimators': 20},\n",
       "  {'max_depth': 6, 'max_features': 7, 'n_estimators': 30},\n",
       "  {'max_depth': 6, 'max_features': 7, 'n_estimators': 40},\n",
       "  {'max_depth': 6, 'max_features': 7, 'n_estimators': 50},\n",
       "  {'max_depth': 6, 'max_features': 7, 'n_estimators': 60},\n",
       "  {'max_depth': 7, 'max_features': 2, 'n_estimators': 10},\n",
       "  {'max_depth': 7, 'max_features': 2, 'n_estimators': 20},\n",
       "  {'max_depth': 7, 'max_features': 2, 'n_estimators': 30},\n",
       "  {'max_depth': 7, 'max_features': 2, 'n_estimators': 40},\n",
       "  {'max_depth': 7, 'max_features': 2, 'n_estimators': 50},\n",
       "  {'max_depth': 7, 'max_features': 2, 'n_estimators': 60},\n",
       "  {'max_depth': 7, 'max_features': 3, 'n_estimators': 10},\n",
       "  {'max_depth': 7, 'max_features': 3, 'n_estimators': 20},\n",
       "  {'max_depth': 7, 'max_features': 3, 'n_estimators': 30},\n",
       "  {'max_depth': 7, 'max_features': 3, 'n_estimators': 40},\n",
       "  {'max_depth': 7, 'max_features': 3, 'n_estimators': 50},\n",
       "  {'max_depth': 7, 'max_features': 3, 'n_estimators': 60},\n",
       "  {'max_depth': 7, 'max_features': 4, 'n_estimators': 10},\n",
       "  {'max_depth': 7, 'max_features': 4, 'n_estimators': 20},\n",
       "  {'max_depth': 7, 'max_features': 4, 'n_estimators': 30},\n",
       "  {'max_depth': 7, 'max_features': 4, 'n_estimators': 40},\n",
       "  {'max_depth': 7, 'max_features': 4, 'n_estimators': 50},\n",
       "  {'max_depth': 7, 'max_features': 4, 'n_estimators': 60},\n",
       "  {'max_depth': 7, 'max_features': 5, 'n_estimators': 10},\n",
       "  {'max_depth': 7, 'max_features': 5, 'n_estimators': 20},\n",
       "  {'max_depth': 7, 'max_features': 5, 'n_estimators': 30},\n",
       "  {'max_depth': 7, 'max_features': 5, 'n_estimators': 40},\n",
       "  {'max_depth': 7, 'max_features': 5, 'n_estimators': 50},\n",
       "  {'max_depth': 7, 'max_features': 5, 'n_estimators': 60},\n",
       "  {'max_depth': 7, 'max_features': 6, 'n_estimators': 10},\n",
       "  {'max_depth': 7, 'max_features': 6, 'n_estimators': 20},\n",
       "  {'max_depth': 7, 'max_features': 6, 'n_estimators': 30},\n",
       "  {'max_depth': 7, 'max_features': 6, 'n_estimators': 40},\n",
       "  {'max_depth': 7, 'max_features': 6, 'n_estimators': 50},\n",
       "  {'max_depth': 7, 'max_features': 6, 'n_estimators': 60},\n",
       "  {'max_depth': 7, 'max_features': 7, 'n_estimators': 10},\n",
       "  {'max_depth': 7, 'max_features': 7, 'n_estimators': 20},\n",
       "  {'max_depth': 7, 'max_features': 7, 'n_estimators': 30},\n",
       "  {'max_depth': 7, 'max_features': 7, 'n_estimators': 40},\n",
       "  {'max_depth': 7, 'max_features': 7, 'n_estimators': 50},\n",
       "  {'max_depth': 7, 'max_features': 7, 'n_estimators': 60},\n",
       "  {'max_depth': 8, 'max_features': 2, 'n_estimators': 10},\n",
       "  {'max_depth': 8, 'max_features': 2, 'n_estimators': 20},\n",
       "  {'max_depth': 8, 'max_features': 2, 'n_estimators': 30},\n",
       "  {'max_depth': 8, 'max_features': 2, 'n_estimators': 40},\n",
       "  {'max_depth': 8, 'max_features': 2, 'n_estimators': 50},\n",
       "  {'max_depth': 8, 'max_features': 2, 'n_estimators': 60},\n",
       "  {'max_depth': 8, 'max_features': 3, 'n_estimators': 10},\n",
       "  {'max_depth': 8, 'max_features': 3, 'n_estimators': 20},\n",
       "  {'max_depth': 8, 'max_features': 3, 'n_estimators': 30},\n",
       "  {'max_depth': 8, 'max_features': 3, 'n_estimators': 40},\n",
       "  {'max_depth': 8, 'max_features': 3, 'n_estimators': 50},\n",
       "  {'max_depth': 8, 'max_features': 3, 'n_estimators': 60},\n",
       "  {'max_depth': 8, 'max_features': 4, 'n_estimators': 10},\n",
       "  {'max_depth': 8, 'max_features': 4, 'n_estimators': 20},\n",
       "  {'max_depth': 8, 'max_features': 4, 'n_estimators': 30},\n",
       "  {'max_depth': 8, 'max_features': 4, 'n_estimators': 40},\n",
       "  {'max_depth': 8, 'max_features': 4, 'n_estimators': 50},\n",
       "  {'max_depth': 8, 'max_features': 4, 'n_estimators': 60},\n",
       "  {'max_depth': 8, 'max_features': 5, 'n_estimators': 10},\n",
       "  {'max_depth': 8, 'max_features': 5, 'n_estimators': 20},\n",
       "  {'max_depth': 8, 'max_features': 5, 'n_estimators': 30},\n",
       "  {'max_depth': 8, 'max_features': 5, 'n_estimators': 40},\n",
       "  {'max_depth': 8, 'max_features': 5, 'n_estimators': 50},\n",
       "  {'max_depth': 8, 'max_features': 5, 'n_estimators': 60},\n",
       "  {'max_depth': 8, 'max_features': 6, 'n_estimators': 10},\n",
       "  {'max_depth': 8, 'max_features': 6, 'n_estimators': 20},\n",
       "  {'max_depth': 8, 'max_features': 6, 'n_estimators': 30},\n",
       "  {'max_depth': 8, 'max_features': 6, 'n_estimators': 40},\n",
       "  {'max_depth': 8, 'max_features': 6, 'n_estimators': 50},\n",
       "  {'max_depth': 8, 'max_features': 6, 'n_estimators': 60},\n",
       "  {'max_depth': 8, 'max_features': 7, 'n_estimators': 10},\n",
       "  {'max_depth': 8, 'max_features': 7, 'n_estimators': 20},\n",
       "  {'max_depth': 8, 'max_features': 7, 'n_estimators': 30},\n",
       "  {'max_depth': 8, 'max_features': 7, 'n_estimators': 40},\n",
       "  {'max_depth': 8, 'max_features': 7, 'n_estimators': 50},\n",
       "  {'max_depth': 8, 'max_features': 7, 'n_estimators': 60}],\n",
       " 'split0_test_score': array([0.89565217, 0.90434783, 0.90434783, 0.89565217, 0.90434783,\n",
       "        0.91304348, 0.92173913, 0.89565217, 0.92173913, 0.88695652,\n",
       "        0.91304348, 0.91304348, 0.89565217, 0.90434783, 0.93043478,\n",
       "        0.88695652, 0.86956522, 0.90434783, 0.87826087, 0.90434783,\n",
       "        0.90434783, 0.86086957, 0.90434783, 0.90434783, 0.89565217,\n",
       "        0.86956522, 0.87826087, 0.86956522, 0.87826087, 0.86956522,\n",
       "        0.88695652, 0.90434783, 0.89565217, 0.86956522, 0.88695652,\n",
       "        0.86956522, 0.90434783, 0.90434783, 0.93043478, 0.92173913,\n",
       "        0.89565217, 0.91304348, 0.89565217, 0.91304348, 0.90434783,\n",
       "        0.90434783, 0.89565217, 0.91304348, 0.89565217, 0.91304348,\n",
       "        0.91304348, 0.90434783, 0.92173913, 0.91304348, 0.87826087,\n",
       "        0.87826087, 0.91304348, 0.90434783, 0.89565217, 0.89565217,\n",
       "        0.86956522, 0.87826087, 0.86956522, 0.86956522, 0.87826087,\n",
       "        0.91304348, 0.86086957, 0.90434783, 0.90434783, 0.90434783,\n",
       "        0.89565217, 0.88695652, 0.91304348, 0.90434783, 0.90434783,\n",
       "        0.92173913, 0.93913043, 0.91304348, 0.87826087, 0.90434783,\n",
       "        0.90434783, 0.91304348, 0.92173913, 0.92173913, 0.91304348,\n",
       "        0.91304348, 0.89565217, 0.90434783, 0.91304348, 0.90434783,\n",
       "        0.91304348, 0.89565217, 0.90434783, 0.89565217, 0.87826087,\n",
       "        0.89565217, 0.89565217, 0.89565217, 0.88695652, 0.91304348,\n",
       "        0.89565217, 0.87826087, 0.88695652, 0.90434783, 0.90434783,\n",
       "        0.88695652, 0.86086957, 0.89565217, 0.87826087, 0.93043478,\n",
       "        0.90434783, 0.91304348, 0.91304348, 0.87826087, 0.88695652,\n",
       "        0.90434783, 0.87826087, 0.93043478, 0.92173913, 0.90434783,\n",
       "        0.87826087, 0.92173913, 0.93043478, 0.91304348, 0.90434783,\n",
       "        0.89565217, 0.89565217, 0.90434783, 0.88695652, 0.91304348,\n",
       "        0.89565217, 0.90434783, 0.87826087, 0.86956522, 0.88695652,\n",
       "        0.91304348, 0.89565217, 0.88695652, 0.86956522, 0.86956522,\n",
       "        0.90434783, 0.87826087, 0.87826087, 0.90434783, 0.86956522,\n",
       "        0.93913043, 0.90434783, 0.92173913, 0.92173913, 0.91304348,\n",
       "        0.91304348, 0.90434783, 0.91304348, 0.88695652, 0.90434783,\n",
       "        0.88695652, 0.86086957, 0.88695652, 0.91304348, 0.89565217,\n",
       "        0.90434783, 0.90434783, 0.92173913, 0.91304348, 0.91304348,\n",
       "        0.90434783, 0.89565217, 0.87826087, 0.86956522, 0.91304348,\n",
       "        0.88695652, 0.88695652, 0.89565217, 0.90434783, 0.90434783,\n",
       "        0.87826087, 0.86956522, 0.86956522, 0.87826087, 0.87826087,\n",
       "        0.91304348, 0.89565217, 0.90434783, 0.90434783, 0.91304348,\n",
       "        0.91304348, 0.89565217, 0.92173913, 0.91304348, 0.88695652,\n",
       "        0.91304348, 0.92173913, 0.89565217, 0.88695652, 0.86956522,\n",
       "        0.91304348, 0.88695652, 0.89565217, 0.88695652, 0.89565217,\n",
       "        0.88695652, 0.89565217, 0.90434783, 0.90434783, 0.88695652,\n",
       "        0.87826087, 0.88695652, 0.89565217, 0.86956522, 0.89565217,\n",
       "        0.87826087, 0.87826087, 0.89565217, 0.88695652, 0.87826087,\n",
       "        0.88695652]),\n",
       " 'split1_test_score': array([0.83333333, 0.81578947, 0.8245614 , 0.85964912, 0.83333333,\n",
       "        0.81578947, 0.85964912, 0.8245614 , 0.84210526, 0.87719298,\n",
       "        0.86842105, 0.86842105, 0.81578947, 0.87719298, 0.85964912,\n",
       "        0.87719298, 0.84210526, 0.85964912, 0.84210526, 0.87719298,\n",
       "        0.87719298, 0.87719298, 0.85964912, 0.85964912, 0.85964912,\n",
       "        0.85964912, 0.86842105, 0.86842105, 0.85964912, 0.87719298,\n",
       "        0.85964912, 0.86842105, 0.85964912, 0.86842105, 0.85964912,\n",
       "        0.87719298, 0.84210526, 0.85087719, 0.83333333, 0.84210526,\n",
       "        0.84210526, 0.86842105, 0.86842105, 0.89473684, 0.85964912,\n",
       "        0.81578947, 0.85087719, 0.86842105, 0.86842105, 0.87719298,\n",
       "        0.87719298, 0.88596491, 0.86842105, 0.87719298, 0.85087719,\n",
       "        0.86842105, 0.88596491, 0.85964912, 0.88596491, 0.89473684,\n",
       "        0.85964912, 0.85964912, 0.85964912, 0.88596491, 0.89473684,\n",
       "        0.87719298, 0.87719298, 0.88596491, 0.86842105, 0.86842105,\n",
       "        0.88596491, 0.87719298, 0.76315789, 0.84210526, 0.86842105,\n",
       "        0.86842105, 0.86842105, 0.85964912, 0.80701754, 0.88596491,\n",
       "        0.85087719, 0.87719298, 0.86842105, 0.87719298, 0.85964912,\n",
       "        0.87719298, 0.88596491, 0.87719298, 0.87719298, 0.87719298,\n",
       "        0.85964912, 0.85964912, 0.86842105, 0.86842105, 0.88596491,\n",
       "        0.85964912, 0.86842105, 0.87719298, 0.87719298, 0.86842105,\n",
       "        0.85964912, 0.87719298, 0.85964912, 0.85964912, 0.86842105,\n",
       "        0.86842105, 0.85964912, 0.85964912, 0.8245614 , 0.8245614 ,\n",
       "        0.87719298, 0.85087719, 0.85964912, 0.85087719, 0.85087719,\n",
       "        0.86842105, 0.86842105, 0.87719298, 0.87719298, 0.86842105,\n",
       "        0.87719298, 0.84210526, 0.85964912, 0.85964912, 0.86842105,\n",
       "        0.86842105, 0.84210526, 0.85964912, 0.87719298, 0.85964912,\n",
       "        0.85964912, 0.87719298, 0.87719298, 0.88596491, 0.86842105,\n",
       "        0.85964912, 0.86842105, 0.86842105, 0.85964912, 0.87719298,\n",
       "        0.86842105, 0.87719298, 0.85964912, 0.86842105, 0.88596491,\n",
       "        0.85087719, 0.85087719, 0.83333333, 0.85964912, 0.86842105,\n",
       "        0.8245614 , 0.86842105, 0.87719298, 0.85964912, 0.85964912,\n",
       "        0.85964912, 0.87719298, 0.88596491, 0.87719298, 0.86842105,\n",
       "        0.87719298, 0.87719298, 0.85964912, 0.84210526, 0.85964912,\n",
       "        0.88596491, 0.86842105, 0.86842105, 0.88596491, 0.85964912,\n",
       "        0.88596491, 0.86842105, 0.86842105, 0.86842105, 0.87719298,\n",
       "        0.85964912, 0.85087719, 0.85087719, 0.86842105, 0.85964912,\n",
       "        0.87719298, 0.84210526, 0.84210526, 0.85087719, 0.86842105,\n",
       "        0.90350877, 0.86842105, 0.84210526, 0.85964912, 0.88596491,\n",
       "        0.86842105, 0.85964912, 0.86842105, 0.85087719, 0.88596491,\n",
       "        0.85087719, 0.86842105, 0.85964912, 0.85964912, 0.87719298,\n",
       "        0.86842105, 0.86842105, 0.86842105, 0.86842105, 0.85087719,\n",
       "        0.86842105, 0.85964912, 0.86842105, 0.85964912, 0.86842105,\n",
       "        0.89473684, 0.89473684, 0.87719298, 0.84210526, 0.85087719,\n",
       "        0.85964912]),\n",
       " 'split2_test_score': array([0.90350877, 0.88596491, 0.86842105, 0.85964912, 0.84210526,\n",
       "        0.90350877, 0.87719298, 0.90350877, 0.9122807 , 0.92105263,\n",
       "        0.90350877, 0.89473684, 0.87719298, 0.89473684, 0.92982456,\n",
       "        0.9122807 , 0.92105263, 0.92105263, 0.92105263, 0.9122807 ,\n",
       "        0.90350877, 0.93859649, 0.93859649, 0.92105263, 0.92982456,\n",
       "        0.92105263, 0.93859649, 0.92105263, 0.93859649, 0.92105263,\n",
       "        0.88596491, 0.92105263, 0.92982456, 0.92982456, 0.9122807 ,\n",
       "        0.92982456, 0.89473684, 0.9122807 , 0.9122807 , 0.90350877,\n",
       "        0.86842105, 0.85964912, 0.86842105, 0.90350877, 0.9122807 ,\n",
       "        0.92105263, 0.92982456, 0.92105263, 0.89473684, 0.90350877,\n",
       "        0.92982456, 0.92982456, 0.92105263, 0.92105263, 0.9122807 ,\n",
       "        0.90350877, 0.92105263, 0.92982456, 0.93859649, 0.93859649,\n",
       "        0.92982456, 0.92105263, 0.90350877, 0.92982456, 0.92982456,\n",
       "        0.92982456, 0.9122807 , 0.9122807 , 0.9122807 , 0.92982456,\n",
       "        0.92105263, 0.92982456, 0.94736842, 0.92982456, 0.90350877,\n",
       "        0.88596491, 0.88596491, 0.92105263, 0.88596491, 0.9122807 ,\n",
       "        0.92982456, 0.92105263, 0.92105263, 0.92982456, 0.9122807 ,\n",
       "        0.92105263, 0.92982456, 0.9122807 , 0.92982456, 0.92105263,\n",
       "        0.88596491, 0.89473684, 0.92105263, 0.93859649, 0.92982456,\n",
       "        0.92982456, 0.90350877, 0.89473684, 0.90350877, 0.92982456,\n",
       "        0.92105263, 0.92105263, 0.92982456, 0.92105263, 0.92982456,\n",
       "        0.92982456, 0.9122807 , 0.92982456, 0.86842105, 0.89473684,\n",
       "        0.90350877, 0.90350877, 0.92982456, 0.89473684, 0.90350877,\n",
       "        0.89473684, 0.92105263, 0.92982456, 0.92105263, 0.92105263,\n",
       "        0.92105263, 0.92982456, 0.92982456, 0.95614035, 0.9122807 ,\n",
       "        0.92105263, 0.87719298, 0.92105263, 0.92982456, 0.9122807 ,\n",
       "        0.92982456, 0.9122807 , 0.90350877, 0.9122807 , 0.90350877,\n",
       "        0.9122807 , 0.92982456, 0.92982456, 0.90350877, 0.94736842,\n",
       "        0.92105263, 0.89473684, 0.9122807 , 0.9122807 , 0.87719298,\n",
       "        0.88596491, 0.9122807 , 0.90350877, 0.90350877, 0.85087719,\n",
       "        0.92982456, 0.90350877, 0.89473684, 0.89473684, 0.92982456,\n",
       "        0.93859649, 0.87719298, 0.92982456, 0.9122807 , 0.90350877,\n",
       "        0.9122807 , 0.9122807 , 0.89473684, 0.92105263, 0.92105263,\n",
       "        0.93859649, 0.92982456, 0.92982456, 0.89473684, 0.92105263,\n",
       "        0.92105263, 0.92105263, 0.92982456, 0.92105263, 0.90350877,\n",
       "        0.89473684, 0.92105263, 0.92982456, 0.9122807 , 0.9122807 ,\n",
       "        0.8245614 , 0.88596491, 0.89473684, 0.92105263, 0.92105263,\n",
       "        0.92982456, 0.89473684, 0.89473684, 0.92105263, 0.89473684,\n",
       "        0.93859649, 0.93859649, 0.92105263, 0.89473684, 0.93859649,\n",
       "        0.93859649, 0.9122807 , 0.9122807 , 0.92105263, 0.9122807 ,\n",
       "        0.92105263, 0.88596491, 0.92105263, 0.92105263, 0.90350877,\n",
       "        0.9122807 , 0.90350877, 0.90350877, 0.92982456, 0.90350877,\n",
       "        0.88596491, 0.90350877, 0.92982456, 0.9122807 , 0.92105263,\n",
       "        0.90350877]),\n",
       " 'split3_test_score': array([0.81578947, 0.84210526, 0.81578947, 0.87719298, 0.89473684,\n",
       "        0.87719298, 0.87719298, 0.88596491, 0.89473684, 0.85964912,\n",
       "        0.87719298, 0.87719298, 0.90350877, 0.86842105, 0.88596491,\n",
       "        0.87719298, 0.87719298, 0.87719298, 0.87719298, 0.9122807 ,\n",
       "        0.83333333, 0.90350877, 0.89473684, 0.88596491, 0.90350877,\n",
       "        0.88596491, 0.88596491, 0.86842105, 0.87719298, 0.88596491,\n",
       "        0.86842105, 0.89473684, 0.87719298, 0.87719298, 0.89473684,\n",
       "        0.88596491, 0.85087719, 0.86842105, 0.85964912, 0.85087719,\n",
       "        0.87719298, 0.85087719, 0.83333333, 0.86842105, 0.87719298,\n",
       "        0.85964912, 0.85964912, 0.85087719, 0.87719298, 0.89473684,\n",
       "        0.85087719, 0.90350877, 0.86842105, 0.86842105, 0.85087719,\n",
       "        0.89473684, 0.85964912, 0.88596491, 0.86842105, 0.89473684,\n",
       "        0.88596491, 0.90350877, 0.88596491, 0.90350877, 0.88596491,\n",
       "        0.86842105, 0.86842105, 0.86842105, 0.86842105, 0.87719298,\n",
       "        0.87719298, 0.9122807 , 0.85964912, 0.86842105, 0.86842105,\n",
       "        0.85964912, 0.86842105, 0.85087719, 0.88596491, 0.87719298,\n",
       "        0.88596491, 0.85964912, 0.9122807 , 0.88596491, 0.89473684,\n",
       "        0.88596491, 0.86842105, 0.87719298, 0.85964912, 0.89473684,\n",
       "        0.85087719, 0.86842105, 0.86842105, 0.87719298, 0.89473684,\n",
       "        0.89473684, 0.85964912, 0.85087719, 0.88596491, 0.88596491,\n",
       "        0.88596491, 0.87719298, 0.88596491, 0.88596491, 0.87719298,\n",
       "        0.85087719, 0.88596491, 0.90350877, 0.85964912, 0.84210526,\n",
       "        0.80701754, 0.86842105, 0.85087719, 0.85087719, 0.86842105,\n",
       "        0.88596491, 0.85087719, 0.86842105, 0.85964912, 0.87719298,\n",
       "        0.89473684, 0.87719298, 0.85964912, 0.85964912, 0.87719298,\n",
       "        0.87719298, 0.87719298, 0.87719298, 0.85964912, 0.9122807 ,\n",
       "        0.88596491, 0.86842105, 0.86842105, 0.85964912, 0.85964912,\n",
       "        0.87719298, 0.86842105, 0.86842105, 0.89473684, 0.87719298,\n",
       "        0.88596491, 0.87719298, 0.88596491, 0.89473684, 0.84210526,\n",
       "        0.89473684, 0.85087719, 0.85964912, 0.86842105, 0.88596491,\n",
       "        0.85964912, 0.86842105, 0.87719298, 0.86842105, 0.88596491,\n",
       "        0.87719298, 0.85964912, 0.88596491, 0.86842105, 0.88596491,\n",
       "        0.88596491, 0.86842105, 0.90350877, 0.88596491, 0.86842105,\n",
       "        0.85964912, 0.90350877, 0.87719298, 0.85087719, 0.85964912,\n",
       "        0.89473684, 0.90350877, 0.85087719, 0.86842105, 0.84210526,\n",
       "        0.85964912, 0.87719298, 0.87719298, 0.85964912, 0.86842105,\n",
       "        0.84210526, 0.86842105, 0.86842105, 0.85087719, 0.85964912,\n",
       "        0.85087719, 0.85964912, 0.88596491, 0.86842105, 0.85087719,\n",
       "        0.85964912, 0.87719298, 0.86842105, 0.86842105, 0.88596491,\n",
       "        0.85964912, 0.89473684, 0.85964912, 0.85964912, 0.88596491,\n",
       "        0.85087719, 0.86842105, 0.85964912, 0.88596491, 0.86842105,\n",
       "        0.85964912, 0.85964912, 0.87719298, 0.89473684, 0.89473684,\n",
       "        0.84210526, 0.84210526, 0.9122807 , 0.88596491, 0.85964912,\n",
       "        0.88596491]),\n",
       " 'mean_test_score': array([0.86207094, 0.86205187, 0.85327994, 0.87303585, 0.86863082,\n",
       "        0.87738368, 0.88394355, 0.87742182, 0.89271548, 0.88621281,\n",
       "        0.89054157, 0.88834859, 0.87303585, 0.88617468, 0.90146834,\n",
       "        0.8884058 , 0.87747902, 0.89056064, 0.87965294, 0.90152555,\n",
       "        0.87959573, 0.89504195, 0.89933257, 0.89275362, 0.89715866,\n",
       "        0.88405797, 0.89281083, 0.88186499, 0.88842487, 0.88844394,\n",
       "        0.8752479 , 0.89713959, 0.89057971, 0.88625095, 0.8884058 ,\n",
       "        0.89063692, 0.87301678, 0.88398169, 0.88392449, 0.87955759,\n",
       "        0.87084287, 0.87299771, 0.8664569 , 0.89492754, 0.88836766,\n",
       "        0.87520976, 0.88400076, 0.88834859, 0.88400076, 0.89712052,\n",
       "        0.89273455, 0.90591152, 0.89490847, 0.89492754, 0.87307399,\n",
       "        0.88623188, 0.89492754, 0.89494661, 0.89715866, 0.90593059,\n",
       "        0.88625095, 0.89061785, 0.87967201, 0.89721587, 0.8971968 ,\n",
       "        0.89712052, 0.87969108, 0.89275362, 0.88836766, 0.89494661,\n",
       "        0.89496568, 0.90156369, 0.87080473, 0.88617468, 0.88617468,\n",
       "        0.88394355, 0.89048436, 0.88615561, 0.86430206, 0.89494661,\n",
       "        0.89275362, 0.89273455, 0.90587338, 0.9036804 , 0.89492754,\n",
       "        0.8993135 , 0.89496568, 0.89275362, 0.89492754, 0.89933257,\n",
       "        0.87738368, 0.8796148 , 0.89056064, 0.89496568, 0.8971968 ,\n",
       "        0.89496568, 0.88180778, 0.8796148 , 0.8884058 , 0.8993135 ,\n",
       "        0.89057971, 0.88842487, 0.89059878, 0.89275362, 0.89494661,\n",
       "        0.88401983, 0.87969108, 0.89715866, 0.85772311, 0.87295957,\n",
       "        0.87301678, 0.88396262, 0.88834859, 0.86868802, 0.87744088,\n",
       "        0.88836766, 0.87965294, 0.90146834, 0.89490847, 0.89275362,\n",
       "        0.89281083, 0.89271548, 0.8948894 , 0.89712052, 0.89056064,\n",
       "        0.89057971, 0.87303585, 0.89056064, 0.8884058 , 0.8993135 ,\n",
       "        0.89277269, 0.89056064, 0.88184592, 0.88186499, 0.87963387,\n",
       "        0.89054157, 0.89057971, 0.8884058 , 0.88186499, 0.8928299 ,\n",
       "        0.89494661, 0.88184592, 0.8840389 , 0.89494661, 0.86870709,\n",
       "        0.89267735, 0.87959573, 0.87955759, 0.88832952, 0.87957666,\n",
       "        0.88176964, 0.88617468, 0.89054157, 0.87744088, 0.89494661,\n",
       "        0.89059878, 0.86872616, 0.89717773, 0.89273455, 0.88838673,\n",
       "        0.89494661, 0.89056064, 0.89490847, 0.89054157, 0.89054157,\n",
       "        0.89713959, 0.89935164, 0.88842487, 0.87528604, 0.88834859,\n",
       "        0.89717773, 0.89498474, 0.88619375, 0.89056064, 0.88178871,\n",
       "        0.87307399, 0.87967201, 0.88186499, 0.87965294, 0.87965294,\n",
       "        0.86422578, 0.87303585, 0.87740275, 0.88178871, 0.89054157,\n",
       "        0.8993135 , 0.8796148 , 0.88613654, 0.89054157, 0.87963387,\n",
       "        0.89492754, 0.89929443, 0.88838673, 0.8752479 , 0.89502288,\n",
       "        0.89054157, 0.89059878, 0.88180778, 0.88182685, 0.89277269,\n",
       "        0.88182685, 0.8796148 , 0.88836766, 0.89494661, 0.87744088,\n",
       "        0.87965294, 0.87744088, 0.88619375, 0.88844394, 0.89057971,\n",
       "        0.87526697, 0.87965294, 0.9037376 , 0.88182685, 0.87745995,\n",
       "        0.88401983]),\n",
       " 'std_test_score': array([0.03812026, 0.03499592, 0.03559309, 0.01489286, 0.03125199,\n",
       "        0.03790786, 0.02296664, 0.03114516, 0.03078413, 0.02236824,\n",
       "        0.01831657, 0.01711871, 0.03440395, 0.01413715, 0.03013442,\n",
       "        0.01434892, 0.02834022, 0.02373849, 0.02798103, 0.01441688,\n",
       "        0.02885517, 0.02938972, 0.02811897, 0.02278845, 0.02508296,\n",
       "        0.02333492, 0.02715583, 0.02262982, 0.02989439, 0.01970065,\n",
       "        0.01163909, 0.01906777, 0.02598939, 0.0253822 , 0.018968  ,\n",
       "        0.02335731, 0.02692155, 0.02526685, 0.03910256, 0.03383114,\n",
       "        0.01928432, 0.023938  , 0.02212041, 0.01661667, 0.02107621,\n",
       "        0.04099847, 0.0313279 , 0.02949832, 0.01161994, 0.0132017 ,\n",
       "        0.03074776, 0.01563585, 0.02648853, 0.02251564, 0.02524612,\n",
       "        0.01370755, 0.02416404, 0.02564877, 0.02583851, 0.01886337,\n",
       "        0.02685522, 0.0234745 , 0.01666475, 0.02232751, 0.01971894,\n",
       "        0.02521835, 0.0196824 , 0.0169845 , 0.02014282, 0.02410213,\n",
       "        0.01641556, 0.02074146, 0.06956723, 0.03351448, 0.0177561 ,\n",
       "        0.02378949, 0.02898467, 0.03117659, 0.03322244, 0.01400639,\n",
       "        0.02875936, 0.0252515 , 0.02194232, 0.02250032, 0.02164441,\n",
       "        0.01822501, 0.02236763, 0.01581138, 0.02786158, 0.01587605,\n",
       "        0.02430209, 0.01588869, 0.02291381, 0.02703981, 0.01971894,\n",
       "        0.02481393, 0.01825384, 0.0181493 , 0.00951164, 0.02372744,\n",
       "        0.02197912, 0.01884269, 0.02515592, 0.02278845, 0.02410213,\n",
       "        0.02936177, 0.02154863, 0.02508296, 0.02024632, 0.04204765,\n",
       "        0.03963816, 0.02531765, 0.03375596, 0.01873921, 0.01972986,\n",
       "        0.01322472, 0.02583637, 0.02882944, 0.02720506, 0.02103252,\n",
       "        0.01772659, 0.03543232, 0.03524094, 0.04045087, 0.0182394 ,\n",
       "        0.02015279, 0.01938274, 0.02373849, 0.02583741, 0.02290236,\n",
       "        0.02512294, 0.0182394 , 0.01307678, 0.01991704, 0.0169466 ,\n",
       "        0.02297528, 0.02523837, 0.02508184, 0.01788132, 0.03164144,\n",
       "        0.01971157, 0.00745534, 0.01890473, 0.01652652, 0.01641825,\n",
       "        0.03144217, 0.02885517, 0.03494986, 0.0253255 , 0.02296162,\n",
       "        0.04198044, 0.0177561 , 0.01483497, 0.01403212, 0.02564877,\n",
       "        0.02938811, 0.00847781, 0.01885301, 0.02016923, 0.01309538,\n",
       "        0.01400639, 0.0182394 , 0.02256713, 0.03083943, 0.02683711,\n",
       "        0.02872735, 0.0218876 , 0.02420511, 0.01673986, 0.02883882,\n",
       "        0.01419656, 0.01950818, 0.0298171 , 0.02291381, 0.02537997,\n",
       "        0.01463418, 0.02573806, 0.02929794, 0.01995505, 0.01995505,\n",
       "        0.03396283, 0.02035102, 0.02425434, 0.03147067, 0.02683711,\n",
       "        0.02950895, 0.01588869, 0.02863692, 0.02683711, 0.0169466 ,\n",
       "        0.03233545, 0.03204934, 0.02189238, 0.01701064, 0.02603289,\n",
       "        0.03654866, 0.01575077, 0.0229253 , 0.02524222, 0.01301852,\n",
       "        0.02599313, 0.01170599, 0.02523041, 0.01971157, 0.01972986,\n",
       "        0.01995505, 0.01872949, 0.01401922, 0.02709937, 0.01323989,\n",
       "        0.02001365, 0.02349676, 0.01951605, 0.02524222, 0.02704086,\n",
       "        0.01570157]),\n",
       " 'rank_test_score': array([213, 214, 216, 196, 209, 187, 141, 185,  71, 124,  94, 116, 198,\n",
       "        127,   9, 107, 179,  84, 162,   7, 174,  31,  11,  62,  23, 133,\n",
       "         58, 144, 102, 100, 191,  26,  79, 121, 105,  74, 200, 139, 143,\n",
       "        177, 204, 202, 210,  48, 112, 193, 138, 116, 137,  28,  69,   2,\n",
       "         53,  48, 194, 123,  48,  38,  23,   1, 122,  75, 161,  18,  19,\n",
       "         28, 158,  67, 112,  41,  34,   6, 205, 127, 127, 141,  99, 131,\n",
       "        211,  41,  62,  68,   3,   5,  47,  15,  37,  62,  48,  12, 188,\n",
       "        170,  84,  34,  19,  34, 154, 172, 107,  15,  79, 104,  77,  62,\n",
       "         41, 135, 159,  23, 215, 203, 200, 140, 116, 208, 181, 112, 162,\n",
       "          8,  53,  62,  58,  72,  56,  28,  84,  79, 196,  84, 105,  13,\n",
       "         60,  84, 149, 146, 169,  91,  79, 107, 146,  57,  41, 148, 134,\n",
       "         38, 207,  73, 175, 177, 120, 176, 157, 127,  94, 181,  38,  77,\n",
       "        206,  21,  69, 110,  41,  84,  53,  94,  91,  26,  10, 102, 189,\n",
       "        116,  21,  33, 125,  84, 155, 195, 160, 144, 165, 162, 212, 198,\n",
       "        186, 155,  94,  13, 171, 132,  91, 168,  48,  17, 110, 191,  32,\n",
       "         94,  76, 153, 150,  60, 151, 172, 112,  41, 181, 165, 181, 126,\n",
       "        100,  79, 190, 165,   4, 151, 180, 135])}"
      ]
     },
     "execution_count": 117,
     "metadata": {},
     "output_type": "execute_result"
    }
   ],
   "source": [
    "grid_search.cv_results_"
   ]
  },
  {
   "cell_type": "code",
   "execution_count": 120,
   "metadata": {},
   "outputs": [],
   "source": [
    "## Traing the RF with best parameters given by GridSearchCV\n",
    "rf = RandomForestClassifier(n_estimators=60, max_features= 5, class_weight='balanced',  max_depth=4,random_state = 222 )"
   ]
  },
  {
   "cell_type": "code",
   "execution_count": 122,
   "metadata": {},
   "outputs": [
    {
     "name": "stderr",
     "output_type": "stream",
     "text": [
      "C:\\Users\\HP\\Anaconda3\\lib\\site-packages\\ipykernel_launcher.py:1: DataConversionWarning: A column-vector y was passed when a 1d array was expected. Please change the shape of y to (n_samples,), for example using ravel().\n",
      "  \"\"\"Entry point for launching an IPython kernel.\n"
     ]
    },
    {
     "data": {
      "text/plain": [
       "RandomForestClassifier(bootstrap=True, ccp_alpha=0.0, class_weight='balanced',\n",
       "                       criterion='gini', max_depth=4, max_features=5,\n",
       "                       max_leaf_nodes=None, max_samples=None,\n",
       "                       min_impurity_decrease=0.0, min_impurity_split=None,\n",
       "                       min_samples_leaf=1, min_samples_split=2,\n",
       "                       min_weight_fraction_leaf=0.0, n_estimators=60,\n",
       "                       n_jobs=None, oob_score=False, random_state=222,\n",
       "                       verbose=0, warm_start=False)"
      ]
     },
     "execution_count": 122,
     "metadata": {},
     "output_type": "execute_result"
    }
   ],
   "source": [
    "rf.fit( x_train, y_train )"
   ]
  },
  {
   "cell_type": "code",
   "execution_count": 123,
   "metadata": {},
   "outputs": [],
   "source": [
    "y_pred2 = rf.predict( x_test)"
   ]
  },
  {
   "cell_type": "code",
   "execution_count": 124,
   "metadata": {},
   "outputs": [
    {
     "data": {
      "text/plain": [
       "array([[72, 15],\n",
       "       [18, 91]], dtype=int64)"
      ]
     },
     "execution_count": 124,
     "metadata": {},
     "output_type": "execute_result"
    }
   ],
   "source": [
    "confusion_matrix( y_test, y_pred)"
   ]
  },
  {
   "cell_type": "code",
   "execution_count": 125,
   "metadata": {},
   "outputs": [
    {
     "data": {
      "text/plain": [
       "0.8316326530612245"
      ]
     },
     "execution_count": 125,
     "metadata": {},
     "output_type": "execute_result"
    }
   ],
   "source": [
    "accuracy_score(y_test, y_pred)"
   ]
  },
  {
   "cell_type": "code",
   "execution_count": null,
   "metadata": {},
   "outputs": [],
   "source": []
  }
 ],
 "metadata": {
  "kernelspec": {
   "display_name": "Python 3",
   "language": "python",
   "name": "python3"
  },
  "language_info": {
   "codemirror_mode": {
    "name": "ipython",
    "version": 3
   },
   "file_extension": ".py",
   "mimetype": "text/x-python",
   "name": "python",
   "nbconvert_exporter": "python",
   "pygments_lexer": "ipython3",
   "version": "3.7.1"
  }
 },
 "nbformat": 4,
 "nbformat_minor": 2
}
