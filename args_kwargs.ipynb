{
 "cells": [
  {
   "cell_type": "code",
   "execution_count": 1,
   "id": "9349b918",
   "metadata": {},
   "outputs": [],
   "source": [
    "def test5(a, *sudh, b, c):\n",
    "    return a, sudh,b,c"
   ]
  },
  {
   "cell_type": "code",
   "execution_count": 3,
   "id": "fa6f62de",
   "metadata": {},
   "outputs": [
    {
     "data": {
      "text/plain": [
       "('sfs', ([2, 3, 5, 6], 5, 6, 89, 6, 8, 9, 8, 9), 86, 74)"
      ]
     },
     "execution_count": 3,
     "metadata": {},
     "output_type": "execute_result"
    }
   ],
   "source": [
    "test5(\"sfs\", [2,3,5,6], 5,6,89,6,8,9,8,9, b=86, c=74)"
   ]
  },
  {
   "cell_type": "code",
   "execution_count": null,
   "id": "fcfc73e6",
   "metadata": {},
   "outputs": [],
   "source": [
    "## arguments always returns tuple"
   ]
  },
  {
   "cell_type": "code",
   "execution_count": 4,
   "id": "3939245d",
   "metadata": {},
   "outputs": [],
   "source": [
    "def test6(*args):\n",
    "    for i in args:\n",
    "        if type(i) == list:\n",
    "            return i"
   ]
  },
  {
   "cell_type": "code",
   "execution_count": 8,
   "id": "8227bf66",
   "metadata": {},
   "outputs": [
    {
     "data": {
      "text/plain": [
       "[2, 5]"
      ]
     },
     "execution_count": 8,
     "metadata": {},
     "output_type": "execute_result"
    }
   ],
   "source": [
    "test6(3,56,8,9,6,[2,5],\"sairam\")"
   ]
  },
  {
   "cell_type": "code",
   "execution_count": 9,
   "id": "7dc4eed3",
   "metadata": {},
   "outputs": [
    {
     "data": {
      "text/plain": [
       "[5, 89, 6, 8]"
      ]
     },
     "execution_count": 9,
     "metadata": {},
     "output_type": "execute_result"
    }
   ],
   "source": [
    "test6(6466,8,96,86,9,6,[5,89,6,8],1,2,5,[7,9,2,5,2])"
   ]
  },
  {
   "cell_type": "code",
   "execution_count": 12,
   "id": "0eff59f4",
   "metadata": {},
   "outputs": [],
   "source": [
    "def test6(*args):  ##single static\n",
    "    l = []\n",
    "    for i in args:\n",
    "        if type(i) == list:\n",
    "            l.append(i)\n",
    "    return l"
   ]
  },
  {
   "cell_type": "code",
   "execution_count": 13,
   "id": "7db0b16e",
   "metadata": {},
   "outputs": [
    {
     "data": {
      "text/plain": [
       "[[5, 89, 6, 8], [7, 9, 2, 5, 2]]"
      ]
     },
     "execution_count": 13,
     "metadata": {},
     "output_type": "execute_result"
    }
   ],
   "source": [
    "test6(6466,8,96,86,9,6,[5,89,6,8],1,2,5,[7,9,2,5,2])"
   ]
  },
  {
   "cell_type": "code",
   "execution_count": 14,
   "id": "5cb9cff3",
   "metadata": {},
   "outputs": [],
   "source": [
    "d = {\"a\" : [2,3,6,6,8], \"b\":5}"
   ]
  },
  {
   "cell_type": "code",
   "execution_count": 15,
   "id": "4912c4bb",
   "metadata": {},
   "outputs": [
    {
     "data": {
      "text/plain": [
       "[2, 3, 6, 6, 8]"
      ]
     },
     "execution_count": 15,
     "metadata": {},
     "output_type": "execute_result"
    }
   ],
   "source": [
    "d[\"a\"]"
   ]
  },
  {
   "cell_type": "code",
   "execution_count": 16,
   "id": "5cdd3181",
   "metadata": {},
   "outputs": [],
   "source": [
    "def test7(**kwargs): ##double static\n",
    "    return kwargs"
   ]
  },
  {
   "cell_type": "code",
   "execution_count": 18,
   "id": "07db5f33",
   "metadata": {},
   "outputs": [
    {
     "ename": "TypeError",
     "evalue": "test7() takes 0 positional arguments but 7 were given",
     "output_type": "error",
     "traceback": [
      "\u001b[1;31m---------------------------------------------------------------------------\u001b[0m",
      "\u001b[1;31mTypeError\u001b[0m                                 Traceback (most recent call last)",
      "\u001b[1;32mC:\\Users\\SAIRAM~1\\AppData\\Local\\Temp/ipykernel_20472/3698762043.py\u001b[0m in \u001b[0;36m<module>\u001b[1;34m\u001b[0m\n\u001b[1;32m----> 1\u001b[1;33m \u001b[0mtest7\u001b[0m\u001b[1;33m(\u001b[0m\u001b[1;36m2\u001b[0m\u001b[1;33m,\u001b[0m\u001b[1;36m6\u001b[0m\u001b[1;33m,\u001b[0m\u001b[1;36m8\u001b[0m\u001b[1;33m,\u001b[0m\u001b[1;36m6\u001b[0m\u001b[1;33m,\u001b[0m\u001b[1;36m9\u001b[0m\u001b[1;33m,\u001b[0m\u001b[1;36m5\u001b[0m\u001b[1;33m,\u001b[0m\u001b[1;36m2\u001b[0m\u001b[1;33m)\u001b[0m\u001b[1;33m\u001b[0m\u001b[1;33m\u001b[0m\u001b[0m\n\u001b[0m",
      "\u001b[1;31mTypeError\u001b[0m: test7() takes 0 positional arguments but 7 were given"
     ]
    }
   ],
   "source": [
    "test7(2,6,8,6,9,5,2)"
   ]
  },
  {
   "cell_type": "code",
   "execution_count": 20,
   "id": "a38242b8",
   "metadata": {},
   "outputs": [
    {
     "data": {
      "text/plain": [
       "{'a': 25, 'b': [56, 8, 9, 69]}"
      ]
     },
     "execution_count": 20,
     "metadata": {},
     "output_type": "execute_result"
    }
   ],
   "source": [
    "test7(a=25, b = [56,8,9,69]) ##kwargs takes key values and returns dictionary"
   ]
  },
  {
   "cell_type": "code",
   "execution_count": 21,
   "id": "21a930e0",
   "metadata": {},
   "outputs": [],
   "source": [
    "def test8(**ram):\n",
    "    return ram"
   ]
  },
  {
   "cell_type": "code",
   "execution_count": 22,
   "id": "cb5cead4",
   "metadata": {},
   "outputs": [
    {
     "data": {
      "text/plain": [
       "{'a': 787, 'd': 46, 'f': [4, 5, 6, 8]}"
      ]
     },
     "execution_count": 22,
     "metadata": {},
     "output_type": "execute_result"
    }
   ],
   "source": [
    "test8(a = 787, d = 46, f=[4,5,6,8])"
   ]
  },
  {
   "cell_type": "code",
   "execution_count": 25,
   "id": "9fd0342b",
   "metadata": {},
   "outputs": [],
   "source": [
    "def test9(**ram) :\n",
    "    return ram"
   ]
  },
  {
   "cell_type": "code",
   "execution_count": 26,
   "id": "ddccf117",
   "metadata": {},
   "outputs": [
    {
     "data": {
      "text/plain": [
       "{'name': 'ram', 'ph_no': '4685', 'mail_id': 'rsfh@infl.com', 'adr': 'dlkhfakl'}"
      ]
     },
     "execution_count": 26,
     "metadata": {},
     "output_type": "execute_result"
    }
   ],
   "source": [
    "test9(name = \"ram\", ph_no = \"4685\", mail_id = \"rsfh@infl.com\", adr = 'dlkhfakl')"
   ]
  },
  {
   "cell_type": "code",
   "execution_count": 33,
   "id": "4e86d5fb",
   "metadata": {},
   "outputs": [],
   "source": [
    "def test10(a, **ram):\n",
    "    return a,ram"
   ]
  },
  {
   "cell_type": "code",
   "execution_count": 34,
   "id": "43f8d3a0",
   "metadata": {},
   "outputs": [
    {
     "ename": "TypeError",
     "evalue": "test10() got multiple values for argument 'a'",
     "output_type": "error",
     "traceback": [
      "\u001b[1;31m---------------------------------------------------------------------------\u001b[0m",
      "\u001b[1;31mTypeError\u001b[0m                                 Traceback (most recent call last)",
      "\u001b[1;32mC:\\Users\\SAIRAM~1\\AppData\\Local\\Temp/ipykernel_20472/2268177008.py\u001b[0m in \u001b[0;36m<module>\u001b[1;34m\u001b[0m\n\u001b[1;32m----> 1\u001b[1;33m \u001b[0mtest10\u001b[0m\u001b[1;33m(\u001b[0m\u001b[1;36m45\u001b[0m\u001b[1;33m,\u001b[0m \u001b[0ma\u001b[0m \u001b[1;33m=\u001b[0m \u001b[1;36m65\u001b[0m\u001b[1;33m,\u001b[0m \u001b[0mb\u001b[0m \u001b[1;33m=\u001b[0m \u001b[1;36m49\u001b[0m\u001b[1;33m,\u001b[0m \u001b[0mc\u001b[0m \u001b[1;33m=\u001b[0m\u001b[1;36m7\u001b[0m\u001b[1;33m,\u001b[0m \u001b[0md\u001b[0m \u001b[1;33m=\u001b[0m \u001b[1;36m55\u001b[0m\u001b[1;33m,\u001b[0m \u001b[0me\u001b[0m \u001b[1;33m=\u001b[0m \u001b[1;36m456\u001b[0m\u001b[1;33m)\u001b[0m\u001b[1;33m\u001b[0m\u001b[1;33m\u001b[0m\u001b[0m\n\u001b[0m",
      "\u001b[1;31mTypeError\u001b[0m: test10() got multiple values for argument 'a'"
     ]
    }
   ],
   "source": [
    "test10(45, a = 65, b = 49, c =7, d = 55, e = 456)"
   ]
  },
  {
   "cell_type": "code",
   "execution_count": 40,
   "id": "69d63096",
   "metadata": {},
   "outputs": [
    {
     "ename": "SyntaxError",
     "evalue": "invalid syntax (Temp/ipykernel_20472/22862201.py, line 1)",
     "output_type": "error",
     "traceback": [
      "\u001b[1;36m  File \u001b[1;32m\"C:\\Users\\SAIRAM~1\\AppData\\Local\\Temp/ipykernel_20472/22862201.py\"\u001b[1;36m, line \u001b[1;32m1\u001b[0m\n\u001b[1;33m    def test11(a, **ram, *args):\u001b[0m\n\u001b[1;37m                         ^\u001b[0m\n\u001b[1;31mSyntaxError\u001b[0m\u001b[1;31m:\u001b[0m invalid syntax\n"
     ]
    }
   ],
   "source": [
    "def test11(a, **ram, *args):\n",
    "    return a,ram,args"
   ]
  },
  {
   "cell_type": "code",
   "execution_count": 41,
   "id": "55ff8efa",
   "metadata": {},
   "outputs": [],
   "source": [
    "def test12(a, *args, **kwargs):\n",
    "    return a, args, kwargs"
   ]
  },
  {
   "cell_type": "code",
   "execution_count": 42,
   "id": "80ce7d38",
   "metadata": {},
   "outputs": [
    {
     "data": {
      "text/plain": [
       "(4, (6, 6, 6, 6, 6, 7, 8), {'g': 532, 'l': 79962})"
      ]
     },
     "execution_count": 42,
     "metadata": {},
     "output_type": "execute_result"
    }
   ],
   "source": [
    "test12(4,6,6,6,6,6,7,8, g = 532, l = 79962)"
   ]
  },
  {
   "cell_type": "markdown",
   "id": "c302e77f",
   "metadata": {},
   "source": [
    "## lambda functions --- functions without names"
   ]
  },
  {
   "cell_type": "code",
   "execution_count": 43,
   "id": "e8b039a0",
   "metadata": {},
   "outputs": [],
   "source": [
    "def test13(a,b):\n",
    "    return a*b"
   ]
  },
  {
   "cell_type": "code",
   "execution_count": 44,
   "id": "e27176a0",
   "metadata": {},
   "outputs": [
    {
     "data": {
      "text/plain": [
       "20"
      ]
     },
     "execution_count": 44,
     "metadata": {},
     "output_type": "execute_result"
    }
   ],
   "source": [
    "test13(2,10)"
   ]
  },
  {
   "cell_type": "code",
   "execution_count": 47,
   "id": "7ccaeb74",
   "metadata": {},
   "outputs": [],
   "source": [
    "a = lambda a,b : a*b"
   ]
  },
  {
   "cell_type": "code",
   "execution_count": 48,
   "id": "4490b3af",
   "metadata": {},
   "outputs": [
    {
     "data": {
      "text/plain": [
       "20"
      ]
     },
     "execution_count": 48,
     "metadata": {},
     "output_type": "execute_result"
    }
   ],
   "source": [
    "a(2,10)"
   ]
  },
  {
   "cell_type": "code",
   "execution_count": 49,
   "id": "df29c7f6",
   "metadata": {},
   "outputs": [],
   "source": [
    "a  = lambda *a :a"
   ]
  },
  {
   "cell_type": "code",
   "execution_count": 50,
   "id": "fe205b35",
   "metadata": {},
   "outputs": [
    {
     "data": {
      "text/plain": [
       "(56, 7, 8, 8)"
      ]
     },
     "execution_count": 50,
     "metadata": {},
     "output_type": "execute_result"
    }
   ],
   "source": [
    "a(56,7,8,8)"
   ]
  },
  {
   "cell_type": "code",
   "execution_count": 51,
   "id": "9d930f86",
   "metadata": {},
   "outputs": [],
   "source": [
    "x = lambda *i : i**2"
   ]
  },
  {
   "cell_type": "code",
   "execution_count": 52,
   "id": "bc80d4bb",
   "metadata": {},
   "outputs": [
    {
     "ename": "TypeError",
     "evalue": "unsupported operand type(s) for ** or pow(): 'tuple' and 'int'",
     "output_type": "error",
     "traceback": [
      "\u001b[1;31m---------------------------------------------------------------------------\u001b[0m",
      "\u001b[1;31mTypeError\u001b[0m                                 Traceback (most recent call last)",
      "\u001b[1;32mC:\\Users\\SAIRAM~1\\AppData\\Local\\Temp/ipykernel_20472/1042580106.py\u001b[0m in \u001b[0;36m<module>\u001b[1;34m\u001b[0m\n\u001b[1;32m----> 1\u001b[1;33m \u001b[0mx\u001b[0m\u001b[1;33m(\u001b[0m\u001b[1;36m2\u001b[0m\u001b[1;33m)\u001b[0m\u001b[1;33m\u001b[0m\u001b[1;33m\u001b[0m\u001b[0m\n\u001b[0m",
      "\u001b[1;32mC:\\Users\\SAIRAM~1\\AppData\\Local\\Temp/ipykernel_20472/3629755201.py\u001b[0m in \u001b[0;36m<lambda>\u001b[1;34m(*i)\u001b[0m\n\u001b[1;32m----> 1\u001b[1;33m \u001b[0mx\u001b[0m \u001b[1;33m=\u001b[0m \u001b[1;32mlambda\u001b[0m \u001b[1;33m*\u001b[0m\u001b[0mi\u001b[0m \u001b[1;33m:\u001b[0m \u001b[0mi\u001b[0m\u001b[1;33m**\u001b[0m\u001b[1;36m2\u001b[0m\u001b[1;33m\u001b[0m\u001b[1;33m\u001b[0m\u001b[0m\n\u001b[0m",
      "\u001b[1;31mTypeError\u001b[0m: unsupported operand type(s) for ** or pow(): 'tuple' and 'int'"
     ]
    }
   ],
   "source": [
    "x(2)"
   ]
  },
  {
   "cell_type": "code",
   "execution_count": 54,
   "id": "21d9387e",
   "metadata": {},
   "outputs": [
    {
     "ename": "SyntaxError",
     "evalue": "invalid syntax (Temp/ipykernel_20472/3617961333.py, line 1)",
     "output_type": "error",
     "traceback": [
      "\u001b[1;36m  File \u001b[1;32m\"C:\\Users\\SAIRAM~1\\AppData\\Local\\Temp/ipykernel_20472/3617961333.py\"\u001b[1;36m, line \u001b[1;32m1\u001b[0m\n\u001b[1;33m    x = lambda x: ( for i in x : print(i))\u001b[0m\n\u001b[1;37m                    ^\u001b[0m\n\u001b[1;31mSyntaxError\u001b[0m\u001b[1;31m:\u001b[0m invalid syntax\n"
     ]
    }
   ],
   "source": [
    "x = lambda x: ( for i in x : print(i))"
   ]
  },
  {
   "cell_type": "code",
   "execution_count": 56,
   "id": "7ce13f0a",
   "metadata": {},
   "outputs": [],
   "source": [
    "x = lambda x : [i for i in x]"
   ]
  },
  {
   "cell_type": "code",
   "execution_count": 57,
   "id": "daa77cf9",
   "metadata": {},
   "outputs": [
    {
     "data": {
      "text/plain": [
       "[4, 5, 6, 6, 6, 2]"
      ]
     },
     "execution_count": 57,
     "metadata": {},
     "output_type": "execute_result"
    }
   ],
   "source": [
    "x([4,5,6,6,6,2])"
   ]
  },
  {
   "cell_type": "code",
   "execution_count": 58,
   "id": "bdfa740f",
   "metadata": {},
   "outputs": [],
   "source": [
    "x = lambda x :[i for i in x]"
   ]
  },
  {
   "cell_type": "code",
   "execution_count": 59,
   "id": "6b1e4388",
   "metadata": {},
   "outputs": [
    {
     "data": {
      "text/plain": [
       "[4, 5, 6, 5, 6, 5, 86, 2, 8, 6, 1]"
      ]
     },
     "execution_count": 59,
     "metadata": {},
     "output_type": "execute_result"
    }
   ],
   "source": [
    "x([4,5,6,5,6,5,86,2,8,6,1])"
   ]
  },
  {
   "cell_type": "code",
   "execution_count": 60,
   "id": "a4fa7d54",
   "metadata": {},
   "outputs": [],
   "source": [
    "a =  lambda **kwargs : kwargs"
   ]
  },
  {
   "cell_type": "code",
   "execution_count": 61,
   "id": "5a8af6aa",
   "metadata": {},
   "outputs": [
    {
     "data": {
      "text/plain": [
       "{'a': 45, 'b': 56}"
      ]
     },
     "execution_count": 61,
     "metadata": {},
     "output_type": "execute_result"
    }
   ],
   "source": [
    "a(a = 45, b = 56)"
   ]
  },
  {
   "cell_type": "code",
   "execution_count": 62,
   "id": "df86e859",
   "metadata": {},
   "outputs": [],
   "source": [
    "a = 10\n",
    "def test16(c,d):\n",
    "    return c*d"
   ]
  },
  {
   "cell_type": "code",
   "execution_count": 63,
   "id": "e8f0a4e8",
   "metadata": {},
   "outputs": [
    {
     "data": {
      "text/plain": [
       "500"
      ]
     },
     "execution_count": 63,
     "metadata": {},
     "output_type": "execute_result"
    }
   ],
   "source": [
    "test16(a,50)"
   ]
  },
  {
   "cell_type": "code",
   "execution_count": 66,
   "id": "867dd332",
   "metadata": {},
   "outputs": [],
   "source": [
    "a = 10\n",
    "def test16(c,d):\n",
    "    c = 5\n",
    "    return c*d"
   ]
  },
  {
   "cell_type": "markdown",
   "id": "fd8d1e64",
   "metadata": {},
   "source": [
    "# 12:00 --- 12:10 local and global variables"
   ]
  },
  {
   "cell_type": "code",
   "execution_count": 67,
   "id": "2ae19e51",
   "metadata": {},
   "outputs": [],
   "source": [
    "l = [1,2,6,6,6,6,6,7515,65]"
   ]
  },
  {
   "cell_type": "code",
   "execution_count": 75,
   "id": "d4cce2c0",
   "metadata": {},
   "outputs": [
    {
     "data": {
      "text/plain": [
       "[(1, 2), (4, 4)]"
      ]
     },
     "execution_count": 75,
     "metadata": {},
     "output_type": "execute_result"
    }
   ],
   "source": [
    "[(i**2,i+i) for i in l if i < 4]"
   ]
  },
  {
   "cell_type": "code",
   "execution_count": 76,
   "id": "3170c53c",
   "metadata": {},
   "outputs": [],
   "source": [
    "l1 = []\n",
    "for i in l :\n",
    "    if i < 4 :\n",
    "        l1.append ((i**2, i+i))"
   ]
  },
  {
   "cell_type": "code",
   "execution_count": 77,
   "id": "44a525f7",
   "metadata": {},
   "outputs": [
    {
     "data": {
      "text/plain": [
       "[(1, 2), (4, 4)]"
      ]
     },
     "execution_count": 77,
     "metadata": {},
     "output_type": "execute_result"
    }
   ],
   "source": [
    "l1"
   ]
  },
  {
   "cell_type": "code",
   "execution_count": null,
   "id": "557ae136",
   "metadata": {},
   "outputs": [],
   "source": [
    "# dict with key will be a number its value be square of it usiing dict comprehension"
   ]
  },
  {
   "cell_type": "code",
   "execution_count": 78,
   "id": "0953779f",
   "metadata": {},
   "outputs": [
    {
     "data": {
      "text/plain": [
       "{0: 0, 1: 1, 2: 4, 3: 9, 4: 16, 5: 25, 6: 36, 7: 49, 8: 64, 9: 81}"
      ]
     },
     "execution_count": 78,
     "metadata": {},
     "output_type": "execute_result"
    }
   ],
   "source": [
    "{i:i**2 for i in range(10)}"
   ]
  },
  {
   "cell_type": "code",
   "execution_count": 82,
   "id": "61de870d",
   "metadata": {},
   "outputs": [],
   "source": [
    "## without comprehension\n",
    "\n",
    "d1 = {}\n",
    "for i in range(10):\n",
    "    d1[i]=i**2\n",
    "    "
   ]
  },
  {
   "cell_type": "code",
   "execution_count": 83,
   "id": "f78ab180",
   "metadata": {},
   "outputs": [
    {
     "data": {
      "text/plain": [
       "{0: 0, 1: 1, 2: 4, 3: 9, 4: 16, 5: 25, 6: 36, 7: 49, 8: 64, 9: 81}"
      ]
     },
     "execution_count": 83,
     "metadata": {},
     "output_type": "execute_result"
    }
   ],
   "source": [
    "d1"
   ]
  },
  {
   "cell_type": "code",
   "execution_count": 85,
   "id": "9ab2e25e",
   "metadata": {},
   "outputs": [
    {
     "data": {
      "text/plain": [
       "(0, 1, 2, 3, 4, 5, 6, 7, 8, 9)"
      ]
     },
     "execution_count": 85,
     "metadata": {},
     "output_type": "execute_result"
    }
   ],
   "source": [
    "tuple(i for i in range(10)) ## when we want see the values of generators"
   ]
  },
  {
   "cell_type": "markdown",
   "id": "57756c5f",
   "metadata": {},
   "source": [
    "# iterators and generators"
   ]
  },
  {
   "cell_type": "code",
   "execution_count": 86,
   "id": "a31998e3",
   "metadata": {},
   "outputs": [
    {
     "ename": "TypeError",
     "evalue": "'int' object is not iterable",
     "output_type": "error",
     "traceback": [
      "\u001b[1;31m---------------------------------------------------------------------------\u001b[0m",
      "\u001b[1;31mTypeError\u001b[0m                                 Traceback (most recent call last)",
      "\u001b[1;32mC:\\Users\\SAIRAM~1\\AppData\\Local\\Temp/ipykernel_20472/4248146362.py\u001b[0m in \u001b[0;36m<module>\u001b[1;34m\u001b[0m\n\u001b[0;32m      1\u001b[0m \u001b[0ma\u001b[0m \u001b[1;33m=\u001b[0m \u001b[1;36m56\u001b[0m\u001b[1;33m\u001b[0m\u001b[1;33m\u001b[0m\u001b[0m\n\u001b[1;32m----> 2\u001b[1;33m \u001b[1;32mfor\u001b[0m \u001b[0mi\u001b[0m \u001b[1;32min\u001b[0m \u001b[0ma\u001b[0m \u001b[1;33m:\u001b[0m\u001b[1;33m\u001b[0m\u001b[1;33m\u001b[0m\u001b[0m\n\u001b[0m\u001b[0;32m      3\u001b[0m     \u001b[0mprint\u001b[0m\u001b[1;33m(\u001b[0m\u001b[0mi\u001b[0m\u001b[1;33m)\u001b[0m\u001b[1;33m\u001b[0m\u001b[1;33m\u001b[0m\u001b[0m\n",
      "\u001b[1;31mTypeError\u001b[0m: 'int' object is not iterable"
     ]
    }
   ],
   "source": [
    "a = 56\n",
    "for i in a :\n",
    "    print(i)"
   ]
  },
  {
   "cell_type": "code",
   "execution_count": 91,
   "id": "44fd9d9c",
   "metadata": {
    "collapsed": true
   },
   "outputs": [
    {
     "name": "stdout",
     "output_type": "stream",
     "text": [
      "r\n",
      "a\n",
      "m\n"
     ]
    }
   ],
   "source": [
    "s = \"ram\"\n",
    "for i in s:\n",
    "    print(i,)"
   ]
  },
  {
   "cell_type": "code",
   "execution_count": 93,
   "id": "f7e21690",
   "metadata": {},
   "outputs": [],
   "source": [
    "# iterable --- by using indexes we can able to access the objects sequentially but its not sure it is iterator"
   ]
  },
  {
   "cell_type": "code",
   "execution_count": 92,
   "id": "523c490e",
   "metadata": {},
   "outputs": [
    {
     "ename": "TypeError",
     "evalue": "'str' object is not an iterator",
     "output_type": "error",
     "traceback": [
      "\u001b[1;31m---------------------------------------------------------------------------\u001b[0m",
      "\u001b[1;31mTypeError\u001b[0m                                 Traceback (most recent call last)",
      "\u001b[1;32mC:\\Users\\SAIRAM~1\\AppData\\Local\\Temp/ipykernel_20472/1977886155.py\u001b[0m in \u001b[0;36m<module>\u001b[1;34m\u001b[0m\n\u001b[1;32m----> 1\u001b[1;33m \u001b[0mnext\u001b[0m\u001b[1;33m(\u001b[0m\u001b[0ms\u001b[0m\u001b[1;33m)\u001b[0m\u001b[1;33m\u001b[0m\u001b[1;33m\u001b[0m\u001b[0m\n\u001b[0m",
      "\u001b[1;31mTypeError\u001b[0m: 'str' object is not an iterator"
     ]
    }
   ],
   "source": [
    "next(s)"
   ]
  },
  {
   "cell_type": "code",
   "execution_count": null,
   "id": "21a2768a",
   "metadata": {},
   "outputs": [],
   "source": [
    "## iterator--- "
   ]
  },
  {
   "cell_type": "code",
   "execution_count": 96,
   "id": "bfaff70d",
   "metadata": {},
   "outputs": [
    {
     "data": {
      "text/plain": [
       "'ram'"
      ]
     },
     "execution_count": 96,
     "metadata": {},
     "output_type": "execute_result"
    }
   ],
   "source": [
    "s"
   ]
  },
  {
   "cell_type": "code",
   "execution_count": 97,
   "id": "94e8c553",
   "metadata": {},
   "outputs": [],
   "source": [
    "b = iter(s)"
   ]
  },
  {
   "cell_type": "code",
   "execution_count": 98,
   "id": "347928fd",
   "metadata": {},
   "outputs": [
    {
     "data": {
      "text/plain": [
       "<str_iterator at 0x23837c8b100>"
      ]
     },
     "execution_count": 98,
     "metadata": {},
     "output_type": "execute_result"
    }
   ],
   "source": [
    "b"
   ]
  },
  {
   "cell_type": "code",
   "execution_count": 99,
   "id": "f3cdd717",
   "metadata": {},
   "outputs": [
    {
     "data": {
      "text/plain": [
       "'r'"
      ]
     },
     "execution_count": 99,
     "metadata": {},
     "output_type": "execute_result"
    }
   ],
   "source": [
    "next(b)"
   ]
  },
  {
   "cell_type": "code",
   "execution_count": 100,
   "id": "9e42ec54",
   "metadata": {},
   "outputs": [
    {
     "data": {
      "text/plain": [
       "'a'"
      ]
     },
     "execution_count": 100,
     "metadata": {},
     "output_type": "execute_result"
    }
   ],
   "source": [
    "next(b)"
   ]
  },
  {
   "cell_type": "code",
   "execution_count": 101,
   "id": "3ea6ee9c",
   "metadata": {},
   "outputs": [
    {
     "data": {
      "text/plain": [
       "'m'"
      ]
     },
     "execution_count": 101,
     "metadata": {},
     "output_type": "execute_result"
    }
   ],
   "source": [
    "next(b)"
   ]
  },
  {
   "cell_type": "code",
   "execution_count": 103,
   "id": "cec49f9b",
   "metadata": {},
   "outputs": [
    {
     "name": "stdout",
     "output_type": "stream",
     "text": [
      "a\n",
      "s\n",
      "d\n",
      "f\n",
      "l\n",
      "k\n",
      "j\n",
      "h\n",
      "q\n",
      "w\n",
      "e\n",
      "r\n",
      "t\n",
      "p\n",
      "o\n",
      "i\n",
      "u\n",
      "y\n",
      "z\n",
      "x\n",
      "c\n",
      "v\n",
      "m\n",
      "n\n",
      "b\n"
     ]
    }
   ],
   "source": [
    "s = \"asdflkjhqwertpoiuyzxcvmnb\"\n",
    "for i in s:\n",
    "    print(i)"
   ]
  },
  {
   "cell_type": "code",
   "execution_count": 104,
   "id": "ee235b92",
   "metadata": {},
   "outputs": [],
   "source": [
    "s = iter(s)"
   ]
  },
  {
   "cell_type": "code",
   "execution_count": 105,
   "id": "0a78c5f6",
   "metadata": {},
   "outputs": [
    {
     "data": {
      "text/plain": [
       "'a'"
      ]
     },
     "execution_count": 105,
     "metadata": {},
     "output_type": "execute_result"
    }
   ],
   "source": [
    "next(s)"
   ]
  },
  {
   "cell_type": "code",
   "execution_count": 106,
   "id": "dd57f390",
   "metadata": {},
   "outputs": [],
   "source": [
    "l = [3,54,6,6,5,6,4]"
   ]
  },
  {
   "cell_type": "code",
   "execution_count": 107,
   "id": "32451258",
   "metadata": {},
   "outputs": [
    {
     "ename": "TypeError",
     "evalue": "'list' object is not an iterator",
     "output_type": "error",
     "traceback": [
      "\u001b[1;31m---------------------------------------------------------------------------\u001b[0m",
      "\u001b[1;31mTypeError\u001b[0m                                 Traceback (most recent call last)",
      "\u001b[1;32mC:\\Users\\SAIRAM~1\\AppData\\Local\\Temp/ipykernel_20472/2016234150.py\u001b[0m in \u001b[0;36m<module>\u001b[1;34m\u001b[0m\n\u001b[1;32m----> 1\u001b[1;33m \u001b[0mnext\u001b[0m\u001b[1;33m(\u001b[0m\u001b[0ml\u001b[0m\u001b[1;33m)\u001b[0m\u001b[1;33m\u001b[0m\u001b[1;33m\u001b[0m\u001b[0m\n\u001b[0m",
      "\u001b[1;31mTypeError\u001b[0m: 'list' object is not an iterator"
     ]
    }
   ],
   "source": [
    "next(l)"
   ]
  },
  {
   "cell_type": "code",
   "execution_count": 108,
   "id": "7e15dcc3",
   "metadata": {},
   "outputs": [],
   "source": [
    "c = iter(l)"
   ]
  },
  {
   "cell_type": "code",
   "execution_count": 109,
   "id": "dc7ca8ea",
   "metadata": {},
   "outputs": [
    {
     "data": {
      "text/plain": [
       "3"
      ]
     },
     "execution_count": 109,
     "metadata": {},
     "output_type": "execute_result"
    }
   ],
   "source": [
    "next(c)"
   ]
  },
  {
   "cell_type": "code",
   "execution_count": 110,
   "id": "562b080a",
   "metadata": {},
   "outputs": [
    {
     "data": {
      "text/plain": [
       "54"
      ]
     },
     "execution_count": 110,
     "metadata": {},
     "output_type": "execute_result"
    }
   ],
   "source": [
    "next(c)"
   ]
  },
  {
   "cell_type": "code",
   "execution_count": null,
   "id": "52059a0c",
   "metadata": {},
   "outputs": [],
   "source": [
    "# all iterables are iterators"
   ]
  }
 ],
 "metadata": {
  "kernelspec": {
   "display_name": "Python 3 (ipykernel)",
   "language": "python",
   "name": "python3"
  },
  "language_info": {
   "codemirror_mode": {
    "name": "ipython",
    "version": 3
   },
   "file_extension": ".py",
   "mimetype": "text/x-python",
   "name": "python",
   "nbconvert_exporter": "python",
   "pygments_lexer": "ipython3",
   "version": "3.9.7"
  }
 },
 "nbformat": 4,
 "nbformat_minor": 5
}
