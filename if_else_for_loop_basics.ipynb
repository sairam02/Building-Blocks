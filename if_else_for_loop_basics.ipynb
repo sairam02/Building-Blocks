{
 "cells": [
  {
   "cell_type": "code",
   "execution_count": 1,
   "id": "cc554335",
   "metadata": {},
   "outputs": [],
   "source": [
    "a = 10"
   ]
  },
  {
   "cell_type": "code",
   "execution_count": 3,
   "id": "62a980ec",
   "metadata": {},
   "outputs": [],
   "source": [
    "if a < 15:\n",
    "    pass"
   ]
  },
  {
   "cell_type": "code",
   "execution_count": 4,
   "id": "49bdad67",
   "metadata": {},
   "outputs": [
    {
     "name": "stdout",
     "output_type": "stream",
     "text": [
      "my name is ram\n"
     ]
    }
   ],
   "source": [
    "if a < 15:\n",
    "    print(\"my name is ram\")"
   ]
  },
  {
   "cell_type": "code",
   "execution_count": 6,
   "id": "0e4fd36d",
   "metadata": {},
   "outputs": [],
   "source": [
    "#if the statement is false then there wont be any o/p in this case\n",
    "if 24 < 15:\n",
    "    print(\"my name is ram\")"
   ]
  },
  {
   "cell_type": "code",
   "execution_count": 7,
   "id": "a39d19e5",
   "metadata": {},
   "outputs": [
    {
     "data": {
      "text/plain": [
       "False"
      ]
     },
     "execution_count": 7,
     "metadata": {},
     "output_type": "execute_result"
    }
   ],
   "source": [
    "24<15"
   ]
  },
  {
   "cell_type": "code",
   "execution_count": 9,
   "id": "60040a17",
   "metadata": {},
   "outputs": [
    {
     "name": "stdout",
     "output_type": "stream",
     "text": [
      "if statement is wrong\n"
     ]
    }
   ],
   "source": [
    "if 13 < 10:\n",
    "    print(\"13 is lesser than 10\")\n",
    "else :\n",
    "    print(\"if statement is wrong\")"
   ]
  },
  {
   "cell_type": "code",
   "execution_count": 11,
   "id": "c9c246e3",
   "metadata": {},
   "outputs": [
    {
     "name": "stdout",
     "output_type": "stream",
     "text": [
      "20\n",
      "i will be able to buy phone\n"
     ]
    }
   ],
   "source": [
    "income = int(input())\n",
    "if income < 50:\n",
    "    print(\"i will be able to buy phone\")\n",
    "elif income < 70:\n",
    "    print(\"i will be able to buy car\")\n",
    "elif income < 90:\n",
    "    print(\"i will be able to buy a house\")\n",
    "else:\n",
    "    print(\"i won't be able to buy anything\")\n"
   ]
  },
  {
   "cell_type": "code",
   "execution_count": 14,
   "id": "d493ae6e",
   "metadata": {},
   "outputs": [
    {
     "name": "stdout",
     "output_type": "stream",
     "text": [
      "78612\n",
      "discount will be 15722.400000000001\n"
     ]
    }
   ],
   "source": [
    "total_price = int(input())\n",
    "if total_price > 20000:\n",
    "    discount = total_price* .20\n",
    "    print(\"discount will be\", discount)\n",
    "elif total_price <= 7000:\n",
    "    discount = total_price* .05\n",
    "    print(\"discount will be\",discount)\n",
    "else:\n",
    "    print(\"wont be able to give any discount\")"
   ]
  },
  {
   "cell_type": "code",
   "execution_count": 19,
   "id": "226c302c",
   "metadata": {},
   "outputs": [
    {
     "name": "stdout",
     "output_type": "stream",
     "text": [
      "ram2\n",
      "discount will be of 5 %\n",
      "you will be able to get one neuron with this amount 6726.0\n"
     ]
    }
   ],
   "source": [
    "coup = input()\n",
    "if coup == \"ram2\":\n",
    "    print(\"discount will be of 5 %\")\n",
    "    paid_amount = 7080 - 7080* .05\n",
    "    print(\"you will be able to get one neuron with this amount\", paid_amount )\n",
    "else:\n",
    "    print(\"kindly use a valid coupoun code\")\n",
    "    "
   ]
  },
  {
   "cell_type": "code",
   "execution_count": 22,
   "id": "e3ae2e7a",
   "metadata": {},
   "outputs": [
    {
     "name": "stdout",
     "output_type": "stream",
     "text": [
      "12\n",
      "it will take 3 month of time for transistion\n"
     ]
    }
   ],
   "source": [
    "study_hour = int(input())\n",
    "if study_hour < 1 :\n",
    "    print(\"it may take 8-9 month of time to make a transistion\")\n",
    "elif study_hour < 4 and study_hour > 1 :\n",
    "    print(\"it may take 6 month for transistion\")\n",
    "elif study_hour > 10:\n",
    "    print(\"it will take 3 month of time for transistion\")\n",
    "else:\n",
    "    print(\"it will be difficult\")"
   ]
  },
  {
   "cell_type": "markdown",
   "id": "e1762487",
   "metadata": {},
   "source": [
    "nested if else statements"
   ]
  },
  {
   "cell_type": "code",
   "execution_count": 28,
   "id": "fcdb961a",
   "metadata": {},
   "outputs": [
    {
     "name": "stdout",
     "output_type": "stream",
     "text": [
      "enter a string to start : oneneuron\n",
      "enter a course name : DSA\n",
      "enter a service name : doubt\n",
      "yes its available under one neuron in multiple mode for job preparation and core concepts\n"
     ]
    }
   ],
   "source": [
    "s  = input(\"enter a string to start : \")\n",
    "course =  input(\"enter a course name : \")\n",
    "service = input(\"enter a service name : \")\n",
    "if s == \"oneneuron\":\n",
    "    if course == \"DSA\":\n",
    "        print(\"yes its available under one neuron in multiple mode for job preparation and core concepts\")\n",
    "    elif course == \"Blockchain\":\n",
    "        print(\"this is not available as of now, kindly raise a demand\")\n",
    "    elif course == \"FSDS\":\n",
    "        print(\"yes, its available, you can start learning\")\n",
    "    else :\n",
    "        print(\"this is not available kindly raise a demand\")\n",
    "elif s == \"onenueronservice\":\n",
    "    if service == \"courserequest\":\n",
    "        print(\"*Note: Dear learner, you can raise a demand related to any new course\")\n",
    "    elif service == \"module\":\n",
    "        print(\"*Note: Dear learner, you can raise a demand related to any new module\")\n",
    "    elif service == \"doubt\":\n",
    "        print(\"*Note: Dear learner, you can raise a demand related to any new doubt\")\n",
    "    else:\n",
    "        print(\"kindly provide us your feedback and we will fulfill\")\n",
    "else :\n",
    "    print(\"kindly connect with our team\")\n",
    "        "
   ]
  },
  {
   "cell_type": "markdown",
   "id": "a1ab8601",
   "metadata": {},
   "source": [
    "while loop, for loop"
   ]
  },
  {
   "cell_type": "code",
   "execution_count": 34,
   "id": "f8781519",
   "metadata": {},
   "outputs": [
    {
     "name": "stdout",
     "output_type": "stream",
     "text": [
      "1\n",
      "2\n",
      "3\n",
      "4\n",
      "6\n",
      "5\n",
      "6\n",
      "8\n"
     ]
    }
   ],
   "source": [
    "## for loop\n",
    "\n",
    "l = [1,2,3,4,6,5,6,8]\n",
    "\n",
    "for i in l:\n",
    "    print(i)"
   ]
  },
  {
   "cell_type": "code",
   "execution_count": 40,
   "id": "e79c439d",
   "metadata": {},
   "outputs": [
    {
     "name": "stdout",
     "output_type": "stream",
     "text": [
      "R\n",
      "a\n",
      "m\n"
     ]
    }
   ],
   "source": [
    "s = \"Ram\"\n",
    "for i in s:\n",
    "    print(i)"
   ]
  },
  {
   "cell_type": "code",
   "execution_count": 41,
   "id": "697c4573",
   "metadata": {},
   "outputs": [],
   "source": [
    "t = (1,2,3,4,5,6,6)"
   ]
  },
  {
   "cell_type": "code",
   "execution_count": 42,
   "id": "2575765c",
   "metadata": {},
   "outputs": [
    {
     "name": "stdout",
     "output_type": "stream",
     "text": [
      "1\n",
      "2\n",
      "3\n",
      "4\n",
      "5\n",
      "6\n",
      "6\n"
     ]
    }
   ],
   "source": [
    "for i in t:\n",
    "    print(i)"
   ]
  },
  {
   "cell_type": "code",
   "execution_count": 44,
   "id": "ab0e2d8a",
   "metadata": {},
   "outputs": [],
   "source": [
    "l =[1,4,6,5.6, 4+7j, \"ram\"]"
   ]
  },
  {
   "cell_type": "code",
   "execution_count": 47,
   "id": "d2264fd7",
   "metadata": {},
   "outputs": [
    {
     "name": "stdout",
     "output_type": "stream",
     "text": [
      "<class 'int'> type of 1\n",
      "<class 'int'> type of 4\n",
      "<class 'int'> type of 6\n",
      "<class 'float'> type of 5.6\n",
      "<class 'complex'> type of (4+7j)\n",
      "<class 'str'> type of ram\n"
     ]
    }
   ],
   "source": [
    "for i in l:\n",
    "    a =  type(i)\n",
    "    print(a,\"type of\",i)"
   ]
  },
  {
   "cell_type": "code",
   "execution_count": 49,
   "id": "3afb9a8b",
   "metadata": {},
   "outputs": [
    {
     "name": "stdout",
     "output_type": "stream",
     "text": [
      "3\n",
      "6\n",
      "7\n",
      "3\n",
      "9.6\n"
     ]
    }
   ],
   "source": [
    "l = [1,4,5,1,7.6]\n",
    "l1 =[]\n",
    "for i in l:\n",
    "    print(i+2)\n",
    "    l1.append(i+2)"
   ]
  },
  {
   "cell_type": "code",
   "execution_count": 50,
   "id": "1abeb898",
   "metadata": {},
   "outputs": [
    {
     "data": {
      "text/plain": [
       "[3, 6, 7, 3, 9.6]"
      ]
     },
     "execution_count": 50,
     "metadata": {},
     "output_type": "execute_result"
    }
   ],
   "source": [
    "l1"
   ]
  },
  {
   "cell_type": "code",
   "execution_count": 59,
   "id": "e9e364c7",
   "metadata": {},
   "outputs": [],
   "source": [
    "l = [2,45,3,78,2,\"ram\", 3+4j, [1,2,3,4]]"
   ]
  },
  {
   "cell_type": "code",
   "execution_count": 60,
   "id": "1e99f23c",
   "metadata": {},
   "outputs": [
    {
     "name": "stdout",
     "output_type": "stream",
     "text": [
      "2\n",
      "45\n",
      "3\n",
      "78\n",
      "2\n",
      "1\n",
      "2\n",
      "3\n",
      "4\n"
     ]
    }
   ],
   "source": [
    "for i in l:\n",
    "    if type(i) == int:\n",
    "        print(i)\n",
    "    elif type(i) == list:\n",
    "        for j in i :\n",
    "            if type(j) == int:\n",
    "                print(j)"
   ]
  },
  {
   "cell_type": "code",
   "execution_count": 72,
   "id": "b90129f0",
   "metadata": {},
   "outputs": [
    {
     "data": {
      "text/plain": [
       "range(0, 4)"
      ]
     },
     "execution_count": 72,
     "metadata": {},
     "output_type": "execute_result"
    }
   ],
   "source": [
    "range(0,4)"
   ]
  },
  {
   "cell_type": "code",
   "execution_count": 74,
   "id": "89085838",
   "metadata": {},
   "outputs": [
    {
     "name": "stdout",
     "output_type": "stream",
     "text": [
      "index 0 for an element 2\n",
      "index 1 for an element 45\n",
      "index 2 for an element 78\n",
      "index 3 for an element 12\n",
      "index 4 for an element 12\n",
      "index 5 for an element 12\n",
      "index 6 for an element ram\n",
      "index 7 for an element (6+7j)\n",
      "index 8 for an element [56, 67, 78, 'dsfdsf']\n"
     ]
    }
   ],
   "source": [
    "l = [2,45,78,12,12,12,\"ram\", 6+7j, [56,67,78,\"dsfdsf\"]]\n",
    "\n",
    "#q1. try to print the index of all the element\n",
    "\n",
    "for i in range(len(l)):\n",
    "    print(\"index\",i, \"for an element\", l[i])\n"
   ]
  },
  {
   "cell_type": "code",
   "execution_count": 73,
   "id": "cdf704c5",
   "metadata": {},
   "outputs": [
    {
     "data": {
      "text/plain": [
       "9"
      ]
     },
     "execution_count": 73,
     "metadata": {},
     "output_type": "execute_result"
    }
   ],
   "source": [
    "len(l)"
   ]
  },
  {
   "cell_type": "code",
   "execution_count": 75,
   "id": "3e689365",
   "metadata": {},
   "outputs": [
    {
     "name": "stdout",
     "output_type": "stream",
     "text": [
      "0 2\n",
      "1 45\n",
      "2 78\n",
      "3 12\n",
      "4 12\n",
      "5 12\n",
      "6 ram\n",
      "7 (6+7j)\n",
      "8 [56, 67, 78, 'dsfdsf']\n"
     ]
    }
   ],
   "source": [
    "#enumerate --- in built function of displaying indexes in tuple\n",
    "\n",
    "for i, j in enumerate(l):\n",
    "    print(i,j)\n"
   ]
  },
  {
   "cell_type": "code",
   "execution_count": 105,
   "id": "b985078b",
   "metadata": {},
   "outputs": [
    {
     "name": "stdout",
     "output_type": "stream",
     "text": [
      "characters are  ram\n",
      "characters are  dsfdsf\n"
     ]
    }
   ],
   "source": [
    "#q2. try to extract all the list of char if element is string\n",
    "\n",
    "\n",
    "l = [2,45,78,12,\"ram\", 6+7j, [56,67,78,\"dsfdsf\"]]\n",
    "\n",
    "\n",
    "for i in l:\n",
    "    if type(i) == str:\n",
    "        print(\"characters are \",i)\n",
    "    elif type(i) == list:\n",
    "        for j in i:\n",
    "            if type(j) == str:\n",
    "                print(\"characters are \",j)"
   ]
  },
  {
   "cell_type": "code",
   "execution_count": 114,
   "id": "31c79459",
   "metadata": {},
   "outputs": [],
   "source": [
    "l = [2,45,78,12,\"ram\", 6+7j, [56,67,78,\"dsfdsf\"]]\n",
    "l3 = []\n",
    "for i in l:\n",
    "    if type(i) == str:\n",
    "        l3.append(i)\n",
    "    elif type(i) == list:\n",
    "        for j in i :\n",
    "            if type(j) == str:\n",
    "                l3.append(j)"
   ]
  },
  {
   "cell_type": "code",
   "execution_count": null,
   "id": "519e9a7b",
   "metadata": {},
   "outputs": [],
   "source": []
  },
  {
   "cell_type": "code",
   "execution_count": 109,
   "id": "921158fe",
   "metadata": {},
   "outputs": [
    {
     "data": {
      "text/plain": [
       "[]"
      ]
     },
     "execution_count": 109,
     "metadata": {},
     "output_type": "execute_result"
    }
   ],
   "source": [
    "l_1"
   ]
  },
  {
   "cell_type": "code",
   "execution_count": 98,
   "id": "11b881e6",
   "metadata": {},
   "outputs": [],
   "source": [
    "#q3. try to return a list after doing a square of all the int element.\n",
    "\n",
    "l = [2,45,78,12,\"ram\", 6+7j, [56,67,78,\"dsfdsf\"]]\n",
    "\n",
    "l2 = []\n",
    "for i in l:\n",
    "    if type(i) == int:\n",
    "        l2.append(i**2)\n",
    "        \n",
    "        "
   ]
  },
  {
   "cell_type": "code",
   "execution_count": 99,
   "id": "28964354",
   "metadata": {},
   "outputs": [
    {
     "data": {
      "text/plain": [
       "[4, 2025, 6084, 144]"
      ]
     },
     "execution_count": 99,
     "metadata": {},
     "output_type": "execute_result"
    }
   ],
   "source": [
    "l2"
   ]
  },
  {
   "cell_type": "code",
   "execution_count": null,
   "id": "07b92e4a",
   "metadata": {},
   "outputs": [],
   "source": []
  },
  {
   "cell_type": "code",
   "execution_count": null,
   "id": "8c3e79b9",
   "metadata": {},
   "outputs": [],
   "source": []
  },
  {
   "cell_type": "code",
   "execution_count": 56,
   "id": "c8b92582",
   "metadata": {},
   "outputs": [],
   "source": [
    "## for else"
   ]
  },
  {
   "cell_type": "code",
   "execution_count": null,
   "id": "361ee101",
   "metadata": {},
   "outputs": [],
   "source": []
  },
  {
   "cell_type": "code",
   "execution_count": null,
   "id": "fe8ef7f7",
   "metadata": {},
   "outputs": [],
   "source": []
  },
  {
   "cell_type": "code",
   "execution_count": null,
   "id": "62927125",
   "metadata": {},
   "outputs": [],
   "source": []
  },
  {
   "cell_type": "code",
   "execution_count": null,
   "id": "4bca9295",
   "metadata": {},
   "outputs": [],
   "source": []
  },
  {
   "cell_type": "code",
   "execution_count": null,
   "id": "d5f52bc8",
   "metadata": {},
   "outputs": [],
   "source": []
  },
  {
   "cell_type": "code",
   "execution_count": null,
   "id": "df85eb7a",
   "metadata": {},
   "outputs": [],
   "source": []
  }
 ],
 "metadata": {
  "kernelspec": {
   "display_name": "Python 3 (ipykernel)",
   "language": "python",
   "name": "python3"
  },
  "language_info": {
   "codemirror_mode": {
    "name": "ipython",
    "version": 3
   },
   "file_extension": ".py",
   "mimetype": "text/x-python",
   "name": "python",
   "nbconvert_exporter": "python",
   "pygments_lexer": "ipython3",
   "version": "3.9.7"
  }
 },
 "nbformat": 4,
 "nbformat_minor": 5
}
