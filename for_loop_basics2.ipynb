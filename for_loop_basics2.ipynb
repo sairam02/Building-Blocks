{
 "cells": [
  {
   "cell_type": "code",
   "execution_count": 1,
   "id": "815f9aa1",
   "metadata": {},
   "outputs": [
    {
     "name": "stdout",
     "output_type": "stream",
     "text": [
      "enter your first name : sairam\n",
      "enter your last name : yerramsetti\n",
      "correct name\n"
     ]
    }
   ],
   "source": [
    "firstname = input(\"enter your first name : \")\n",
    "lastname = input(\"enter your last name : \")\n",
    "\n",
    "if firstname == 'sairam' and lastname == 'yerramsetti':\n",
    "    print('correct name')\n",
    "else:\n",
    "    print('incorrect name')"
   ]
  },
  {
   "cell_type": "code",
   "execution_count": 2,
   "id": "f6347504",
   "metadata": {},
   "outputs": [],
   "source": [
    "## while loop"
   ]
  },
  {
   "cell_type": "code",
   "execution_count": 3,
   "id": "3a5e914f",
   "metadata": {},
   "outputs": [
    {
     "name": "stdout",
     "output_type": "stream",
     "text": [
      " this is my speed \n",
      " this is my speed \n",
      " this is my speed \n",
      " this is my speed \n",
      " this is my speed \n",
      " this is my speed \n",
      " this is my speed \n",
      " this is my speed \n",
      " this is my speed \n"
     ]
    }
   ],
   "source": [
    "intial_speed = 0\n",
    "final_speed = 100\n",
    "count = 1\n",
    "while intial_speed < final_speed:\n",
    "    print(\" this is my speed \")\n",
    "    count = count +1\n",
    "    if count == 10:\n",
    "        break"
   ]
  },
  {
   "cell_type": "code",
   "execution_count": 4,
   "id": "3b19c94c",
   "metadata": {},
   "outputs": [
    {
     "name": "stdout",
     "output_type": "stream",
     "text": [
      "1\n",
      "2\n",
      "3\n",
      "4\n",
      "no 10 rs notes are available\n"
     ]
    }
   ],
   "source": [
    "notes = 5\n",
    "i = 1\n",
    "while i < notes:\n",
    "    print(i)\n",
    "    i = i+1\n",
    "else:\n",
    "    print(\"no 10 rs notes are available\")"
   ]
  },
  {
   "cell_type": "code",
   "execution_count": 8,
   "id": "43f07cbd",
   "metadata": {},
   "outputs": [],
   "source": [
    "s = \"my name is sairam yerramsetti\""
   ]
  },
  {
   "cell_type": "code",
   "execution_count": 11,
   "id": "71367dea",
   "metadata": {},
   "outputs": [
    {
     "data": {
      "text/plain": [
       "'name is'"
      ]
     },
     "execution_count": 11,
     "metadata": {},
     "output_type": "execute_result"
    }
   ],
   "source": [
    "s[3:10]"
   ]
  },
  {
   "cell_type": "code",
   "execution_count": 13,
   "id": "1a65c53b",
   "metadata": {},
   "outputs": [
    {
     "data": {
      "text/plain": [
       "' si ema'"
      ]
     },
     "execution_count": 13,
     "metadata": {},
     "output_type": "execute_result"
    }
   ],
   "source": [
    "s[10:3:-1]"
   ]
  },
  {
   "cell_type": "code",
   "execution_count": 15,
   "id": "4a1ea73f",
   "metadata": {},
   "outputs": [
    {
     "name": "stdout",
     "output_type": "stream",
     "text": [
      "m\n",
      "y\n",
      " \n",
      "n\n",
      "a\n",
      "m\n",
      "e\n",
      " \n",
      "i\n",
      "s\n",
      " \n",
      "s\n",
      "a\n",
      "i\n",
      "r\n",
      "a\n",
      "m\n",
      " \n",
      "y\n",
      "e\n",
      "r\n",
      "r\n",
      "a\n",
      "m\n",
      "s\n",
      "e\n",
      "t\n",
      "t\n",
      "i\n"
     ]
    }
   ],
   "source": [
    "for i in s:\n",
    "    print(i)"
   ]
  },
  {
   "cell_type": "code",
   "execution_count": 18,
   "id": "7c264953",
   "metadata": {},
   "outputs": [
    {
     "name": "stdout",
     "output_type": "stream",
     "text": [
      "m\n",
      "y\n",
      " \n",
      "n\n",
      "a\n",
      "m\n",
      "e\n",
      " \n",
      "i\n",
      " i got s as a string\n",
      "s\n",
      " \n",
      " i got s as a string\n",
      "s\n",
      "a\n",
      "i\n",
      "r\n",
      "a\n",
      "m\n",
      " \n",
      "y\n",
      "e\n",
      "r\n",
      "r\n",
      "a\n",
      "m\n",
      " i got s as a string\n",
      "s\n",
      "e\n",
      "t\n",
      "t\n",
      "i\n"
     ]
    }
   ],
   "source": [
    "for i in s :\n",
    "    if i == \"s\":\n",
    "        print(\" i got s as a string\")\n",
    "    print(i)"
   ]
  },
  {
   "cell_type": "code",
   "execution_count": null,
   "id": "410c5eaa",
   "metadata": {},
   "outputs": [],
   "source": []
  },
  {
   "cell_type": "code",
   "execution_count": null,
   "id": "0dd035fd",
   "metadata": {},
   "outputs": [],
   "source": []
  },
  {
   "cell_type": "code",
   "execution_count": null,
   "id": "8ea2e2ee",
   "metadata": {},
   "outputs": [],
   "source": []
  },
  {
   "cell_type": "code",
   "execution_count": null,
   "id": "b839b171",
   "metadata": {},
   "outputs": [],
   "source": []
  },
  {
   "cell_type": "code",
   "execution_count": null,
   "id": "f3346c98",
   "metadata": {},
   "outputs": [],
   "source": []
  },
  {
   "cell_type": "code",
   "execution_count": null,
   "id": "f7504442",
   "metadata": {},
   "outputs": [],
   "source": []
  }
 ],
 "metadata": {
  "kernelspec": {
   "display_name": "Python 3 (ipykernel)",
   "language": "python",
   "name": "python3"
  },
  "language_info": {
   "codemirror_mode": {
    "name": "ipython",
    "version": 3
   },
   "file_extension": ".py",
   "mimetype": "text/x-python",
   "name": "python",
   "nbconvert_exporter": "python",
   "pygments_lexer": "ipython3",
   "version": "3.9.7"
  }
 },
 "nbformat": 4,
 "nbformat_minor": 5
}
