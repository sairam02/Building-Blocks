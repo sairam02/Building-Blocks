{
 "cells": [
  {
   "cell_type": "code",
   "execution_count": 1,
   "id": "a50d08b8",
   "metadata": {},
   "outputs": [],
   "source": [
    "a =56 "
   ]
  },
  {
   "cell_type": "code",
   "execution_count": 2,
   "id": "2cc58b90",
   "metadata": {},
   "outputs": [
    {
     "ename": "TypeError",
     "evalue": "'int' object is not an iterator",
     "output_type": "error",
     "traceback": [
      "\u001b[1;31m---------------------------------------------------------------------------\u001b[0m",
      "\u001b[1;31mTypeError\u001b[0m                                 Traceback (most recent call last)",
      "\u001b[1;32mC:\\Users\\SAIRAM~1\\AppData\\Local\\Temp/ipykernel_608/1242322984.py\u001b[0m in \u001b[0;36m<module>\u001b[1;34m\u001b[0m\n\u001b[1;32m----> 1\u001b[1;33m \u001b[0mnext\u001b[0m\u001b[1;33m(\u001b[0m\u001b[0ma\u001b[0m\u001b[1;33m)\u001b[0m\u001b[1;33m\u001b[0m\u001b[1;33m\u001b[0m\u001b[0m\n\u001b[0m",
      "\u001b[1;31mTypeError\u001b[0m: 'int' object is not an iterator"
     ]
    }
   ],
   "source": [
    "next(a)"
   ]
  },
  {
   "cell_type": "code",
   "execution_count": 3,
   "id": "064543cc",
   "metadata": {},
   "outputs": [],
   "source": [
    "r = range(6)"
   ]
  },
  {
   "cell_type": "code",
   "execution_count": 4,
   "id": "74ae8ce5",
   "metadata": {},
   "outputs": [
    {
     "ename": "TypeError",
     "evalue": "'range' object is not an iterator",
     "output_type": "error",
     "traceback": [
      "\u001b[1;31m---------------------------------------------------------------------------\u001b[0m",
      "\u001b[1;31mTypeError\u001b[0m                                 Traceback (most recent call last)",
      "\u001b[1;32mC:\\Users\\SAIRAM~1\\AppData\\Local\\Temp/ipykernel_608/4134984757.py\u001b[0m in \u001b[0;36m<module>\u001b[1;34m\u001b[0m\n\u001b[1;32m----> 1\u001b[1;33m \u001b[0mnext\u001b[0m\u001b[1;33m(\u001b[0m\u001b[0mr\u001b[0m\u001b[1;33m)\u001b[0m\u001b[1;33m\u001b[0m\u001b[1;33m\u001b[0m\u001b[0m\n\u001b[0m",
      "\u001b[1;31mTypeError\u001b[0m: 'range' object is not an iterator"
     ]
    }
   ],
   "source": [
    "next(r)"
   ]
  },
  {
   "cell_type": "code",
   "execution_count": 5,
   "id": "4c0ba5c2",
   "metadata": {},
   "outputs": [],
   "source": [
    "r = iter(r)"
   ]
  },
  {
   "cell_type": "code",
   "execution_count": 6,
   "id": "a98b4e42",
   "metadata": {},
   "outputs": [
    {
     "data": {
      "text/plain": [
       "0"
      ]
     },
     "execution_count": 6,
     "metadata": {},
     "output_type": "execute_result"
    }
   ],
   "source": [
    "next(r)"
   ]
  },
  {
   "cell_type": "markdown",
   "id": "a85e9ff5",
   "metadata": {},
   "source": [
    "# Generator"
   ]
  },
  {
   "cell_type": "code",
   "execution_count": 7,
   "id": "d1c6f050",
   "metadata": {},
   "outputs": [
    {
     "data": {
      "text/plain": [
       "range(0, 45)"
      ]
     },
     "execution_count": 7,
     "metadata": {},
     "output_type": "execute_result"
    }
   ],
   "source": [
    "range(45)"
   ]
  },
  {
   "cell_type": "code",
   "execution_count": 8,
   "id": "3090257c",
   "metadata": {},
   "outputs": [
    {
     "data": {
      "text/plain": [
       "[0, 5, 10, 15, 20, 25, 30, 35, 40]"
      ]
     },
     "execution_count": 8,
     "metadata": {},
     "output_type": "execute_result"
    }
   ],
   "source": [
    "list(range(0,45,5))"
   ]
  },
  {
   "cell_type": "code",
   "execution_count": 11,
   "id": "471cc743",
   "metadata": {},
   "outputs": [],
   "source": [
    "def gencube(n):\n",
    "    for i in range(n):\n",
    "        return n**3"
   ]
  },
  {
   "cell_type": "code",
   "execution_count": 13,
   "id": "6b50198e",
   "metadata": {},
   "outputs": [
    {
     "data": {
      "text/plain": [
       "125"
      ]
     },
     "execution_count": 13,
     "metadata": {},
     "output_type": "execute_result"
    }
   ],
   "source": [
    "gencube(5)"
   ]
  },
  {
   "cell_type": "code",
   "execution_count": 18,
   "id": "471b70a7",
   "metadata": {},
   "outputs": [],
   "source": [
    "def gencube(n):\n",
    "    l = []\n",
    "    for i in range(n):\n",
    "        l.append(i**2)\n",
    "    return l"
   ]
  },
  {
   "cell_type": "code",
   "execution_count": 19,
   "id": "dcafacb4",
   "metadata": {},
   "outputs": [
    {
     "data": {
      "text/plain": [
       "[0, 1, 4, 9, 16, 25, 36, 49, 64]"
      ]
     },
     "execution_count": 19,
     "metadata": {},
     "output_type": "execute_result"
    }
   ],
   "source": [
    "gencube(9)"
   ]
  },
  {
   "cell_type": "code",
   "execution_count": 24,
   "id": "1d0fa7b7",
   "metadata": {},
   "outputs": [
    {
     "data": {
      "text/plain": [
       "[0, 1, 4, 9, 16, 25]"
      ]
     },
     "execution_count": 24,
     "metadata": {},
     "output_type": "execute_result"
    }
   ],
   "source": [
    "gencube(6)"
   ]
  },
  {
   "cell_type": "code",
   "execution_count": 25,
   "id": "72d24c9b",
   "metadata": {},
   "outputs": [],
   "source": [
    "def gencube(n):\n",
    "    for i in range(n) :\n",
    "        yield i**3"
   ]
  },
  {
   "cell_type": "code",
   "execution_count": 26,
   "id": "af5a790a",
   "metadata": {},
   "outputs": [
    {
     "data": {
      "text/plain": [
       "<generator object gencube at 0x000001E9B868C430>"
      ]
     },
     "execution_count": 26,
     "metadata": {},
     "output_type": "execute_result"
    }
   ],
   "source": [
    "gencube(3)"
   ]
  },
  {
   "cell_type": "code",
   "execution_count": 27,
   "id": "2923215f",
   "metadata": {},
   "outputs": [
    {
     "name": "stdout",
     "output_type": "stream",
     "text": [
      "0\n",
      "1\n",
      "8\n",
      "27\n",
      "64\n",
      "125\n",
      "216\n",
      "343\n",
      "512\n"
     ]
    }
   ],
   "source": [
    "for i in gencube(9):\n",
    "    print (i)"
   ]
  },
  {
   "cell_type": "code",
   "execution_count": 29,
   "id": "daf9ce8f",
   "metadata": {},
   "outputs": [],
   "source": [
    "def fib(n):\n",
    "    a = 1\n",
    "    b = 1\n",
    "    for i in range(n):\n",
    "        yield a,i\n",
    "        a,b = b, a+b"
   ]
  },
  {
   "cell_type": "code",
   "execution_count": 30,
   "id": "76d05dbe",
   "metadata": {},
   "outputs": [
    {
     "name": "stdout",
     "output_type": "stream",
     "text": [
      "(1, 0)\n",
      "(1, 1)\n",
      "(2, 2)\n",
      "(3, 3)\n",
      "(5, 4)\n",
      "(8, 5)\n",
      "(13, 6)\n",
      "(21, 7)\n",
      "(34, 8)\n",
      "(55, 9)\n"
     ]
    }
   ],
   "source": [
    "for i in fib(10):\n",
    "    print(i)"
   ]
  },
  {
   "cell_type": "code",
   "execution_count": 37,
   "id": "56230cff",
   "metadata": {},
   "outputs": [],
   "source": [
    "f  = open(\"test.txt\",\"w\")\n"
   ]
  },
  {
   "cell_type": "code",
   "execution_count": 38,
   "id": "bbebc141",
   "metadata": {},
   "outputs": [
    {
     "name": "stdout",
     "output_type": "stream",
     "text": [
      " Volume in drive C is Windows\n",
      " Volume Serial Number is 5A98-DA59\n",
      "\n",
      " Directory of C:\\Users\\SAIRAM YERRAMSETTI\\Desktop\\KRISH NAIK\\FSDS\n",
      "\n",
      "09-01-2022  11:54    <DIR>          .\n",
      "09-01-2022  11:54    <DIR>          ..\n",
      "09-01-2022  10:25    <DIR>          .ipynb_checkpoints\n",
      "08-01-2022  12:44            26,677 args_kwargs.ipynb\n",
      "09-01-2022  11:54            10,926 args_kwargs_2.ipynb\n",
      "23-12-2021  22:19            21,730 function.ipynb\n",
      "22-12-2021  18:54            48,388 if else , for loop.ipynb\n",
      "22-12-2021  18:59            15,657 if_else_for_loop_basics.ipynb\n",
      "27-11-2021  12:12           602,073 job rules.png\n",
      "27-11-2021  10:44    <DIR>          LinearRegression-master (1)\n",
      "27-11-2021  10:43         2,751,068 LinearRegression-master (1).zip\n",
      "21-12-2021  22:12            12,265 loops basics2.ipynb\n",
      "12-12-2021  10:48            38,696 nlp basics 1.ipynb\n",
      "12-12-2021  11:28             8,033 nlp basics 2.ipynb\n",
      "24-12-2021  09:00            25,095 prs_for loop.ipynb\n",
      "05-01-2022  23:09            11,172 prs_function1.ipynb\n",
      "17-12-2021  09:12            30,878 py basics1.ipynb\n",
      "11-12-2021  01:03                21 README.md\n",
      "09-12-2021  20:28    <DIR>          sentiment_analysis\n",
      "09-12-2021  20:27           218,863 sentiment_analysis.zip\n",
      "13-12-2021  23:12            75,320 sms spam collection classifier.ipynb\n",
      "27-11-2021  11:17           387,076 support.png\n",
      "09-01-2022  11:54                 0 test.txt\n",
      "18-12-2021  11:24            12,915 tuples.ipynb\n",
      "              19 File(s)      4,296,853 bytes\n",
      "               5 Dir(s)  116,048,183,296 bytes free\n"
     ]
    }
   ],
   "source": [
    "ls"
   ]
  },
  {
   "cell_type": "code",
   "execution_count": 36,
   "id": "bf19cdea",
   "metadata": {},
   "outputs": [
    {
     "data": {
      "text/plain": [
       "'C:\\\\Users\\\\SAIRAM YERRAMSETTI\\\\Desktop\\\\KRISH NAIK\\\\FSDS'"
      ]
     },
     "execution_count": 36,
     "metadata": {},
     "output_type": "execute_result"
    }
   ],
   "source": [
    "pwd()"
   ]
  },
  {
   "cell_type": "code",
   "execution_count": 39,
   "id": "7353e805",
   "metadata": {},
   "outputs": [
    {
     "name": "stdout",
     "output_type": "stream",
     "text": [
      " Volume in drive C is Windows\n",
      " Volume Serial Number is 5A98-DA59\n",
      "\n",
      " Directory of C:\\Users\\SAIRAM YERRAMSETTI\\Desktop\\KRISH NAIK\\FSDS\n",
      "\n",
      "09-01-2022  11:54    <DIR>          .\n",
      "09-01-2022  11:54    <DIR>          ..\n",
      "09-01-2022  10:25    <DIR>          .ipynb_checkpoints\n",
      "08-01-2022  12:44            26,677 args_kwargs.ipynb\n",
      "09-01-2022  11:54            10,926 args_kwargs_2.ipynb\n",
      "23-12-2021  22:19            21,730 function.ipynb\n",
      "22-12-2021  18:54            48,388 if else , for loop.ipynb\n",
      "22-12-2021  18:59            15,657 if_else_for_loop_basics.ipynb\n",
      "27-11-2021  12:12           602,073 job rules.png\n",
      "27-11-2021  10:44    <DIR>          LinearRegression-master (1)\n",
      "27-11-2021  10:43         2,751,068 LinearRegression-master (1).zip\n",
      "21-12-2021  22:12            12,265 loops basics2.ipynb\n",
      "12-12-2021  10:48            38,696 nlp basics 1.ipynb\n",
      "12-12-2021  11:28             8,033 nlp basics 2.ipynb\n",
      "24-12-2021  09:00            25,095 prs_for loop.ipynb\n",
      "05-01-2022  23:09            11,172 prs_function1.ipynb\n",
      "17-12-2021  09:12            30,878 py basics1.ipynb\n",
      "11-12-2021  01:03                21 README.md\n",
      "09-12-2021  20:28    <DIR>          sentiment_analysis\n",
      "09-12-2021  20:27           218,863 sentiment_analysis.zip\n",
      "13-12-2021  23:12            75,320 sms spam collection classifier.ipynb\n",
      "27-11-2021  11:17           387,076 support.png\n",
      "09-01-2022  11:54                 0 test.txt\n",
      "18-12-2021  11:24            12,915 tuples.ipynb\n",
      "              19 File(s)      4,296,853 bytes\n",
      "               5 Dir(s)  116,048,117,760 bytes free\n"
     ]
    }
   ],
   "source": [
    "%ls"
   ]
  },
  {
   "cell_type": "code",
   "execution_count": 40,
   "id": "23f6ff01",
   "metadata": {},
   "outputs": [],
   "source": [
    "f =  open('test2.txt','w')"
   ]
  },
  {
   "cell_type": "code",
   "execution_count": 41,
   "id": "e3412f31",
   "metadata": {},
   "outputs": [
    {
     "data": {
      "text/plain": [
       "60"
      ]
     },
     "execution_count": 41,
     "metadata": {},
     "output_type": "execute_result"
    }
   ],
   "source": [
    "f.write(\"This is my first file operation to something in my test2.txt\")"
   ]
  },
  {
   "cell_type": "code",
   "execution_count": 42,
   "id": "1964227f",
   "metadata": {},
   "outputs": [],
   "source": [
    "f.close()"
   ]
  },
  {
   "cell_type": "code",
   "execution_count": 46,
   "id": "4d7631de",
   "metadata": {
    "scrolled": true
   },
   "outputs": [
    {
     "name": "stdout",
     "output_type": "stream",
     "text": [
      " Volume in drive C is Windows\n",
      " Volume Serial Number is 5A98-DA59\n",
      "\n",
      " Directory of C:\\Users\\SAIRAM YERRAMSETTI\\Desktop\\KRISH NAIK\\FSDS\n",
      "\n",
      "09-01-2022  12:00    <DIR>          .\n",
      "09-01-2022  12:00    <DIR>          ..\n",
      "09-01-2022  10:25    <DIR>          .ipynb_checkpoints\n",
      "08-01-2022  12:44            26,677 args_kwargs.ipynb\n",
      "09-01-2022  12:00            22,466 args_kwargs_2.ipynb\n",
      "23-12-2021  22:19            21,730 function.ipynb\n",
      "22-12-2021  18:54            48,388 if else , for loop.ipynb\n",
      "22-12-2021  18:59            15,657 if_else_for_loop_basics.ipynb\n",
      "27-11-2021  12:12           602,073 job rules.png\n",
      "27-11-2021  10:44    <DIR>          LinearRegression-master (1)\n",
      "27-11-2021  10:43         2,751,068 LinearRegression-master (1).zip\n",
      "21-12-2021  22:12            12,265 loops basics2.ipynb\n",
      "12-12-2021  10:48            38,696 nlp basics 1.ipynb\n",
      "12-12-2021  11:28             8,033 nlp basics 2.ipynb\n",
      "24-12-2021  09:00            25,095 prs_for loop.ipynb\n",
      "05-01-2022  23:09            11,172 prs_function1.ipynb\n",
      "17-12-2021  09:12            30,878 py basics1.ipynb\n",
      "11-12-2021  01:03                21 README.md\n",
      "09-12-2021  20:28    <DIR>          sentiment_analysis\n",
      "09-12-2021  20:27           218,863 sentiment_analysis.zip\n",
      "13-12-2021  23:12            75,320 sms spam collection classifier.ipynb\n",
      "27-11-2021  11:17           387,076 support.png\n",
      "09-01-2022  11:54                 0 test.txt\n",
      "09-01-2022  11:58                60 test2.txt\n",
      "18-12-2021  11:24            12,915 tuples.ipynb\n",
      "              20 File(s)      4,308,453 bytes\n",
      "               5 Dir(s)  116,026,830,848 bytes free\n"
     ]
    }
   ],
   "source": [
    "%ls\n"
   ]
  },
  {
   "cell_type": "code",
   "execution_count": 47,
   "id": "41f7b6d0",
   "metadata": {},
   "outputs": [
    {
     "name": "stdout",
     "output_type": "stream",
     "text": [
      "Overwriting test2.txt\n"
     ]
    }
   ],
   "source": [
    "%%writefile test2.txt\n",
    "this is  a data i would like to store in my file"
   ]
  },
  {
   "cell_type": "code",
   "execution_count": 49,
   "id": "e7b86715",
   "metadata": {},
   "outputs": [],
   "source": [
    "f = open('test2.txt')"
   ]
  },
  {
   "cell_type": "code",
   "execution_count": 50,
   "id": "3da3f89f",
   "metadata": {},
   "outputs": [
    {
     "data": {
      "text/plain": [
       "'this is  a data i would like to store in my file\\n'"
      ]
     },
     "execution_count": 50,
     "metadata": {},
     "output_type": "execute_result"
    }
   ],
   "source": [
    "f.read()"
   ]
  },
  {
   "cell_type": "code",
   "execution_count": 51,
   "id": "e8aff4a9",
   "metadata": {},
   "outputs": [
    {
     "data": {
      "text/plain": [
       "4"
      ]
     },
     "execution_count": 51,
     "metadata": {},
     "output_type": "execute_result"
    }
   ],
   "source": [
    "f.seek(4)"
   ]
  },
  {
   "cell_type": "code",
   "execution_count": 52,
   "id": "e13be4ea",
   "metadata": {},
   "outputs": [
    {
     "data": {
      "text/plain": [
       "' is  a data i would like to store in my file\\n'"
      ]
     },
     "execution_count": 52,
     "metadata": {},
     "output_type": "execute_result"
    }
   ],
   "source": [
    "f.read()"
   ]
  },
  {
   "cell_type": "code",
   "execution_count": 53,
   "id": "6c99f773",
   "metadata": {},
   "outputs": [
    {
     "data": {
      "text/plain": [
       "50"
      ]
     },
     "execution_count": 53,
     "metadata": {},
     "output_type": "execute_result"
    }
   ],
   "source": [
    "f.tell()"
   ]
  },
  {
   "cell_type": "code",
   "execution_count": 56,
   "id": "cb5004f5",
   "metadata": {},
   "outputs": [
    {
     "data": {
      "text/plain": [
       "''"
      ]
     },
     "execution_count": 56,
     "metadata": {},
     "output_type": "execute_result"
    }
   ],
   "source": [
    "f.read()"
   ]
  },
  {
   "cell_type": "code",
   "execution_count": 57,
   "id": "a1fb4db5",
   "metadata": {},
   "outputs": [
    {
     "data": {
      "text/plain": [
       "5"
      ]
     },
     "execution_count": 57,
     "metadata": {},
     "output_type": "execute_result"
    }
   ],
   "source": [
    "f.seek(5)"
   ]
  },
  {
   "cell_type": "code",
   "execution_count": 58,
   "id": "6484e098",
   "metadata": {},
   "outputs": [
    {
     "data": {
      "text/plain": [
       "5"
      ]
     },
     "execution_count": 58,
     "metadata": {},
     "output_type": "execute_result"
    }
   ],
   "source": [
    "f.tell()"
   ]
  },
  {
   "cell_type": "code",
   "execution_count": 59,
   "id": "3f4b0367",
   "metadata": {},
   "outputs": [],
   "source": [
    "f.close()"
   ]
  },
  {
   "cell_type": "code",
   "execution_count": 76,
   "id": "dbd78b8f",
   "metadata": {},
   "outputs": [],
   "source": [
    "f = open(\"test2.txt\", \"r+\")"
   ]
  },
  {
   "cell_type": "code",
   "execution_count": 77,
   "id": "678229fa",
   "metadata": {},
   "outputs": [
    {
     "data": {
      "text/plain": [
       "'this is  a data i would like to store in my file.\\nmaking changes to understand the readfile operation.\\n\\n'"
      ]
     },
     "execution_count": 77,
     "metadata": {},
     "output_type": "execute_result"
    }
   ],
   "source": [
    "f.read()"
   ]
  },
  {
   "cell_type": "code",
   "execution_count": 78,
   "id": "0ce8b2dc",
   "metadata": {},
   "outputs": [
    {
     "data": {
      "text/plain": [
       "107"
      ]
     },
     "execution_count": 78,
     "metadata": {},
     "output_type": "execute_result"
    }
   ],
   "source": [
    "f.tell()"
   ]
  },
  {
   "cell_type": "code",
   "execution_count": 79,
   "id": "a033b5fb",
   "metadata": {},
   "outputs": [
    {
     "data": {
      "text/plain": [
       "0"
      ]
     },
     "execution_count": 79,
     "metadata": {},
     "output_type": "execute_result"
    }
   ],
   "source": [
    "f.seek(0)"
   ]
  },
  {
   "cell_type": "code",
   "execution_count": 80,
   "id": "0a3cc453",
   "metadata": {},
   "outputs": [
    {
     "data": {
      "text/plain": [
       "'this is  a data i would like to store in my file.\\n'"
      ]
     },
     "execution_count": 80,
     "metadata": {},
     "output_type": "execute_result"
    }
   ],
   "source": [
    "f.readline()"
   ]
  },
  {
   "cell_type": "code",
   "execution_count": 72,
   "id": "df42e6ac",
   "metadata": {},
   "outputs": [],
   "source": [
    "f.close()"
   ]
  },
  {
   "cell_type": "code",
   "execution_count": 88,
   "id": "5c529f65",
   "metadata": {},
   "outputs": [],
   "source": [
    "f = open(\"google.txt\",\"r\")"
   ]
  },
  {
   "cell_type": "code",
   "execution_count": 87,
   "id": "b98a7691",
   "metadata": {},
   "outputs": [
    {
     "ename": "TypeError",
     "evalue": "argument should be integer or None, not 'str'",
     "output_type": "error",
     "traceback": [
      "\u001b[1;31m---------------------------------------------------------------------------\u001b[0m",
      "\u001b[1;31mTypeError\u001b[0m                                 Traceback (most recent call last)",
      "\u001b[1;32mC:\\Users\\SAIRAM~1\\AppData\\Local\\Temp/ipykernel_608/2306028314.py\u001b[0m in \u001b[0;36m<module>\u001b[1;34m\u001b[0m\n\u001b[1;32m----> 1\u001b[1;33m f.read(\"\"\" Google LLC is an American multinational technology company that specializes in Internet-related services and products, which include online advertising technologies, a search engine, cloud computing, software, and hardware. It is considered one of the Big Five companies in the American information technology industry, along with Amazon, Apple, Meta (Facebook) and Microsoft.[10]\n\u001b[0m\u001b[0;32m      2\u001b[0m \u001b[1;33m\u001b[0m\u001b[0m\n\u001b[0;32m      3\u001b[0m \u001b[0mGoogle\u001b[0m \u001b[0mwas\u001b[0m \u001b[0mfounded\u001b[0m \u001b[0mon\u001b[0m \u001b[0mSeptember\u001b[0m \u001b[1;36m4\u001b[0m\u001b[1;33m,\u001b[0m \u001b[1;36m1998\u001b[0m\u001b[1;33m,\u001b[0m \u001b[0mby\u001b[0m \u001b[0mLarry\u001b[0m \u001b[0mPage\u001b[0m \u001b[1;32mand\u001b[0m \u001b[0mSergey\u001b[0m \u001b[0mBrin\u001b[0m \u001b[1;32mwhile\u001b[0m \u001b[0mthey\u001b[0m \u001b[0mwere\u001b[0m \u001b[0mPh\u001b[0m\u001b[1;33m.\u001b[0m\u001b[0mD\u001b[0m\u001b[1;33m.\u001b[0m \u001b[0mstudents\u001b[0m \u001b[0mat\u001b[0m \u001b[0mStanford\u001b[0m \u001b[0mUniversity\u001b[0m \u001b[1;32min\u001b[0m \u001b[0mCalifornia\u001b[0m\u001b[1;33m.\u001b[0m \u001b[0mTogether\u001b[0m \u001b[0mthey\u001b[0m \u001b[0mown\u001b[0m \u001b[0mabout\u001b[0m \u001b[1;36m14\u001b[0m\u001b[1;33m%\u001b[0m \u001b[0mof\u001b[0m \u001b[0mits\u001b[0m \u001b[0mpublicly\u001b[0m\u001b[1;33m-\u001b[0m\u001b[0mlisted\u001b[0m \u001b[0mshares\u001b[0m \u001b[1;32mand\u001b[0m \u001b[0mcontrol\u001b[0m \u001b[1;36m56\u001b[0m\u001b[1;33m%\u001b[0m \u001b[0mof\u001b[0m \u001b[0mthe\u001b[0m \u001b[0mstockholder\u001b[0m \u001b[0mvoting\u001b[0m \u001b[0mpower\u001b[0m \u001b[0mthrough\u001b[0m \u001b[0msuper\u001b[0m\u001b[1;33m-\u001b[0m\u001b[0mvoting\u001b[0m \u001b[0mstock\u001b[0m\u001b[1;33m.\u001b[0m \u001b[0mThe\u001b[0m \u001b[0mcompany\u001b[0m \u001b[0mwent\u001b[0m \u001b[0mpublic\u001b[0m \u001b[0mvia\u001b[0m \u001b[0man\u001b[0m \u001b[0minitial\u001b[0m \u001b[0mpublic\u001b[0m \u001b[0moffering\u001b[0m \u001b[1;33m(\u001b[0m\u001b[0mIPO\u001b[0m\u001b[1;33m)\u001b[0m \u001b[1;32min\u001b[0m \u001b[1;36m2004.\u001b[0m \u001b[0mIn\u001b[0m \u001b[1;36m2015\u001b[0m\u001b[1;33m,\u001b[0m \u001b[0mGoogle\u001b[0m \u001b[0mwas\u001b[0m \u001b[0mreorganized\u001b[0m \u001b[1;32mas\u001b[0m \u001b[0ma\u001b[0m \u001b[0mwholly\u001b[0m\u001b[1;33m-\u001b[0m\u001b[0mowned\u001b[0m \u001b[0msubsidiary\u001b[0m \u001b[0mof\u001b[0m \u001b[0mAlphabet\u001b[0m \u001b[0mInc\u001b[0m\u001b[1;33m.\u001b[0m\u001b[1;33m.\u001b[0m \u001b[0mGoogle\u001b[0m \u001b[1;32mis\u001b[0m \u001b[0mAlphabet\u001b[0m\u001b[1;34m's largest subsidiary and is a holding company for Alphabet'\u001b[0m\u001b[0ms\u001b[0m \u001b[0mInternet\u001b[0m \u001b[0mproperties\u001b[0m \u001b[1;32mand\u001b[0m \u001b[0minterests\u001b[0m\u001b[1;33m.\u001b[0m \u001b[0mSundar\u001b[0m \u001b[0mPichai\u001b[0m \u001b[0mwas\u001b[0m \u001b[0mappointed\u001b[0m \u001b[0mCEO\u001b[0m \u001b[0mof\u001b[0m \u001b[0mGoogle\u001b[0m \u001b[0mon\u001b[0m \u001b[0mOctober\u001b[0m \u001b[1;36m24\u001b[0m\u001b[1;33m,\u001b[0m \u001b[1;36m2015\u001b[0m\u001b[1;33m,\u001b[0m \u001b[0mreplacing\u001b[0m \u001b[0mLarry\u001b[0m \u001b[0mPage\u001b[0m\u001b[1;33m,\u001b[0m \u001b[0mwho\u001b[0m \u001b[0mbecame\u001b[0m \u001b[0mthe\u001b[0m \u001b[0mCEO\u001b[0m \u001b[0mof\u001b[0m \u001b[0mAlphabet\u001b[0m\u001b[1;33m.\u001b[0m \u001b[0mOn\u001b[0m \u001b[0mDecember\u001b[0m \u001b[1;36m3\u001b[0m\u001b[1;33m,\u001b[0m \u001b[1;36m2019\u001b[0m\u001b[1;33m,\u001b[0m \u001b[0mPichai\u001b[0m \u001b[0malso\u001b[0m \u001b[0mbecame\u001b[0m \u001b[0mthe\u001b[0m \u001b[0mCEO\u001b[0m \u001b[0mof\u001b[0m \u001b[0mAlphabet\u001b[0m\u001b[1;33m.\u001b[0m\u001b[1;33m[\u001b[0m\u001b[1;36m11\u001b[0m\u001b[1;33m]\u001b[0m\u001b[1;33m\u001b[0m\u001b[1;33m\u001b[0m\u001b[0m\n\u001b[0;32m      4\u001b[0m \u001b[1;33m\u001b[0m\u001b[0m\n\u001b[0;32m      5\u001b[0m \u001b[0mIn\u001b[0m \u001b[1;36m2021\u001b[0m\u001b[1;33m,\u001b[0m \u001b[0mthe\u001b[0m \u001b[0mAlphabet\u001b[0m \u001b[0mWorkers\u001b[0m \u001b[0mUnion\u001b[0m \u001b[0mwas\u001b[0m \u001b[0mfounded\u001b[0m\u001b[1;33m,\u001b[0m \u001b[0mmainly\u001b[0m \u001b[0mcomposed\u001b[0m \u001b[0mof\u001b[0m \u001b[0mGoogle\u001b[0m \u001b[0memployees\u001b[0m\u001b[1;33m.\u001b[0m\u001b[1;33m[\u001b[0m\u001b[1;36m12\u001b[0m\u001b[1;33m]\u001b[0m\u001b[1;33m\u001b[0m\u001b[1;33m\u001b[0m\u001b[0m\n",
      "\u001b[1;31mTypeError\u001b[0m: argument should be integer or None, not 'str'"
     ]
    }
   ],
   "source": [
    "f.read(\"\"\" Google LLC is an American multinational technology company that specializes in Internet-related services and products, which include online advertising technologies, a search engine, cloud computing, software, and hardware. It is considered one of the Big Five companies in the American information technology industry, along with Amazon, Apple, Meta (Facebook) and Microsoft.[10]\n",
    "\n",
    "Google was founded on September 4, 1998, by Larry Page and Sergey Brin while they were Ph.D. students at Stanford University in California. Together they own about 14% of its publicly-listed shares and control 56% of the stockholder voting power through super-voting stock. The company went public via an initial public offering (IPO) in 2004. In 2015, Google was reorganized as a wholly-owned subsidiary of Alphabet Inc.. Google is Alphabet's largest subsidiary and is a holding company for Alphabet's Internet properties and interests. Sundar Pichai was appointed CEO of Google on October 24, 2015, replacing Larry Page, who became the CEO of Alphabet. On December 3, 2019, Pichai also became the CEO of Alphabet.[11]\n",
    "\n",
    "In 2021, the Alphabet Workers Union was founded, mainly composed of Google employees.[12]\n",
    "\n",
    "The company's rapid growth since incorporation has included products, acquisitions, and partnerships beyond Google's core search engine, (Google Search). It offers services designed for work and productivity (Google Docs, Google Sheets, and Google Slides), email (Gmail), scheduling and time management (Google Calendar), cloud storage (Google Drive), instant messaging and video chat (Google Duo, Google Chat, and Google Meet), language translation (Google Translate), mapping and navigation (Google Maps, Waze, Google Earth, and Street View), podcast hosting (Google Podcasts), video sharing (YouTube), blog publishing (Blogger), note-taking (Google Keep and Jamboard), and photo organizing and editing (Google Photos). The company leads the development of the Android mobile operating system, the Google Chrome web browser, and Chrome OS (a lightweight, proprietary operating system based on the free and open-source Chromium OS operating system). Google has moved increasingly into hardware; from 2010 to 2015, it partnered with major electronics manufacturers in the production of its Google Nexus devices, and it released multiple hardware products in 2016, including the Google Pixel line of smartphones, Google Home smart speaker, Google Wifi mesh wireless router. Google has also experimented with becoming an Internet carrier (Google Fiber and Google Fi). \"\"\")"
   ]
  },
  {
   "cell_type": "code",
   "execution_count": 89,
   "id": "97ed02b2",
   "metadata": {},
   "outputs": [
    {
     "data": {
      "text/plain": [
       "\"Google LLC is an American multinational technology company that specializes in Internet-related services and products, which include online advertising technologies, a search engine, cloud computing, software, and hardware. It is considered one of the Big Five companies in the American information technology industry, along with Amazon, Apple, Meta (Facebook) and Microsoft.[10]\\n\\nGoogle was founded on September 4, 1998, by Larry Page and Sergey Brin while they were Ph.D. students at Stanford University in California. Together they own about 14% of its publicly-listed shares and control 56% of the stockholder voting power through super-voting stock. The company went public via an initial public offering (IPO) in 2004. In 2015, Google was reorganized as a wholly-owned subsidiary of Alphabet Inc.. Google is Alphabet's largest subsidiary and is a holding company for Alphabet's Internet properties and interests. Sundar Pichai was appointed CEO of Google on October 24, 2015, replacing Larry Page, who became the CEO of Alphabet. On December 3, 2019, Pichai also became the CEO of Alphabet.[11]\\n\\nIn 2021, the Alphabet Workers Union was founded, mainly composed of Google employees.[12]\\n\\nThe company's rapid growth since incorporation has included products, acquisitions, and partnerships beyond Google's core search engine, (Google Search). It offers services designed for work and productivity (Google Docs, Google Sheets, and Google Slides), email (Gmail), scheduling and time management (Google Calendar), cloud storage (Google Drive), instant messaging and video chat (Google Duo, Google Chat, and Google Meet), language translation (Google Translate), mapping and navigation (Google Maps, Waze, Google Earth, and Street View), podcast hosting (Google Podcasts), video sharing (YouTube), blog publishing (Blogger), note-taking (Google Keep and Jamboard), and photo organizing and editing (Google Photos). The company leads the development of the Android mobile operating system, the Google Chrome web browser, and Chrome OS (a lightweight, proprietary operating system based on the free and open-source Chromium OS operating system). Google has moved increasingly into hardware; from 2010 to 2015, it partnered with major electronics manufacturers in the production of its Google Nexus devices, and it released multiple hardware products in 2016, including the Google Pixel line of smartphones, Google Home smart speaker, Google Wifi mesh wireless router. Google has also experimented with becoming an Internet carrier (Google Fiber and Google Fi). \""
      ]
     },
     "execution_count": 89,
     "metadata": {},
     "output_type": "execute_result"
    }
   ],
   "source": [
    "f.read()"
   ]
  },
  {
   "cell_type": "code",
   "execution_count": 90,
   "id": "442dc227",
   "metadata": {},
   "outputs": [
    {
     "data": {
      "text/plain": [
       "''"
      ]
     },
     "execution_count": 90,
     "metadata": {},
     "output_type": "execute_result"
    }
   ],
   "source": [
    "f.readline()"
   ]
  },
  {
   "cell_type": "code",
   "execution_count": 92,
   "id": "3c9deeea",
   "metadata": {},
   "outputs": [
    {
     "data": {
      "text/plain": [
       "30"
      ]
     },
     "execution_count": 92,
     "metadata": {},
     "output_type": "execute_result"
    }
   ],
   "source": [
    "f.seek(30)"
   ]
  },
  {
   "cell_type": "code",
   "execution_count": 93,
   "id": "6b940a22",
   "metadata": {},
   "outputs": [
    {
     "name": "stdout",
     "output_type": "stream",
     "text": [
      "Google LLC is an American multinational technology company that specializes in Internet-related services and products, which include online advertising technologies, a search engine, cloud computing, software, and hardware. It is considered one of the Big Five companies in the American information technology industry, along with Amazon, Apple, Meta (Facebook) and Microsoft.[10]\n",
      " \n",
      " Google was founded on September 4, 1998, by Larry Page and Sergey Brin while they were Ph.D. students at Stanford University in California. Together they own about 14% of its publicly-listed shares and control 56% of the stockholder voting power through super-voting stock. The company went public via an initial public offering (IPO) in 2004. In 2015, Google was reorganized as a wholly-owned subsidiary of Alphabet Inc.. Google is Alphabet's largest subsidiary and is a holding company for Alphabet's Internet properties and interests. Sundar Pichai was appointed CEO of Google on October 24, 2015, replacing Larry Page, who became the CEO of Alphabet. On December 3, 2019, Pichai also became the CEO of Alphabet.[11]\n",
      " \n",
      " In 2021, the Alphabet Workers Union was founded, mainly composed of Google employees.[12]\n",
      " \n",
      " The company's rapid growth since incorporation has included products, acquisitions, and partnerships beyond Google's core search engine, (Google Search). It offers services designed for work and productivity (Google Docs, Google Sheets, and Google Slides), email (Gmail), scheduling and time management (Google Calendar), cloud storage (Google Drive), instant messaging and video chat (Google Duo, Google Chat, and Google Meet), language translation (Google Translate), mapping and navigation (Google Maps, Waze, Google Earth, and Street View), podcast hosting (Google Podcasts), video sharing (YouTube), blog publishing (Blogger), note-taking (Google Keep and Jamboard), and photo organizing and editing (Google Photos). The company leads the development of the Android mobile operating system, the Google Chrome web browser, and Chrome OS (a lightweight, proprietary operating system based on the free and open-source Chromium OS operating system). Google has moved increasingly into hardware; from 2010 to 2015, it partnered with major electronics manufacturers in the production of its Google Nexus devices, and it released multiple hardware products in 2016, including the Google Pixel line of smartphones, Google Home smart speaker, Google Wifi mesh wireless router. Google has also experimented with becoming an Internet carrier (Google Fiber and Google Fi).  "
     ]
    }
   ],
   "source": [
    "f = open(\"google.txt\", \"r+\")\n",
    "for line in f :\n",
    "    print(line, end=\" \")"
   ]
  },
  {
   "cell_type": "code",
   "execution_count": 94,
   "id": "c7f7bcb8",
   "metadata": {},
   "outputs": [
    {
     "data": {
      "text/plain": [
       "59"
      ]
     },
     "execution_count": 94,
     "metadata": {},
     "output_type": "execute_result"
    }
   ],
   "source": [
    "f.write(\"using r+ argument we can append the document with new data \")"
   ]
  },
  {
   "cell_type": "code",
   "execution_count": 95,
   "id": "9da98dd5",
   "metadata": {},
   "outputs": [],
   "source": [
    "f.close()"
   ]
  },
  {
   "cell_type": "code",
   "execution_count": 127,
   "id": "8cd7c433",
   "metadata": {},
   "outputs": [],
   "source": [
    "f = open(\"google.txt\", \"r+\")"
   ]
  },
  {
   "cell_type": "code",
   "execution_count": 128,
   "id": "88ce1a76",
   "metadata": {},
   "outputs": [
    {
     "data": {
      "text/plain": [
       "['Google LLC is an American multinational technology company that specializes in Internet-related services and products, which include online advertising technologies, a search engine, cloud computing, software, and hardware. It is considered one of the Big Five companies in the American information technology industry, along with Amazon, Apple, Meta (Facebook) and Microsoft.[10]\\n',\n",
       " '\\n',\n",
       " \"Google was founded on September 4, 1998, by Larry Page and Sergey Brin while they were Ph.D. students at Stanford University in California. Together they own about 14% of its publicly-listed shares and control 56% of the stockholder voting power through super-voting stock. The company went public via an initial public offering (IPO) in 2004. In 2015, Google was reorganized as a wholly-owned subsidiary of Alphabet Inc.. Google is Alphabet's largest subsidiary and is a holding company for Alphabet's Internet properties and interests. Sundar Pichai was appointed CEO of Google on October 24, 2015, replacing Larry Page, who became the CEO of Alphabet. On December 3, 2019, Pichai also became the CEO of Alphabet.[11]\\n\",\n",
       " '\\n',\n",
       " 'In 2021, the Alphabet Workers Union was founded, mainly composed of Google employees.[12]\\n',\n",
       " '\\n',\n",
       " \"The company's rapid growth since incorporation has included products, acquisitions, and partnerships beyond Google's core search engine, (Google Search). It offers services designed for work and productivity (Google Docs, Google Sheets, and Google Slides), email (Gmail), scheduling and time management (Google Calendar), cloud storage (Google Drive), instant messaging and video chat (Google Duo, Google Chat, and Google Meet), language translation (Google Translate), mapping and navigation (Google Maps, Waze, Google Earth, and Street View), podcast hosting (Google Podcasts), video sharing (YouTube), blog publishing (Blogger), note-taking (Google Keep and Jamboard), and photo organizing and editing (Google Photos). The company leads the development of the Android mobile operating system, the Google Chrome web browser, and Chrome OS (a lightweight, proprietary operating system based on the free and open-source Chromium OS operating system). Google has moved increasingly into hardware; from 2010 to 2015, it partnered with major electronics manufacturers in the production of its Google Nexus devices, and it released multiple hardware products in 2016, including the Google Pixel line of smartphones, Google Home smart speaker, Google Wifi mesh wireless router. Google has also experimented with becoming an Internet carrier (Google Fiber and Google Fi). using r+ argument we can append the document with new data \"]"
      ]
     },
     "execution_count": 128,
     "metadata": {},
     "output_type": "execute_result"
    }
   ],
   "source": [
    "f.readlines()"
   ]
  },
  {
   "cell_type": "code",
   "execution_count": 129,
   "id": "11c983ab",
   "metadata": {},
   "outputs": [],
   "source": [
    "l = [f.readlines()]"
   ]
  },
  {
   "cell_type": "code",
   "execution_count": 131,
   "id": "1e861353",
   "metadata": {},
   "outputs": [
    {
     "ename": "AttributeError",
     "evalue": "'list' object has no attribute 'split'",
     "output_type": "error",
     "traceback": [
      "\u001b[1;31m---------------------------------------------------------------------------\u001b[0m",
      "\u001b[1;31mAttributeError\u001b[0m                            Traceback (most recent call last)",
      "\u001b[1;32mC:\\Users\\SAIRAM~1\\AppData\\Local\\Temp/ipykernel_608/3993990650.py\u001b[0m in \u001b[0;36m<module>\u001b[1;34m\u001b[0m\n\u001b[1;32m----> 1\u001b[1;33m \u001b[0ml\u001b[0m\u001b[1;33m[\u001b[0m\u001b[1;36m0\u001b[0m\u001b[1;33m]\u001b[0m\u001b[1;33m.\u001b[0m\u001b[0msplit\u001b[0m\u001b[1;33m\u001b[0m\u001b[1;33m\u001b[0m\u001b[0m\n\u001b[0m",
      "\u001b[1;31mAttributeError\u001b[0m: 'list' object has no attribute 'split'"
     ]
    }
   ],
   "source": []
  },
  {
   "cell_type": "code",
   "execution_count": 119,
   "id": "be50a76e",
   "metadata": {},
   "outputs": [
    {
     "data": {
      "text/plain": [
       "[]"
      ]
     },
     "execution_count": 119,
     "metadata": {},
     "output_type": "execute_result"
    }
   ],
   "source": [
    "l"
   ]
  },
  {
   "cell_type": "code",
   "execution_count": null,
   "id": "1c73d5a2",
   "metadata": {},
   "outputs": [],
   "source": []
  },
  {
   "cell_type": "code",
   "execution_count": null,
   "id": "bb81a972",
   "metadata": {},
   "outputs": [],
   "source": []
  },
  {
   "cell_type": "code",
   "execution_count": null,
   "id": "e5954948",
   "metadata": {},
   "outputs": [],
   "source": []
  },
  {
   "cell_type": "code",
   "execution_count": 126,
   "id": "7fc28615",
   "metadata": {},
   "outputs": [],
   "source": [
    "f.close()"
   ]
  },
  {
   "cell_type": "code",
   "execution_count": 132,
   "id": "b9650e53",
   "metadata": {},
   "outputs": [
    {
     "data": {
      "text/plain": [
       "'google.txt'"
      ]
     },
     "execution_count": 132,
     "metadata": {},
     "output_type": "execute_result"
    }
   ],
   "source": [
    "f  = open(\"google.txt\",\"r+\")\n",
    "f.name"
   ]
  },
  {
   "cell_type": "code",
   "execution_count": 133,
   "id": "49eeb139",
   "metadata": {},
   "outputs": [],
   "source": [
    "l = [\"this is my line one\", \"this is my  line 2\"]"
   ]
  },
  {
   "cell_type": "code",
   "execution_count": 134,
   "id": "274ab2ab",
   "metadata": {},
   "outputs": [
    {
     "data": {
      "text/plain": [
       "36"
      ]
     },
     "execution_count": 134,
     "metadata": {},
     "output_type": "execute_result"
    }
   ],
   "source": [
    "f.write(\" i can write lines at current cursor\")"
   ]
  },
  {
   "cell_type": "code",
   "execution_count": 135,
   "id": "87441dd2",
   "metadata": {},
   "outputs": [],
   "source": [
    "f.writelines(l)"
   ]
  },
  {
   "cell_type": "code",
   "execution_count": 136,
   "id": "0ed8fe9b",
   "metadata": {},
   "outputs": [],
   "source": [
    "f.close()"
   ]
  },
  {
   "cell_type": "code",
   "execution_count": 137,
   "id": "d56980e4",
   "metadata": {},
   "outputs": [
    {
     "data": {
      "application/javascript": [
       "\n",
       "        if (window._pyforest_update_imports_cell) { window._pyforest_update_imports_cell('import os'); }\n",
       "    "
      ],
      "text/plain": [
       "<IPython.core.display.Javascript object>"
      ]
     },
     "metadata": {},
     "output_type": "display_data"
    },
    {
     "data": {
      "text/plain": [
       "'C:\\\\Users\\\\SAIRAM YERRAMSETTI\\\\Desktop\\\\KRISH NAIK\\\\FSDS'"
      ]
     },
     "execution_count": 137,
     "metadata": {},
     "output_type": "execute_result"
    }
   ],
   "source": [
    "os.getcwd()"
   ]
  },
  {
   "cell_type": "code",
   "execution_count": null,
   "id": "a1facfc7",
   "metadata": {},
   "outputs": [],
   "source": []
  }
 ],
 "metadata": {
  "kernelspec": {
   "display_name": "Python 3 (ipykernel)",
   "language": "python",
   "name": "python3"
  },
  "language_info": {
   "codemirror_mode": {
    "name": "ipython",
    "version": 3
   },
   "file_extension": ".py",
   "mimetype": "text/x-python",
   "name": "python",
   "nbconvert_exporter": "python",
   "pygments_lexer": "ipython3",
   "version": "3.9.7"
  }
 },
 "nbformat": 4,
 "nbformat_minor": 5
}
